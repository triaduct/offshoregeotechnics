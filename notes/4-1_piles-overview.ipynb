{
 "cells": [
  {
   "cell_type": "markdown",
   "id": "b1ce2c56-a2b9-48a6-9687-f2cf6492ce52",
   "metadata": {},
   "source": [
    "---\n",
    "title: \"Overview\"\n",
    "author: \"Kevin Duffy\"\n",
    "bibliography: ../bibliography.bib\n",
    "---"
   ]
  },
  {
   "cell_type": "markdown",
   "id": "c73647c7-94e9-45d0-b29e-6ec10052c2e6",
   "metadata": {},
   "source": [
    "Piles are by far the most common foundation offshore, supporting structures ranging from wind turbines, oil rigs to mooring piles. Offshore there are two main pile types that are used for large structures, like wind turbines or oil rigs: \n",
    "\n",
    "1. Steel tubular piles\n",
    "2. Drilled and grouted piles\n",
    "\n",
    "Driven tubular piles are by far the most common pile since they're comparatively easier to fabricate and install offshore, and are adaptable to a range of different subsurface conditions.\n",
    "\n",
    "Nevertheless, it's important to note that these two pile types fall on a spectrum: a spectrum that ranges from **displacement** to **replacement** piles. For example, hammering a prefabricated pile simply pushes the soil aside, densifying the soil and increasing the stresses acting on the pile. By contrast, drilled (or bored) piles remove the soil directly, putting much less stress on the surrounding soil. "
   ]
  },
  {
   "cell_type": "markdown",
   "id": "40d75451-b503-4ecc-baf1-de07741c6e57",
   "metadata": {},
   "source": [
    "## The design process\n",
    "Regardless of the pile type, design needs to consider a range of factors (@fig-design-considerations). A preliminary estimate of the pile length and diameter will come from axial and lateral capacity calculations under both large applied loads (i.e. ultimate limit state) and small applied loads (i.e. serviceability limit state), especially under cyclic loading. \n",
    "\n",
    "These dimensions will then be passed over to a driveability study, investigating whether it's actually feasible to get the pile down to the depth it needs to get to. Depending on the soil conditions, this part will consider a range of different installation conditions, particularly in terms of hammer and pile size. \n",
    "\n",
    "![Design considerations for piles [@randolphOffshoreGeotechnicalEngineering2011]](pics/axial/rangouv11-design-pile.JPG){#fig-design-considerations width=80%}\n",
    "\n",
    "Ultimately, the main aim is to find a pile type and size that balances all the design criteria listed in @fig-design-considerations, whilst optimising the number of piles (or material consumed) while doing so. For offshore wind farms especially, the design solution needs to be economical for the entire site, meaning the pile type and installation method can be readily appleid across all locations, without needing to change the installation vessel or equipment.\n",
    "\n",
    "So therefore it's quite an iterative process!\n"
   ]
  },
  {
   "cell_type": "markdown",
   "id": "b77cdfe4-ef35-45e2-bebf-c382cef6b314",
   "metadata": {},
   "source": [
    "::: {.callout-important}\n",
    "These notes will not cover lateral and cyclic loading for now. These are covered directly in the lectures and any associated material will be uploaded to Brightspace.\n",
    ":::"
   ]
  },
  {
   "cell_type": "markdown",
   "id": "128094aa-470d-4810-8b10-8c5976ce56d5",
   "metadata": {
    "tags": []
   },
   "source": [
    "## Pile response under axial loading\n",
    "Piles under an axial load $Q_0$ will exhibit a displacement at the top of the pile $s_0$, as well as displacement at the bottom of the pile $s_b$ (e.g. @fig-load-disp-curves). The difference between $s_0$ and $s_b$ corresponds to the elastic shortening or the strain/deformation $s_{el}$ in the pile itself, which is in turn correlated to the cross-sectional stiffness of the pile, as well as the resistance provided by the surrounding soil. The soil resistance is then separated into the base resistance $q_b$ and the shaft resistance $q_s$ (sometimes referred to as $\\tau_s$).  \n",
    "\n",
    "![Load-displacement curves from pile tests in the Port of Rotterdam. Several unload/reload cycles were performed on DP1 while loading the pile](pics/axial/load-displacement-curves.png){#fig-load-disp-curves width=60%}\n",
    "\n",
    "At low loads, a pile will exhibit some elasticity: returning back to its original position when the load is taken off the pile. However, as the soil is sheared more and more under higher and higher loads, the displacement quickly becomes irrecoverable. This plastic failure first initiates towards the top of the pile aruond the pile shaft, eventually propogating down to the lower part of the pile shaft. \n",
    "\n",
    "Once the pile base fails, the pile shows \"plunging\" failure the pile head, essentially defining the ultimate limit state of the pile itself--otherwise known as the pile capacity.\n"
   ]
  }
 ],
 "metadata": {
  "kernelspec": {
   "display_name": "Python 3 (ipykernel)",
   "language": "python",
   "name": "python3"
  },
  "language_info": {
   "codemirror_mode": {
    "name": "ipython",
    "version": 3
   },
   "file_extension": ".py",
   "mimetype": "text/x-python",
   "name": "python",
   "nbconvert_exporter": "python",
   "pygments_lexer": "ipython3",
   "version": "3.11.5"
  }
 },
 "nbformat": 4,
 "nbformat_minor": 5
}
