{
 "cells": [
  {
   "cell_type": "markdown",
   "id": "a7706767-1585-4fe3-b442-82865fcf02ae",
   "metadata": {},
   "source": [
    "---\n",
    "title: \"Design methods\"\n",
    "author: \"Kevin Duffy\"\n",
    "subtitle: \"What happens to a pile after installation?\"\n",
    "bibliography: ../bibliography.bib\n",
    "draft: true\n",
    "filters:\n",
    "    - shinylive\n",
    "---"
   ]
  },
  {
   "cell_type": "markdown",
   "id": "5bc5e270-a2d5-4c71-ad2e-367ab2c22842",
   "metadata": {},
   "source": [
    "Piles under an axial load $Q_0$ will exhibit a displacement at the top of the pile $s_0$, as well as displacement at the bottom of the pile $s_b$. The difference between $s_0$ and $s_b$ corresponds to the elastic shortening or the strain/deformation $s_{el}$ in the pile itself--which is in turn correlated to the cross-sectional stiffness of the pile, as well as the resistance provided by the surrounding soil.\n",
    "\n",
    "The **ultimate limit state (ULS)** describes the largest load a pile can carry before failure occurs, essentially representing the point at which very high displacements occur. \n",
    "\n",
    "The **serviceability limit state (SLS)** focusses on small displacements, and is described in **SECTION XX**.\n",
    "\n",
    "![Load-displacement curves from piles tests at Amaliahaven [@duffyApplicationAxialLoad2023] **ANNOTATE SLS AND ULS**](pics/axial-response/load-displacement-curves.png){#fig-load-displacement-curves width=60%}\n"
   ]
  },
  {
   "cell_type": "markdown",
   "id": "4400daee-853a-470e-a5d2-721b9775dc42",
   "metadata": {},
   "source": [
    "### Defining pile capacity\n",
    "Pinpointing exactly where pile failure occurred on a load-displacement curve can be a point-of-contention (e.g. **REF**), especially when load-displacement response suggests either a very \"ductile\" failure mechanism or a strain-hardening response (generally due to continuously increasing mobilisation of base resistance). \n",
    "\n",
    "Therefore design codes can often differ in how they define failure. In the United States for example, quasi-graphical methods are often used like the Davisson Offset Limit or the Butler-Hoy Criterion. Some other design methods prescribe a certain displacement at the pile head.\n",
    "\n",
    "However, most design codes determine failure as when **the *base* displacement reaches 10% of the pile diameter**. This removes the influence of elastic shortening on what is geotechnical calculation, providing a quantifiable and relevant parameter for geotechnical (and structural design). This is generally considered appropriate for driven piles (**REF THINGS IN PREVIOUS CHAPTER).\n",
    "\n",
    "For bored piles, the response underneath the pile base is generally much softer due to the installation"
   ]
  },
  {
   "cell_type": "markdown",
   "id": "fa6a83de-cebc-4bb8-a1dc-dec45e19f069",
   "metadata": {},
   "source": [
    "::: {.callout-tip title=\"**Side note:** Measuring a pile's axial capacity\" collapse=True}\n",
    "To measure a pile's actual axial capacity, there are several different ways to go about it. **Static load tests** are generally considered the most accurate way of going about it, loading the pile incrementally using, for example, a load test frame with concrete blocks (kentledge) as a reaction force.\n",
    "\n",
    "Yet static load tests last at least several hours, if not an entire day, which can often be prohibitive in terms of time (and thus costs) it adds to a project. **Dynamic load tests** are therefore an attractive alternative for getting an indication of the pile capacity. These can come in the form of \"re-strike\" tests, where the pile is equipped with a Pile Driving Analyser (PDA; essentially accelerometers and a strain gauge placed at the pile head) and one final hammer blow is applied. This gives an indication of the load-displacement response at the pile head, and then a wave mathcing program (such as [CAPWAP](https://www.pile.com/products/capwap/)) is used to match and analytical model of the pile to the results.\n",
    "\n",
    "**Rapid load tests** are very similar to dynamic load tests in that they apply an accelerating force onto the pile. However, a cushion/damper on top of the pile prolongs the duration of the blow, ensuring enough time for strain sensors along the pile to pick up the respone and reducing the more dynamic effects on the pile capacity.\n",
    "\n",
    "![Static load test with a kentledge test frame](pics/axial-response/test-frame.jpg){#fig-test-frame width=60%}\n",
    "\n",
    "::: {#fig-rapid-load-testing}\n",
    "<iframe width=\"540\" height=\"304\" src=\"https://www.youtube.com/embed/fh078n7dQcE\" title=\"StatRapid HamburgTests\" frameborder=\"0\" allow=\"accelerometer; autoplay; clipboard-write; encrypted-media; gyroscope; picture-in-picture; web-share\" referrerpolicy=\"strict-origin-when-cross-origin\" allowfullscreen></iframe>\n",
    "\n",
    "Rapid load testing\n",
    ":::\n",
    "\n",
    ":::"
   ]
  },
  {
   "cell_type": "markdown",
   "id": "f3332047-ebb4-4234-a8b1-f728002bbe43",
   "metadata": {},
   "source": [
    "### Design methods\n",
    "#### Effective stress design\n",
    "Modelling the series of stress changes that take place from installation to operational loading is often too complex for routine design. Therefore, design methods usually correlate the pile base and shaft capacities to in-situ soil properties, assessed prior to installation.\n",
    "\n",
    "The methods in API RP-2D reflect this. The code considers a \"total stress method\" for soils that behave mainly undrained (also known as the \"alpha\" method; REF CHAPTER) and an \"effective stress method\" for soils that behave drained. Therefore, for drained sandy soils we take the effective stress method, where for the shaft friction:\n",
    "\n",
    "$$\n",
    "q_s = \\beta_s \\sigma'_v = K \\tan{\\delta}  \\sigma'_v\n",
    "$$\n",
    "\n",
    "where $K$ is the lateral earth pressure coefficient and $\\sigma'_v$ is the in-situ vertical effective stress. API RP-2D also prescribes values for $\\beta_s$ (**REF TABLE**).\n",
    "\n",
    "For the base resistance:\n",
    "\n",
    "$$\n",
    "q_b = N_q \\sigma'_v\n",
    "$$\n",
    "\n",
    "There are some prescriptions by the API design method:\n",
    "\n",
    "* Table XX also includes \"limiting resistances\", describing the maximum base and shaft capacity that can be used for designing a pile. \n",
    "* The $\\beta$ coefficients cited in @tbl-api-rp2d are for open-ended piles. To account for the increase in soil displacement, $\\beta$ is increased by 25% for closed-ended piles. $N_q$ remains unchanged.\n",
    "* The internal shaft resistance of an open-ended pile is assumed to be equal to the external shaft resistance"
   ]
  },
  {
   "cell_type": "markdown",
   "id": "0fc4056a-8d0a-4c35-bce2-49456c737181",
   "metadata": {},
   "source": [
    "|                       | Shaft friction factor $\\beta$ (-) | Limiting shaft resistance $q_{s,lim}$ (kPa) | End bearing factor $N_q$ (-)| Limiting base resistance $q_{b,lim}$ (MPa) |\n",
    "|:----|:---:|:---:|:---:|:---:|\n",
    "| Medium dense          | 0.29           | 67                        | 12          | 3                        |\n",
    "| Medium dense to dense | 0.37           | 81                        | 20          | 5                        |\n",
    "| Dense to very dense   | 0.46           | 96                        | 40          | 10                       |\n",
    "| Very dense            | 0.56           | 115                       | 50          | 12                       |\n",
    "\n",
    ": API RP-2D design approach for open-ended piles. For closed-ended piles, the $\\beta$ values are increased by 25% {#tbl-api-rp2d}"
   ]
  },
  {
   "cell_type": "markdown",
   "id": "52b2fd2f-f456-4d9f-b34d-217bc68f67db",
   "metadata": {},
   "source": [
    "::: {.callout-tip title=\"**Side note:** Limiting resistances in design methods\" collapse=True}\n",
    "\n",
    "Inclusion of limiting resistances in design is a contentious topic, and originates for what was known as the \"critical depth fallacy\". \n",
    "\n",
    "By \n",
    ":::\n",
    "\n"
   ]
  },
  {
   "cell_type": "markdown",
   "id": "79412c0b-0e98-4d93-8138-69e87f871a32",
   "metadata": {},
   "source": [
    "#### CPT-based design methods\n",
    "Nevertheless, total stress and effective stress methods are generally rudimentary in nature, and give poor correlation with load test data compared to CPT-based methods. CPT-based have certain  advantages over traditional stress-based approaches since (1) the mechanisms affecting a CPT and a pile are broadly comparable and (2) the CPT provides a reliable estimate of the *in-situ* soil conditions, particularly for soils where it's difficult to collect clean, undisturbed borehole samples. \n",
    "\n",
    "While not an offshore design code per se, the CPT-based method in NEN 9997-1 underlies the basic principles of CPT-based design whereby:\n",
    "\n",
    "$$\n",
    "q_b = \\alpha_p q_{c,avg}\n",
    "$$\n",
    "\n",
    "$$\n",
    "q_s = \\alpha_s q_c\n",
    "$$\n",
    "\n",
    "where $\\alpha_p$ and $\\alpha_s$ are correlation coefficients which depend on the method of installation (**TABLE**), and $q_{c,avg}$ is determined using the Koppejan 4D/8D method (*REF CHAPTER*).\n",
    "\n",
    "Just like the API method, NEN 9997-1 also includes limiting resistances on the base (15 MPa) and shaft (CPT $q_c$ profile limited to 12-15 MPa) respectively. \n",
    "\n"
   ]
  },
  {
   "cell_type": "markdown",
   "id": "3fee3081-d362-45b3-a8fd-5fc9a825213c",
   "metadata": {},
   "source": [
    "::: {.callout-note}\n",
    "Open tubular piles are treated separately to other pile types in the 2025 update to NEN 9997-1, aligning with the guidance document *CUR 2001-8: Bearing capacity of steel pipe piles*. Neverthess, there is also an impending update to CUR 2001-8 which will align the method mroe with the Unified method.\n",
    ":::"
   ]
  },
  {
   "cell_type": "markdown",
   "id": "7b32785a-d4b9-4936-a2a1-84baed4d90d6",
   "metadata": {},
   "source": [
    "\n",
    "\n"
   ]
  },
  {
   "cell_type": "markdown",
   "id": "81ecd01b-ab6d-4119-bffc-b810255339c0",
   "metadata": {},
   "source": [
    "## Recent research into CPT-based pile design"
   ]
  },
  {
   "cell_type": "markdown",
   "id": "717b72d8-33f1-4bfc-9ad7-de33f310cde4",
   "metadata": {},
   "source": [
    "#### Databases\n",
    "$\\alpha_p$"
   ]
  },
  {
   "cell_type": "markdown",
   "id": "b014bfd9-a3b8-44f4-a992-5241e13ced29",
   "metadata": {},
   "source": [
    "#### Final filling ratio (FFR)\n",
    "In **Section XX**, we were introduced to the Plug Length Ratio (PLR) and how a plugged pile affects the radial stress regime around the pile itself. It should be noted that the PLR is a reflection of the entire installation process itself, whereas the pile base resistance will invariably be affected by changes towards the end-of-installation, which will locally affect the soil density around the pile base. Hence the **final filling ratio (FFR)** is used, which is taken as the average IFR (@eq-ifr-pile) over the final three pile diameters of installation. \n",
    "\n",
    "\n",
    "![Influence of plugging over the final 2--3 pile diameters on the mobilised based resistance](pics/axial-response/plugging-qb.png){#fig-plugging-ffr width=80%}"
   ]
  },
  {
   "cell_type": "markdown",
   "id": "84650cf3-af2c-430e-82f2-733ee3fd5d89",
   "metadata": {},
   "source": [
    "#### Limiting resistances\n",
    "As shown by the API and NEN 9997-1 methods, design methods often limit the shaft or base capacities in high strength soils. These limiting resistances primarily came from the lack of reliable load tests in very dense sand [@tekampSonderenFunderingenOp1977, @poulosFoundationsRetainingStructures2001]\n",
    "\n",
    "Pile tests at Amaliahaven [...]\n",
    "\n",
    "![Mobilisation of base resistance at the Amaliahaven pile test site in the port of Rotterdam](pics/axial-response/amaliahaven-qb.png){#fig-amaliahaven-qb width=60%}"
   ]
  },
  {
   "cell_type": "markdown",
   "id": "e06b0265-f732-4946-b39d-0308773d2ae9",
   "metadata": {},
   "source": []
  },
  {
   "cell_type": "markdown",
   "id": "c42b5bd9-bbec-4067-9c7b-ee59c4362e3c",
   "metadata": {},
   "source": [
    "## Unified method\n",
    "Up until 2020, four different CPT-based design methods were prescribed in API RP-2A: known as the Fugro, ICP, NGI and UWA methods. As part of a joint industry effort to harmonise design procedures, a so-called \"Unified\" pile design method was developed and incorporated into the ISO 19901-4 and API RP 2A.\n",
    "\n",
    "The database, presented in @lehaneCharacteristicsUnifiedDatabases2017. "
   ]
  },
  {
   "cell_type": "markdown",
   "id": "2e66100b-be58-46a4-934f-1832fff05e1c",
   "metadata": {},
   "source": [
    "| **Shaft resistance** | |\n",
    "|:---------------------|:--|\n",
    "| $Q_s = \\pi D \\int_0^L q_s \\, dz$ |  |\n",
    "| $q_s = \\left(\\frac{f_t}{f_c}\\right) (\\sigma'_{rc} + \\Delta \\sigma'_{rd}) \\tan(29^\\circ)$ |  | \n",
    "| $\\sigma'_{rc} = \\frac{q_c}{44} A_{re}^{0.3} [\\max\\left(1,\\frac{h}{D}\\right)]^{-0.4}$ |  |\n",
    "| $\\Delta \\sigma'_{rd} = (\\frac{q_c}{10}) (\\frac{q_c}{\\sigma'_v}^{-0.33}) (\\frac{d_{CPT}}{D})$ |  |\n",
    "| $\\frac{f_t}{f_c} = \\begin{cases} 1.0 & \\text{(compression)} \\\\ 0.75 & \\text{(tension)} \\end{cases}$ |  |\n",
    "| $A_{re} = 1 - \\text{PLR} \\frac{D_i}{D}^2$ |  |\n",
    "| $\\text{PLR} \\approx \\tanh\\left(0.3 \\left(\\frac{D_i}{d_{CPT}}\\right)^{0.5}\\right)$ |  |\n",
    "| **Base resistance** | |\n",
    "| $Q_b = q_{b,0.1} \\left(\\frac{\\pi D^2}{4}\\right)$ |  |\n",
    "| $q_{b,0.1} = (0.12 + 0.38 A_{re}) q_{c,avg}$ |  |\n",
    "| $A_{re} = 1 - \\text{FFR} \\left(\\frac{D_i}{D}\\right)^2 \\approx 1 - \\text{PLR} \\left(\\frac{D_i}{D}\\right)^2$ |  |\n",
    "\n",
    ": Unified pile design method [@lehaneNewUnifiedCPTbased2020] {#tbl-unified-method}"
   ]
  },
  {
   "cell_type": "markdown",
   "id": "99c59422-ca80-4f40-b9d9-16ee51420b48",
   "metadata": {},
   "source": [
    "Some other remarks:\n",
    "\n",
    "* Not one averaging method is recommended for determining $q_{c,avg}$. For homogeneous sands, the LCPC 1.5D method can be used. For more variable strata, the Koppejan 4D/8D method can be used, where $q_{c,avg} = 1.2*q_{c,4D/8D}$. Otherwise, the filter method by @boulangerInverseFilteringProcedure2018 can be used. \n",
    "* To account for the soil plug, $q_{c,avg}$ is determined using the diameter of an equivalent pile, who's area is equal to the effective area ratio $A_{re}$\n"
   ]
  },
  {
   "cell_type": "markdown",
   "id": "385b553a-49fc-4dde-8c90-557d47f86b6e",
   "metadata": {
    "tags": []
   },
   "source": [
    "## Some remaining uncertainties"
   ]
  },
  {
   "cell_type": "markdown",
   "id": "23d1ecc8-50b2-4464-be7a-433f923fc857",
   "metadata": {},
   "source": [
    "### Pile aging"
   ]
  },
  {
   "cell_type": "markdown",
   "id": "d1b3d7a0-964b-4b58-b0f8-4bc39208a955",
   "metadata": {},
   "source": [
    "**See Gavin & Igoe (2021) and Bittar et al. (2023) and Bittar and Lehane (2025)"
   ]
  },
  {
   "cell_type": "markdown",
   "id": "0906f261-c60d-4fbf-ace3-49de299a993c",
   "metadata": {},
   "source": [
    "The Unified method gives an estimation of the capacity of a driven piles about two week after installation. However, it's now well-documented (e.g. @axelssonLongtermSetupDriven2000, @limCharacterisationEffectsTime2014, @gavinEffectsPileAgeing2015, jardine6thISSMGEMcClelland2023) that piles exhibit an increase in their shaft capacities over time, a phenomenon referred to as pile aging or set-up. \n",
    "\n",
    "Two phenomena \n",
    "\n",
    "**Go through Bittar and Lehane**"
   ]
  },
  {
   "cell_type": "markdown",
   "id": "8a42b972-ed06-4cf9-ba69-7c4c231212e8",
   "metadata": {},
   "source": [
    "#### Physiochemical aging\n",
    "Gavin and Igoe (2021) performed energy-dispersive X-ray spectroscopy (EDS) on samples of crust taken from a driven steel pile and concluded that the chemical bonding that took place at that site was largely due to calcium bicarbonates precipitating out of the pore water"
   ]
  },
  {
   "cell_type": "markdown",
   "id": "eba6199e-d57b-46c7-baed-8305fe694500",
   "metadata": {},
   "source": []
  }
 ],
 "metadata": {
  "kernelspec": {
   "display_name": "Python 3 (ipykernel)",
   "language": "python",
   "name": "python3"
  },
  "language_info": {
   "codemirror_mode": {
    "name": "ipython",
    "version": 3
   },
   "file_extension": ".py",
   "mimetype": "text/x-python",
   "name": "python",
   "nbconvert_exporter": "python",
   "pygments_lexer": "ipython3",
   "version": "3.11.5"
  }
 },
 "nbformat": 4,
 "nbformat_minor": 5
}
