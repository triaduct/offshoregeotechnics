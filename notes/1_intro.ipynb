{
 "cells": [
  {
   "cell_type": "markdown",
   "id": "2a0e4aa3-812a-4a86-8be9-71988de300ee",
   "metadata": {
    "tags": []
   },
   "source": [
    "---\n",
    "title: \"Introduction\"\n",
    "subtitle: \"What makes offshore sites so much different from onshore sites?\"\n",
    "bibliography: ../bibliography.bib\n",
    "---"
   ]
  },
  {
   "cell_type": "markdown",
   "id": "a7084a9f-68c6-4056-a640-dd824bf9f46d",
   "metadata": {},
   "source": [
    "The work of engineers in the offshore sector has changed massively in the past decade, shifting from what was mainly oil and gas structures to offshore wind farms. This can even be seen by the recommended textbooks for this course: @randolphOffshoreGeotechnicalEngineering2011 and @deanOffshoreGeotechnicalEngineering2010. Both books approach offshore engineering from mainly and oil and gas perspective, whilst also acknowledging the geotechnical uncertainies that were ahead in the growing offshore wind industry. \n",
    "\n",
    "The concepts taught in these books are still highly relevant to offshore and onshore design today, as well as research and designs performed in this era. Yet it's important to be aware of the shift in both the research landscape and standardisation. Oil and gas structures tend to be bespoke design at one single location. However, offshore wind farms tend to span tens of kilometres in length (e.g. @fig-ijv-extents) and require replicable and efficient designs at all turbine locations across the wind farm.\n",
    "\n",
    "![Extents of IJmuiden Ver Wind Farm Zone (currently in design phase) compared to South Holland](pics/ijv-extents.PNG){#fig-ijv-extents width=50%}\n",
    "\n",
    "Moreover, the growth in the offshore wind sector is expected to continue to grow in the next couple of decades, with annual installations expected to grow from 8 GW in 2024, to 55 GW by 2034 [@gwecGlobalOffshoreWind2025]. Since the construction of the first offshore wind farm in Denmark in 1991, [Vindeby](https://en.wikipedia.org/wiki/Vindeby_Offshore_Wind_Farm), the inital growth of offshore wind has been pioneered by the North Sea countries—like Denmark, the United Kingdom and the Netherlands. China now leads offshore wind development, and expansion continues in Europe and other countries like in Taiwan and the United States (@fig-4coffshore-map).\n",
    "\n",
    "Research into offshore geotechnics has also rapidly grown as a result, particularly into the influence of wave and wind loading on foundation behaviour. Yet many questions also remain, particularly as many wind farms come into maturity and reach the end of their twenty-five year design lifetime. How might the foundation capacity change over time and how can we decomission or reuse these foundations in a sustainable manner?\n",
    "\n",
    "![Offshore wind farms in Europe as of August 2025. Interactive map available at [map.4coffshore.com](https://map.4coffshore.com/offshorewind/)](pics/4coffshore-map.PNG){#fig-4coffshore-map}\n"
   ]
  },
  {
   "cell_type": "markdown",
   "id": "9eefc1f4-85dc-4e82-9b91-7bb3e6f28107",
   "metadata": {
    "tags": []
   },
   "source": [
    "## Types of offshore structures\n",
    "Offshore structures can be categorised into two types: **fixed or floating**. Choosing the type of structure is dependent on a variety of factors in a variety of engineering disciplines, including geotechnical, hydraulic, mechanical and structrual engineering. \n",
    "\n",
    "While the structural concepts may differ significantly, the foundation systems used to secure these installations often share common elements. For example, piles or suction caissons may be used both for fixed installations (to resist vertical and lateral loads) and for floating systems (as anchor points for mooring lines). Consequently, geotechnical engineering plays a central role regardless of whether the superstructure is fixed or floating."
   ]
  },
  {
   "cell_type": "markdown",
   "id": "c9fbb261-4715-47ec-8687-59bbdb3e3bec",
   "metadata": {},
   "source": [
    "### Foundations for fixed structures\n",
    "**Monopiles** are perhaps the simplest foundation solution from a manufacturing and structural perspective, making it particularly useful for production in volume. As a a result, monopiles account for at least 70% of all offshore wind installations in Europe [@windeuropeWindEnergyEurope2020].\n",
    "\n",
    "![Monopile and transition pieces the SIF production facility in the port of Rotterdam](pics/sif-rotterdam.jpg){#fig-sif-rotterdam width=60%}\n",
    "\n",
    "**Jacket structures** (@fig-jackets) become more cost competitive at deeper water depths (say > 35m), and they are especially common in the oil and gas sector or for substations at offshore farms. A jacket is usually piled into the seabed each, occasionally as a pile group or with a suction bucket at each leg (@fig-jacket-suction-bucket). Jackets are also particularly prevalant in areas enveloped with very soft to soft clays, like in the Gulf of Mexico or Western Africa.\n",
    "\n",
    "::: {#fig-jackets layout-ncol=2}\n",
    "![Installation of the \"pin piles\" at each jacket leg using a jack-up platform [(from: BOEM-OPA)](https://www.flickr.com/photos/109896362@N04/52990550594/)](pics/pin-piles.jpg){#fig-pin-piles}\n",
    "\n",
    "![Transporting jackets at Seagreen offshore wind farm. Instead of piles, suction buckets are used at each jacket leg [(from: Glen Wallace)](https://www.flickr.com/photos/48048571@N04/51626348638)](pics/jacket-suction-bucket.jpg){#fig-jacket-suction-bucket}\n",
    "\n",
    "Jacket structures, with two different foundation types\n",
    ":::\n",
    "\n",
    "\n",
    "::: {.callout-tip title=\"Side note: Bringing a jacket to its final location\" collapse=\"true\"}\n",
    "\n",
    "Jackets are also often too heavy to lift directly. Therefore, they are often \"skidded\" off quayside to bring the jacket from the manufacturing facility on the quayside to a barge on the water. When the jacket reaches its final destination, it is then \"launched\" off the barge. The buoyancy of the jacket (often improved with additional, temporary buoyancy tanks) is then used used to reduce its weight, helping a crane to orientate it into its final position.\n",
    "\n",
    "<iframe width=\"560\" height=\"315\" src=\"https://www.youtube.com/embed/Tei1ed5fQBc?si=wSpI4wbLYiFnlwfT&amp;start=52\" title=\"YouTube video player\" frameborder=\"0\" allow=\"accelerometer; autoplay; clipboard-write; encrypted-media; gyroscope; picture-in-picture; web-share\" referrerpolicy=\"strict-origin-when-cross-origin\" allowfullscreen></iframe>\n",
    ":::\n",
    "\n",
    "**Gravity-based structures** are the behemoths of the offshore industry, and use their own self-weight to resist horizontal loads imposed by wind and waves. Gravity-based foundations were extensively developed for initial oil and gas development in the North Sea where heavily overconsolidated clays and dense sands covered the area, unlike the soft clays of the Gulf of Mexico. These conditions were were less suitable for driving piles in, resulting in gravity-based structures becoming a suitable alternative.\n",
    "\n",
    "::: {#fig-jackets layout-ncol=2}\n",
    "![Gravity-based foundations for Fecamp offshore wind farm in France [(from: offshorewind.biz)](https://www.offshorewind.biz/2022/02/14/fecamp-gravity-based-foundations-rise-saipem-7000-to-handle-them/)](pics/fecamp-gbs.jpg){#fig-fecamp-gbs width=70%}\n",
    "\n",
    "![Towing Troll-A gravity-based platform to its final location [(from: Equinor)](https://equinor.industriminne.no/en/troll-a-giant-move-from-fjord-to-field/)](pics/troll-a_towing.jpg){#fig-troll-a-towing width=90%}\n",
    "\n",
    "Gravity-based foundations\n",
    ":::\n",
    "\n",
    "All these structures can be installed using floating barges or ships. However, this also makes construction vulnerable to weather-induced delays such as high winds, waves or swells. **Jackups** provide an alternative. Jackups are temporary working platforms used for drilling or construction. It consists of a hull and three or more retractable legs, each with fitted with a \"spud-can\" at the base (@fig-spudcan). \n",
    "\n",
    "The geotechnical concepts governing jackup installation are largely dictated by shallow foundation principles. However, the pull-out resistance of the spudcans, along with potential settlement during operation, are also of critical importance.\n",
    "\n",
    "![The bottom of a jack-up leg, known as a spudcan [(from: COFS)](https://web.archive.org/web/20180416023739/http://www.emi.uwa.edu.au/news/uwa-team-investigate-new-footings-mobile-drilling-rigs-0)](pics/spudcan.png){#fig-spudcan width=60%}\n"
   ]
  },
  {
   "cell_type": "markdown",
   "id": "a3c40586-4059-41fd-a2da-79f984cc0a3a",
   "metadata": {},
   "source": [
    "::: {.callout-tip title=\"Side note on some piling terminology\" collapse=\"true\"}\n",
    "There are several different colloquial terms for all the foundations we see. While there isn't a universal agreed-upon definition, some general advice can be:\n",
    "\n",
    "- A **pin pile** or **jacket pile** is a slender foundation used to fix each leg of a jacket structures, where the length-to-diameter (slenderness) ratio $L/D$ is at least 10. \n",
    "- A **monopile** has an $L/D$ ratio of 8, thus behaving much stiffer compared to a pin pile under horizontal loading. \n",
    "- A **caisson** is similar in dimensions to a monopile, but is usually pushed or drilled into place instead of hammered.\n",
    "- A **bucket** or **skirt** has very low $L/D$ ratios, essentially acting as a shallow foundation. Skirts are considered as an add-on to the bottom of a gravity-based foundation to improve the horizontal capacity, whereas buckets is a term usually used for foundations installed with suction pressure.\n",
    "\n",
    "![Some general foundation definitions](pics/slenderness.png){#fig-definitions width=60%}\n",
    "\n",
    ":::"
   ]
  },
  {
   "cell_type": "markdown",
   "id": "8defec3d-fbaf-484f-b8b1-08e1a766e213",
   "metadata": {
    "tags": []
   },
   "source": [
    "### Foundations for floating structures\n",
    "Installing fixed structures in deep waters (say, >100m) is both technically challenging and expensive. Floating structures therefore became more prevalent as oil and gas exploration moved towards uncharted waters. Floating structures have inveitably been less common in the initial development of offshore wind, yet they starting to become more common are becoming more and more common--with the first commercial wind farm, Hywind in Scotalnd, startingoperation in 2017. \n",
    "\n",
    "From a structural perspective, there are four main types of floating structures (@fig-floating-structures), each using different stabilisation mechanisms to minimise rotation of the superstructure: \n",
    "\n",
    "- A **spar** platform uses ballast to move the centre-of-gravity below the centre-of-buoyancy, providing a counter-moment to any horizontal actions acting on the structure. Therefore, the geometry of the ballast (often cyclindrical) dictates the buoyancy and stability of the structure.\n",
    "- A **barge**-type structure is comparable to a ship, with a shallow draft. It uses a large waterplane area and buoyancy provide stability.\n",
    "- A **tension-leg platform (TLP)** uses taut steel moorings fixed to the seabed, with the buoyancy of the TLP hull ensuring that the mooring lines are taut at all times. \n",
    "- A **semi-submersible** also uses ballast to lower its centre-of-gravity, as well as spreading out its waterplane area to provide additional stability.\n",
    "\n",
    "From a geotechnical perspective, all of these floating structures require moorings that are fixed to anchors at the seabed. The different types of anchors as well as assessing their performance will be explored later in these notes.\n",
    "\n",
    "![Types of floating substructures [@scheuHumanExposureMotion2018]](pics/floating-structures.png){#fig-floating-structures width=80%}\n"
   ]
  },
  {
   "cell_type": "markdown",
   "id": "4e185e96-b157-4432-addd-27866f64a072",
   "metadata": {},
   "source": [
    "### Other structures: \n",
    "Offshore structures are also not limited to structures on the same scale as wind turbines or oil and gas platforms. Even the construction of these wind turbines requires the use of temporary structures like **mudmats and pile guide frames**. These primarily use shallow foundations so we'll cover them to some extent. \n",
    "\n",
    "This course focusses primarily on offshore foundations and so several things aren't covered: \n",
    "\n",
    "* Electricity or fuel also needs to be transferred across the site, and therefore **pipelines and or interconnectors** have a crucial role to play. While these seem deceptively simple at first glance, anticipating how they will behave over their lifetime is a challenge, particularly with regards to cable burial and the local topography.\n",
    "* **Dredging operations** are another very common offshore activity that isn't covered, particularly since seabed mobility and dredging machines deserve a stand-alone course in itself. \n",
    "* Coastal infrastucture, like jetties or harbours, aren't covered, as well as tunnels and bridge piers/caissons.\n",
    "\n",
    "::: {#fig-jackets layout-ncol=2}\n",
    "![Pile guide frame used for load tests in Taiwan](pics/pgf-taiwan.jpg){#fig-pgf-taiwan width=85%}\n",
    "\n",
    "![TU Delft centrifuge set-up, examining the influence of submarine landslides on pipeline performance [@zhangBehaviourBuriedPipes2019]](pics/weiyuan-pipeline.jpg){#fig-weiyuan-pipeline width=88%}\n",
    "\n",
    "Couple more examples of other offshore structures\n",
    ":::\n"
   ]
  },
  {
   "cell_type": "markdown",
   "id": "05075315-35b5-4266-a16e-9a3fd274b8ad",
   "metadata": {
    "tags": []
   },
   "source": [
    "## Features of an offshore site\n",
    "Environmental loading is one of the main unique features of an offshore site compared to onshore, especially since the relative proportion of horizontal $H$ to vertical $V$ loading is vastly different to onshore structures, where $H/V$ is much lower. An example of some of these loads is given in @fig-gbs-loading, showing how the loads can applied both on the superstructure or on the foundation itself (e.g. @fig-gbs-loading). \n",
    "\n",
    "![Loads acting on a wind turbine with a gravity-based foundation](pics/loading-on-gbs.PNG){#fig-gbs-loading width=40%}"
   ]
  },
  {
   "cell_type": "markdown",
   "id": "a7e28cb1-cef6-4fa7-8f05-0699a9a4100c",
   "metadata": {},
   "source": [
    "@randolphOffshoreGeotechnicalEngineering2011 give a nice example of how Troll A compares to an equivalent onshore structure—taking the (now abandoned) Dubai Towers skyscraper in Doha, Qatar. The self-weight of both structures is pretty comparable, but the environmental loads on Troll A are around 500% greater than on Dubai Towers—especially wave and current loading. Therefore, Troll A requires a much larger foundation area. \n",
    "\n",
    "Crucially, this horizontal loading also creates a lever arm rotating about the bottom of the platform. Therefore in deep waters (say, 100m), overturning will become the dominant failure mechanism. Conversely, in shallow waters, $M/HD$ typically lies in the range 0.35--0.70, and so sliding could become the dominant failure mechanism.\n",
    "\n",
    "Importantly, environmental loads are often time-dependent  in nature, and thus cyclical loading becomes an even more critical design criteria for offshore geotechnics. Due to the dominance of environmental loading offshore, accounting for the influence of cyclic loading on the soil response is much more important than for a typical onshore structure. Environmental forces impart significant cyclic horizontal, vertical and moment loads to offshore foundation systems, and generate excess pore water pressures in the vicinity of the foundation, reducing the effective stresses in the seabed. \n",
    "\n",
    "Environmental loads are usually calculated as part of the structural analysis, which is in turn based on meteorological and oceanographic (**metocean**) data.\n",
    "\n",
    "![Comparison between the Troll A gas platform and the now-abandoned Dubai Towers project [@randolphOffshoreGeotechnicalEngineering2011]](pics/troll-dubai-comparison.PNG){#fig-troll-dubai-comparison}\n"
   ]
  },
  {
   "cell_type": "markdown",
   "id": "633275a3-10ec-436e-bba4-6f02e71d56b0",
   "metadata": {},
   "source": [
    "::: {.callout-tip title=\"Side note: A one-in-one-hundred-year storm event\" collapse=\"true\"}\n",
    "Environmental loads are typically specified in terms of a particular **return period**. A return period is the average time interval expected between the occurrences of an event of a certain magnitude. Therefore, in any given year, the probability of an $N$ year event happening is approximately\n",
    "\n",
    "$$\n",
    "p_1 = 1/N\n",
    "$$\n",
    "\n",
    "Therefore, the probability that at least one event will happen in the lifespan $L$ of a structure is:\n",
    "\n",
    "$$\n",
    "p_L = 1-(1-\\frac{1}{N})^L\n",
    "$$\n",
    "\n",
    "A 100-year return period, for instance, indicates a 1% probability of such an event occurring in any given year. However, it does **_not_** mean that the event will happen exactly once every 100 years. \n",
    "\n",
    ":::"
   ]
  },
  {
   "cell_type": "markdown",
   "id": "120c50dc-12e0-46c3-873f-1ce528b7fc5e",
   "metadata": {
    "tags": []
   },
   "source": [
    "### Wind loading\n",
    "Wind loading is a key environmental action on offshore structures, contributing both directly and indirectly to design considerations. Wind exerts pressure on the exposed parts of the structure above water—such as platforms, turbines, and topsides—generating horizontal forces and overturning moments. Indirectly, wind is the primary driver of surface waves and currents, which usually dominate the geotechnical loading on foundations. While the magnitude of direct wind forces is typically smaller than hydrodynamic loads, they are important for serviceability, fatigue, and operational stability, particularly for tall, slender structures like offshore wind turbines.\n",
    "\n",
    "![A metocean mast in the foreground—yet another structure that becomes much more complicated to install offshore [(source)](https://ore.catapult.org.uk/resource-hub/case-studies/uks-critical-role-in-accelerating-floating-lidar-technology-to-market)](pics/metocean-mast.jpg){#fig-metocean-mast width=70%}\n",
    "\n",
    "### Hydrodynamic loading\n",
    "Hydrodynamic loading describes the forces caused by the motion of the ocean, including:\n",
    "\n",
    "1. Horizontal loading caused by ocean waves or currents\n",
    "2. Sediment transport (including erosion, scouring or deposition)\n",
    "\n",
    "Just like wind loads, hydrodynamic forces are both temporally and spatially dependent. For example, ocean currents vary with depth (@fig-currents); thanks in part to wind stresses on the ocean surface, tides, local topography, and differences in water temperature and salinity that give rise to density-driven circulation. \n",
    "\n",
    "As a result, hydrodynamic loads can vary greatly. Near the coast, where tides, winds, and waves act across the entire water column, loads tend to fluctuate strongly and are often highly variable over relatively short time periods. In the deep ocean, density gradients in the seawater, drive slow but persistent circulation patterns, exerting different kinds of forces on subsea infrastructure.\n",
    "\n",
    "![Different types of ocean currents [@randolphOffshoreGeotechnicalEngineering2011]](pics/currents.PNG){#fig-currents width=60%}\n",
    "\n",
    "**Surface waves** are another source of environmental loading. Their characteristics change with water depth as they transform from deep-water waves to shallow-water waves, turning into breaking waves as they approach the coastline. Waves that travel beyond the wind-affected zone are referred to as **swells**. Swells propagate across away from their area of generation and can propagate in directions that differ from the direction of the wind. Swells can come from hundreds of kilometres away, and therefore they don't necessarily occur in locally stormy weather.\n",
    "\n",
    "Both waves and currents can then lead to large amounts of sediment transport through the movement of sand-waves across the seabed, erosion and transport of shoreline deposits or scouring around the the footings of a structure. Scouring and sediment transport is of course heavily dependent on the local soil conditions, as well as the shape of the structure itself. \n",
    "\n",
    "While precisely quantifying these hydrodynamic forces isn't often the work of a geotechnical engineer, understanding how these forces vary and their effect on the foundation is still of importance.   \n",
    "\n",
    "<iframe width=\"560\" height=\"315\" src=\"https://www.youtube.com/embed/y-OYJ_5jKDE?si=bWY7-nDquz5i6Y03\" title=\"YouTube video player\" frameborder=\"0\" allow=\"accelerometer; autoplay; clipboard-write; encrypted-media; gyroscope; picture-in-picture; web-share\" referrerpolicy=\"strict-origin-when-cross-origin\" allowfullscreen></iframe>\n"
   ]
  },
  {
   "cell_type": "markdown",
   "id": "80a589d7-d7b5-405f-b74d-380c3e80612c",
   "metadata": {},
   "source": [
    "### Ice loading\n",
    "Just like wave loading, ice loading is location dependent. How it affects offshore structures depends on its strength, thickness and the velocity at which its moves across the water which are all in turn dependent on the ice age, metocean conditions and water quality--to name but a few [@sandersonIceMechanicsRisks1988]. \n",
    "\n",
    "![Ice-breaking cones at the base of a shallow jacket foundation from Nissum Bredning, Denmark](pics/nissum-bredning.jpg){#fig-nissum-bredning width=70%}\n"
   ]
  },
  {
   "cell_type": "markdown",
   "id": "dd9962ee-65d3-4344-96f6-a92b8290b338",
   "metadata": {},
   "source": [
    "## Standardisation\n",
    "Industry standards and codes provide a reliable basis for aligning expectations about a product or service, giving a framework that engineers can work with when designing a structure. Onshore, the Eurocode and associated National Annexes (like NEN 9997-1) are often the go-to resource—if not compulsory—and thus each country usually has their own rules and regulations that are specifically designed for the geotechnical conditions, structures and typical practices of that country. \n",
    "\n",
    "However offshore projects are often international collaborations, employing consultants and contractors from different countries. Furthermore, the unique structures and challenging installation conditions means many national design standards are not designed to accommodate for such construction projects.\n",
    "\n",
    "Standards often give a good overview of a particular topic, as well as being an engineer's mainstay for calculations, so its highly recommended to get familiar with the main standards when coming across a new topic. Some standards that are particularly important for offshore geotechnics:\n",
    "\n",
    "* [ISO 19901 to 19906](https://www.iso.org/obp/ui/#iso:std:iso:19900:ed-1:v1:en): Developed by the International Standards Organisation (ISO), primarily based on initial oil and gas development. \n",
    "* [API RP-2GEO](https://www.apiwebstore.org/standards/2GEO): Developed by the American Petroleum Institute and a subset of the API RP 2A. There are two versions: a Working Stress Design (WSD) approach and a Load and Resistance Factor Design (LRFD) version (see below)..\n",
    "* [DNV-RP-C212](https://www.dnv.com/energy/standards-guidelines/dnv-rp-c212-offshore-soil-mechanics-and-geotechnical-engineering/): Developed by the certification authority DNV-GL. The standard is more specifially tailored towards monopile and shallow foundation design. \n",
    "\n",
    "These standards are in addition to the litany of other standards (particularly ISO standards) which guide specific things like in-situ testing, different foundation types or load testing. \n",
    "\n",
    "Nevertheless, standards should not be regarded as static documents. The process of changing a standard takes time and they often do not include more up-to-date design methods—often since coming to a universal concensus takes time and plenty of research. For instance, the compartively recent growth of the offshore wind sector also means that current standards may not necesarily reflect the unique challenges of offshore wind [@morganInnovationOffshoreGeoscience2023]. Likewise, probabilistic methods or the use artificial intellegence algorithms are still at an elemental level in design standards. \n",
    "\n",
    "When a design and the calculations are prepared, they then get sent to a certification body, like Det Norske Veritas (DNV) or Bureau Veritas."
   ]
  },
  {
   "cell_type": "markdown",
   "id": "0aae7a25-693e-442a-b1d3-c9addfeab3cb",
   "metadata": {},
   "source": [
    "::: {.callout-note title=\"Limit state functions\"}\n",
    "Just like onshore engineering, offshore design standards are typically written in terms of certain limit states:\n",
    "\n",
    "- The **ultimate limit state (ULS)** is the maximum load-carrying capacity of a structure which, if exceeded, would lead to complete collapse. \n",
    "- The **serviceability limit state (SLS)** defines the conditions within which the structure can be kept serviceable. For example, the permanent accumulated rotation at the top of a wind turbine's foundation often may not exceed 0.5°.\n",
    "- **Accidental limit state (ALS)** corresponds to survival conditions in a damaged condition or in the presence of strongly non-linear environmental conditions or for highly unlikely events, like ship allisions.\n",
    "- **Fatigue limit states (FLS)** are limiting conditions or failures resulting from continued cyclic loading, although this generally pertains to the structure materials themselves.\n",
    ":::"
   ]
  },
  {
   "cell_type": "markdown",
   "id": "7fb28643-655c-41e4-8cf6-e93584c8b1af",
   "metadata": {},
   "source": [
    "### Factors of safety\n",
    "One way design standards can greatly differ is with how they deal with safety factors. For instance, API RP-2GEO uses **working stress design (WSD)** by default, where one global safety factor is applied:\n",
    "\n",
    "$$ \n",
    "R = (G+Q+E) \\gamma_G \n",
    "$$ \n",
    "\n",
    "where $R$ is the soil resistance, $G$ is the permanent load, $Q$ is the variable load, $E$ is the environmental load and $\\gamma_G$ is a safety factor applied to the combined effect of the three different loads, chosen based on the type of failure mechanism. In this case $\\gamma_G$ essentially accounts for tthe natural variability of soil properties, measurement errors, statistical uncertainy and model uncertainty in one factor. \n",
    "\n",
    "Nowadays, design standards are tending to shift towards a **Load and Resistance Factor Design (LRFD)** approach, like that in NEN 9997-1. With LRFD, the different types of loads are considered explicitly by using partial safety factors:\n",
    "\n",
    "$$\n",
    "\\frac{R}{\\gamma_m} = \\gamma_G G + \\gamma_q Q + \\gamma_e E\n",
    "$$\n",
    "\n",
    "Having been originally designally for WSD, API RP 2GEO now has two versions: one for WSD, and the other for LRFD. Nevertheless, nowadays the ISO and API geotechnical codes are generally aligned with one another, with some small exceptions [@colliat-dangusNewISO1990142017]."
   ]
  }
 ],
 "metadata": {
  "kernelspec": {
   "display_name": "Python 3 (ipykernel)",
   "language": "python",
   "name": "python3"
  },
  "language_info": {
   "codemirror_mode": {
    "name": "ipython",
    "version": 3
   },
   "file_extension": ".py",
   "mimetype": "text/x-python",
   "name": "python",
   "nbconvert_exporter": "python",
   "pygments_lexer": "ipython3",
   "version": "3.11.5"
  }
 },
 "nbformat": 4,
 "nbformat_minor": 5
}
