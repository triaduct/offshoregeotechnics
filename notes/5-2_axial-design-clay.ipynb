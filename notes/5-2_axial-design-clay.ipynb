{
 "cells": [
  {
   "cell_type": "markdown",
   "id": "47149c3a-1dab-49bb-9590-2b0c9970fcbf",
   "metadata": {},
   "source": [
    "---\n",
    "title: \"Design methods\"\n",
    "author: \"Kevin Duffy\"\n",
    "bibliography: ../bibliography.bib\n",
    "---"
   ]
  },
  {
   "cell_type": "markdown",
   "id": "94b9a42d-727d-40c3-8326-3f8e68d3529e",
   "metadata": {},
   "source": [
    "The concepts underlying design methods in clay are just like that in sand. Importantly: these design methods define the capacity as when the displacement reaches a base displacement of 10% of the pile diameter. \n",
    "\n",
    "While there are many design methods available (e.g @tbl-clay-methods), this section just presents two methods: the traditional total stress method in API RP-2A, and the Unified method—which was essentially a recent amalgamation of the ICP-05, NGI-05, Fugro-10 and UWA-13 methods.\n",
    "\n",
    "![Predictive performance of different design methods in clay compared to the Unified database [@lehaneCPTbasedAxialCapacity2022]. $Q_m$ is the measured capacity and $Q_c$ is the calculated (or predicted) capacity](pics/axial/lehane22-clay-methods.png){#tbl-clay-methods captionAbove=true}\n"
   ]
  },
  {
   "cell_type": "markdown",
   "id": "646f803a-5d43-4146-946e-12ec44d35e45",
   "metadata": {},
   "source": [
    "## Total stress (alpha) method\n",
    "### Shaft capacity\n",
    "API RP-2A provides a total stress approach to predicting pile capacity in clay (as opposed to effective stress for sands). It correlates the shaft resistance $q_s$ to the undrained shear strength $s_u$ by:\n",
    "\n",
    "$$ \n",
    "q_s = \\alpha s_u\n",
    "$$\n",
    "\n",
    "The method also distinguishes between soft normally consolidated clays and stiff overconsolidated clays since their volumetric response will also affect stress development. Therefore $\\alpha$ is determined as follows:\n",
    "\n",
    "For soft (NC) clays where $s_u < \\sigma'_{v0}$: $$\\alpha = 0.5(\\frac{s_u}{\\sigma'_{v0}})^{-0.5}$$\n",
    "\n",
    "For stiff (OC) clays where $s_u > \\sigma'_{v0}$: $$\\alpha = 0.5(\\frac{s_u}{\\sigma'_{v0}})^{-0.25}$$\n",
    "\n",
    "::: {.callout-note}\n",
    "Note that this is a different method entirely to NEN 9997-1 design method which relates the shaft capacity to the cone tip resistance using $\\alpha_s$ (or $\\alpha_p$ for the base capacity).\n",
    ":::\n",
    "\n",
    "### Base capacity\n",
    "The base capacity is then determined by relating $s_u$ to $q_b$ with the bearing capacity factor $N_c$:\n",
    "\n",
    "$$\n",
    "q_{b,0.1} = N_c s_u\n",
    "$$\n",
    "\n",
    "where $N_c$ is typically taken as 9. \n",
    "\n",
    "To account for plugging behaviour, the API RP-2A method considers just two plugging scenarios: a fully plugged pile ($IFR=0$) and a fully coring pile ($IFR=1$). Assuming $q_{s,external} = q_{s,internal} = q_{plug}$:\n",
    "\n",
    "* If $q_{plug} > q_{b,0.1}$: assume $Q_b$ acts over the whole base area (i.e. fully plugged)\n",
    "* If $q_{plug} < q_{b,0.1}$: assume $Q_b$ acts over the pile annulus (i.e. fully coring)\n"
   ]
  },
  {
   "cell_type": "markdown",
   "id": "147d555c-f593-48b7-936d-6e6bf8afbde5",
   "metadata": {},
   "source": [
    "::: {.callout-note title=\"A pitfall of alpha methods\" collapse=true}\n",
    "\n",
    "Pile installation modifies the $s_u$ profile adjacent to the pile shaft, generally creating a weaker, remoulded interface zone where the operational $\\delta_f$ values bear no resemblance to the intact soil's $s_u$ or $s_u / \\sigma'_{v0}$ values. Therefore in practice, the true $\\alpha$ ($= q_s/s_u$) value may vary considerably with soil type and position along the pile shaft and so the method generally shows a low reliability [jardineICPDesignMethods2005,@lehaneCPTbasedAxialCapacity2022] in spite of its common use in practice.\n",
    ":::\n"
   ]
  },
  {
   "cell_type": "markdown",
   "id": "663b22bc-2cf6-4251-a8c3-870b35715115",
   "metadata": {
    "tags": []
   },
   "source": [
    "\n",
    "## Unified method\n",
    "Just like in sand, a Unified method was developed [@lehaneCPTbasedAxialCapacity2022] for CPT-based prediction of pile capacity in clay.\n",
    "\n",
    "As there were less well-instrumented records in clay, the formulation is somewhat simplified compared to the Unified method in sand. As an example, while $A_{re}$ was used to give an indication of plugging behaviour in sand, $D^*$ is used in clay, providing a simplified means of reflect the lower level of displacement induced during installation of a pipe pile:\n",
    "\n",
    "$$\n",
    "D^* = (D^2 - D^2_i)^{0.5} \\quad \\text{for an open-ended pile}\n",
    "$$\n",
    "\n",
    "$$\n",
    "D^* = D \\quad \\text{for a closed-ended pile}\n",
    "$$\n",
    "\n",
    "### Shaft capacity\n",
    "Based on the calibration procedure employed by @lehaneCPTbasedAxialCapacity2022, the following provided the best estimate of the shaft capacity:\n",
    "\n",
    "$$ \n",
    "q_s = 0.07 F_{st} q_t \\max[1,(h/D^*)]^{-0.25}\n",
    "$$\n",
    "\n",
    "where $F_{st} = 1$ for clays in Zones 2, 3 and 4 in the normalised soil behaviour type chart (@robertsonSoilBehaviourType2010) and $F_{st} = 0.5 \\pm 0.2$ for Zone 1 (sensitive) clays.\n",
    "\n",
    "This provides a means of estimating the shaft resistance when the **degree of excess pore pressure dissipation after driving is more than 80%** (i.e. the average in the Unified database).\n",
    "\n",
    "::: {.callout-note}\n",
    "The Unified method does not explicitly account for tensile loading (unlike sand where $f_t / f_c = 0.7$). Tests up until now have not shown a clear dependency of shaft capacity in clay on the load direction, so it's simply assumed that the tensile capacity in clay is the same as the compressive capacity. \n",
    ":::\n",
    "\n",
    "### Base capacity\n",
    "For the base capacity, two simple formulations were given:\n",
    "\n",
    "For closed-ended piles: $$q_{b,0.1} = 0.8 q_t $$\n",
    "For open-ended piles: $$q_{b,0.1} = 0.4 q_t $$\n",
    "\n",
    "However for large diameter offshore piles, the following is suggested:\n",
    "\n",
    "$$\n",
    "q_{b,0.1} = (0.2 + 0.6A_{re})q_t\n",
    "$$ \n",
    "\n",
    "where $q_t$ is the average corrected cone resistance value in the zone extending from the pile tip to a depth of $20t$ below the pile tip ($t$ = pile wall thickness). Both $A_{re}$ and $PLR$ are calculated in the same way as sandy soils. "
   ]
  },
  {
   "cell_type": "code",
   "execution_count": null,
   "id": "414bf3c7-ef96-445a-8068-b89e6b4b1a31",
   "metadata": {},
   "outputs": [],
   "source": []
  }
 ],
 "metadata": {
  "kernelspec": {
   "display_name": "Python 3 (ipykernel)",
   "language": "python",
   "name": "python3"
  },
  "language_info": {
   "codemirror_mode": {
    "name": "ipython",
    "version": 3
   },
   "file_extension": ".py",
   "mimetype": "text/x-python",
   "name": "python",
   "nbconvert_exporter": "python",
   "pygments_lexer": "ipython3",
   "version": "3.11.5"
  }
 },
 "nbformat": 4,
 "nbformat_minor": 5
}
