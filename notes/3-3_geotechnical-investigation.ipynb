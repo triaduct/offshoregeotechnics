{
 "cells": [
  {
   "cell_type": "markdown",
   "id": "ced50427-66c6-4a42-8b24-de15b1472e30",
   "metadata": {},
   "source": [
    "---\n",
    "title: \"Geotechnical investigation\"\n",
    "subtitle: \"\"\n",
    "bibliography: ../bibliography.bib\n",
    "---"
   ]
  },
  {
   "cell_type": "markdown",
   "id": "76d52cf2-8cb0-45f4-bb06-55ed5e35955e",
   "metadata": {},
   "source": [
    "Ideally, the geotechnical (intrusive) investigation is performed after the geophysical investigation has taken place and the data has been interpreted. This is so that the geophysical investigation can identify potential geohazards and then these geohazards can be specifically evaluated in the instrusive investigation to understand what the implications may be for design."
   ]
  },
  {
   "cell_type": "markdown",
   "id": "89f568c3-3eec-45d1-ad15-dd5c4fb86136",
   "metadata": {
    "tags": []
   },
   "source": [
    "### Seabed vs downhole systems\n",
    "Working on the ocean often requires purpose-built rigs and shipping vessels. For this, there are two types of geotechnical systems for site investigation: **seabed and downhole systems**.\n",
    "\n",
    "Seabed systems are specially designed frames that can be remotely operated for the purpose of cone penetration testing or shallow sampling. This is a relatively fast way of executing tests, however, the depth of penetration is limited by the capacity of the frame. For CPT testing for example, the maximum depth a seabed frame can push a CPT is usually no more than 40m in favourable conditions, thus often rendering it insufficient for deep foundations, particularly in dense sands. \n",
    "\n",
    "::: {#fig-seabed-frame}\n",
    "<iframe width=\"560\" height=\"315\" src=\"https://www.youtube.com/embed/qmetGPFOcms?si=-P2XfFDi94DoU3eK&amp;start=15\" title=\"YouTube video player\" frameborder=\"0\" allow=\"accelerometer; autoplay; clipboard-write; encrypted-media; gyroscope; picture-in-picture; web-share\" referrerpolicy=\"strict-origin-when-cross-origin\" allowfullscreen></iframe>\n",
    "\n",
    "An example of a seabed frame in operation\n",
    ":::\n",
    "\n",
    "To explore deeper depths and collect samples, downhole systems are used. Downhole systems are connected directly to the drill ship (or jack-up platform) using a drill string. The operations often proceed in an alternating manner: first a CPT is pushed through undisturbed soil. The now-disturbed soil is then either drilled out or a sample is taken up to deck, and then the subsequent undisturbed interval is either assessed using a CPT again, or a sample is collected for description and further laboratory testing. Inevitably, this series of alternating drilling/sampling/testing is a slow process, however, the process allows for deeper samples and measurements to be collected and to some degree, can give detailed geotechnical insights into the subsurface.  \n",
    "\n",
    "If exceptionally hard layers encountered in downhole systems, it also possible to drill through and proceed with sampling/testing of subsequent layers, thus offer a good contingency if things go bad.\n",
    "\n",
    "![Example of a downhole CPT [@lunneFourthJamesMitchell2012]](pics/si/downhole-cpt.png){#fig-downhole-cpt width=90%}"
   ]
  },
  {
   "cell_type": "markdown",
   "id": "fc9c2e1b-f238-4937-9f92-e4b4f427769c",
   "metadata": {},
   "source": [
    "::: {.callout-tip title=\"**Side note: Keeping a ship steady during downhole operations**\" collapse=true}\n",
    "Keeping a ship steady during downhole penetration is no easy task. To do so, drilling ships usually use \"dynamic positioning\" (DP), whereby horizontal bow thrusters below the waterline (@fig-bow-thrusters) counter the motions induced by wind, waves and current so that ship can stay in position without the use anchors. \n",
    "\n",
    "However, these thrusters only control the rolling and drifting of the ship. Upwards and downwards movements also needed to be counteracted to prevent pressure acting on top of the drill string--in turn affecting the measurement, or worst case, buckling of the drill string itself. For this, passive heave compensation is used, allowing for the so-called \"monkey board\" to stay at the same height relative to seabed whilst the rest of the ship moves around it (@fig-monkey-board). \n",
    "\n",
    "::: {#fig-dynamic-positioning layout-ncol=2}\n",
    "![Bow thrusters on the side of a ship, also signified by a symbol visible above the waterline](pics/si/bow-thruster.jpg){#fig-bow-thrusters}\n",
    "\n",
    "![View from the deck of a drilling vessel](pics/si/drilling-vessel.png){#fig-monkey-board width=80%}\n",
    ":::\n",
    ":::"
   ]
  },
  {
   "cell_type": "markdown",
   "id": "e0703873-1edd-4c37-8b1c-f99143769d3a",
   "metadata": {},
   "source": [
    "## Drilling and sampling"
   ]
  },
  {
   "cell_type": "markdown",
   "id": "e30a5c19-8629-42a7-b95d-83b280d04a12",
   "metadata": {},
   "source": [
    "Samples of the subsurface are required a number of reasons, ranging from simple soil classification to laboratory testing for obtaining geotechnical parameters for design. There are range of different methods (@fig-sampling-methods), the choice of which depends on the desired sample quality, as well as whether or not a seabed or downhole system is being used (which inevitably becomes a question of cost). \n",
    "\n",
    "As mentioned before, seabed systems can provide data in a relatively cost-efficient manner. However in terms of soil sampling, seabed systems and associated sampling techniques can only provided information of the upper few metres, and are therefore are more prevelant for investigating the seabed conditions along pipeline routes. Examples of some sampling techniques include: \n",
    "\n",
    "- **Grab samples** enables the recovery of soil samples from the seabed. Grab samples provide disturbed providing disturbed material for simple soil classification or mineralogical testing. \n",
    "- **Box cores** also samples from just the seabed, but can provided relatively undisturbed samples for exploring strength characteristics, particularly through shear vane testing or mini-penetrometer testing.\n",
    "- A **gravity corer** (also known as a drop corer) is a steel tube with a heavy mass on top. The corer is dropped from a height several metres above the seabed, obtaining a disturbed sample for soil classification and mineralogical testing.\n",
    "- Just like a gravity corer, a **vibro corer** also obtains disturbed sediment in upper few metres of the seabed. However, a vibro corer is generally preferable for harder soil or dense sand, with a vibrator used to essentially liquefy the soil and achieve greater penetration.\n",
    "- A piston corer gets relatively undisturbed samples of the upper few metres and can also be integrated in with other techniques, like gravity coring.\n",
    "\n",
    "Downhole systems are generally preferred for obtaining deep, relatively high quality samples. These samples are collected using **push or piston sampling**, retrieving generally 1m long segments that are usually first classified and photographed offshore (along with basic index tests like water content, pocket penetrometer), and then prepared for delivery to and onshore laboratory\n",
    "\n",
    "![Different types of sampling methods [from Sterk and Stein, 2015](https://www.researchgate.net/publication/363273202_Seabed_Mineral_Deposits_An_Overview_of_Sampling_Techniques_and_Future_Developments)](pics/si/sampling-methods.png){#fig-sampling-methods width=80%}\n"
   ]
  },
  {
   "cell_type": "markdown",
   "id": "b1294b0d-c945-47ac-aadb-e5ce3124b382",
   "metadata": {},
   "source": [
    "## Cone Penetration Testing (CPT)\n",
    "The CPT has been an essential part of offshore soil investigations across the world. This come in part due to its high measurement frequency (2cm) and its relative ease-of-use in both seabed and downhole systems. \n",
    "\n",
    "Pore water pressure is also usually measured and since the hydrostatic pressure is often much higher compared to onshore (due to the seawater), a correction for the effect of pore pressure on the cone tipe resistance is important--yielding the total cone resistance $q_t$:\n",
    "\n",
    "$$\n",
    "q_t = q_c + (1-\\alpha)u_2\n",
    "$$ {#eq-qt}\n",
    "\n",
    "where $\\alpha$ is the ratio between the area of the cone shoulder (not acted on by pore pressure) to the total cross-sectional area of the cone shaft. For 10cm<sup>2</sup> cones (the most common type), $\\alpha$ is typically equal to 0.75. For 15cm<sup>2</sup> cones, $\\alpha$ is typically equal to 0.59. Especially important in soft clay **[...]**\n",
    "\n",
    "The cone tip resistance is highly dependent on the in-situ stress conditions, primarily the horizontal effective stress [@houlsbyCalibrationChamberTests1988,@lehaneOngoingDevelopmentApplications2024]. Therefore, to distinugish the component of cone resistance coming from the overburden pressure, from the \"net\" cone resistance $q_{net}$ provided by the soil, another derivation is often used:\n",
    "\n",
    "$$\n",
    "q_{net} = q_t - \\sigma_{v0}\n",
    "$$ {#eq-qnet}\n",
    "\n",
    "where $\\sigma_{v0}$ is the total overburden stress.\n",
    "\n",
    "Some other common normalised parameters include:\n",
    "\n",
    "- Normalised cone tip resistance, $Q_t=q_{net}/\\sigma'_{v0}$, sometimes also referred to as $Q$\n",
    "- Excess pore pressure ratio, $B_q = (u_2-u_0)/q_{net}$, where $u_0$ is the hydrostatic water pressure\n",
    "- Friction ratio, $F_r = f_s/q_{net}$\n",
    "\n",
    "These can all be incorporated into classification charts, such as @fig-cpt-classification-charts. @robertsonSoilClassificationUsing1990 (@fig-rob90) is often the go-to chart for geotechnical engineers to understand how the soil behaves--giving the soil behaviour type (SBT). However, the effects of increasing overconsolidation ratio or the effects of partially-drained (intermediate) soils becomes difficult to distinguish based on just $Q_t$ and $F_r$ alone. Hence, @fig-schneider08 by @schneiderAnalysisFactorsInfluencing2008 becomes another way of distinguishing these soils by incorporating the excess pore pressure ratio $B_q$.\n",
    "\n",
    "::: {#fig-cpt-classification-charts layout-ncol=2}\n",
    "![@robertsonSoilClassificationUsing1990, include the approximations used for determining $I_c$](pics/si/rob90.jpg){#fig-rob90}\n",
    "\n",
    "![@schneiderAnalysisFactorsInfluencing2008, using $B_q$ to distinguish the soil behaviour types further](pics/si/schneider08.jpg){#fig-schneider08 width=70%}\n",
    "\n",
    "CPT-based classification charts\n",
    ":::\n",
    "\n",
    "@fig-cpt-classification-charts returns categorical data. However, @fig-rob90 was pseudo-digitised by @jefferiesUseCPTuEstimate1993 to give the normalised soil behaviour type index $I_c$:\n",
    "\n",
    "$$\n",
    "I_c = [(3.47-\\log(Q_{tn})^2) + (\\log F_r +1.22)^2)]^{0.5}\n",
    "$$ {#eq-Ic}\n",
    "\n",
    "::: {.callout-note title=\"Note: Soil behaviour type indices\"}\n",
    "The *normalised* soil behaviour type index (SBTn) is referred to as $I_c$. The non-normalised soil behaviour type index is referred to as $I_{SBT}$.\n",
    ":::\n",
    "\n",
    "Beyond just soil classification, CPTs are also regularly used for deriving geotechnical properties like the undrained shear strength $s_u$ or the relative density $D_r$. These are all together too numerous to include in these notes, although as a quick first reference, you can refer to [Greggs' CPT Guide](https://www.g-i.co.nz/wp-content/uploads/greggs-cpt-guide-6th-2015.pdf). Some correlations are also available in the Python package [CPyT](https://github.com/triaduct/cpyt) under `cpyt.interpretation.correlations`."
   ]
  },
  {
   "cell_type": "markdown",
   "id": "6778f956-58f0-445e-8641-629623757f18",
   "metadata": {},
   "source": [
    "### Variations on the traditional CPT cone\n",
    "The geometry and execution procedure of a regular cone penetration tests is standardised in [ISO 22476-1](https://www.iso.org/standard/75661.html). Yet CPTs can also come with a range of different add-ons to obtain different kinds of data. The thermal CPT (T-CPT) is a variation of the thermal needle probe, and can be used to readily assess the thermal conductivity of the soil [@vardonInterpretingValidatingThermal2018] so that the thermal insulation (or energy loss) around pipelines and interconnector cables can be better understood. Cones can also be equipped with electrical resistivity sensors to provide an estimate of the soil density. \n",
    "\n",
    "CPTs can also come in various different geometries, particularly **full-flow penetrometers** like the T-bar or the ball probe (@fig-cpt-types). Full-flow penetrometers are primarily used to obtain intact and remoulded undrained strength profiles in very soft to soft soil since--in principle--they allow for soft soil to flow around the penetrometer. This mechanism offers several advantages [@dejongEvaluationUndrainedShear2011]:\n",
    "\n",
    "* Improved accuracy in soft soils since a large surface area of the probe can interact with the surrounding soil--a surface area up to ten times larger than a CPT cone\n",
    "* Corrections for overburden are less compared to a conventional CPT (@eq-qnet) because the overburden stress above and below the penetrometer is nearly equal\n",
    "* Penetration resistance is less affected by soil rigidity and stress anisotropy because the resistance measured is a function of the soil flow around the probe, rather than of complete soil displacement \n",
    "\n",
    "![Different types of CPT cones](pics/si/cpt-types.jpg){#fig-cpt-types width=70%}\n",
    "\n",
    "### Seismic cone penetration test (SCPT)\n",
    "Quite similar to cross-hole or borehole geophysics\n",
    "\n",
    "\n",
    "The SCPT integrates geophones into the CPT rod itself. Often, a two sets of geophones are placed at a fixed interval from one another (e.g. @fig-scpt), with each set consisting of three geophones which measures seismic velocities in the $x$, $y$ and $z$ directions--allowing for P-waves and S-waves to be distinguished from one another. Using one geophone set is also a possible (\"pseudo-interval method\"), but this requires additional post-processing and a good quality seismic source \n",
    "\n",
    "Typically, the SCPT focusses on getting a good quality measurement of the shear wave velocity $V_s$ and so an S-wave seismic source is used. The shear wave velocity is then linked to the small-strain shear modulus $G_0$ (also referred to as $G_{max}$) by:\n",
    "\n",
    "$$\n",
    "G_0 = \\rho V_s ^2\n",
    "$$ {#eq-G0}\n",
    "where $\\rho$ is the total soil mass density.\n",
    "\n",
    "Several things can affect the quality of SCPT tests, such as the efficacy of the seismic course, the distance between the source and the receiver(s) along with the data processing and interpretation procedure [@koretaAccuracyPrecisionSeismic2022;@santosAssessmentSeismicCone2023]. Repeatability is therefore a critical measure during the test itself.\n",
    "\n",
    "![Seismic cone penetration test](pics/si/scpt.jpg){#fig-scpt width=40%}\n",
    "\n",
    "\n",
    "|     Soil type          | Shear wave velocity $V_s$  (m/s)  |\n",
    "|------------------------|:-----------------------------:|\n",
    "|     Soft clay          | 60   – 180                    |\n",
    "|     Loose sand         | 180   – 280                   |\n",
    "|     Firm to stiff clay | 180   – 300                   |\n",
    "|     Dense sand         | 175   – 760                   |\n",
    "\n",
    ": Shear wave velocities in different soil types {#tbl-shear-wave-velocities}"
   ]
  },
  {
   "cell_type": "markdown",
   "id": "951a8147-85a3-4c60-9b15-0339b92b7d6b",
   "metadata": {},
   "source": [
    "# Laboratory testing\n",
    "## Soil tests\n",
    "Some basic soil tests also take place offshore. "
   ]
  },
  {
   "cell_type": "markdown",
   "id": "6c2a2188-91bc-4b87-a042-06e359d9058c",
   "metadata": {},
   "source": [
    "## Physical modelling\n",
    "Give some examples from TU Delft"
   ]
  }
 ],
 "metadata": {
  "kernelspec": {
   "display_name": "Python 3 (ipykernel)",
   "language": "python",
   "name": "python3"
  },
  "language_info": {
   "codemirror_mode": {
    "name": "ipython",
    "version": 3
   },
   "file_extension": ".py",
   "mimetype": "text/x-python",
   "name": "python",
   "nbconvert_exporter": "python",
   "pygments_lexer": "ipython3",
   "version": "3.11.5"
  }
 },
 "nbformat": 4,
 "nbformat_minor": 5
}
