{
 "cells": [
  {
   "cell_type": "markdown",
   "id": "173fb00c-a637-4ec9-a395-3e047d099293",
   "metadata": {},
   "source": [
    "---\n",
    "title: \"Basic mechanisms\"\n",
    "author: \"Kevin Duffy\"\n",
    "bibliography: ../bibliography.bib\n",
    "draft: true\n",
    "filters:\n",
    "    - shinylive\n",
    "---"
   ]
  },
  {
   "cell_type": "markdown",
   "id": "782ac6c7-2938-47c3-891f-4cfc201ad430",
   "metadata": {},
   "source": []
  },
  {
   "cell_type": "markdown",
   "id": "56d414f3-65a7-4a7a-850f-951e6f494f83",
   "metadata": {},
   "source": [
    "## Equalisation"
   ]
  },
  {
   "cell_type": "markdown",
   "id": "439336f6-b03c-4a52-a75e-b6ef33fa5e61",
   "metadata": {
    "tags": []
   },
   "source": [
    "Drainage in sand occurs instantly after the end of installation. However, the low permeability of fine-grained, clay soils results in a build-up of excess porewater pressure during installation. A period of equalisation then occurs after installation, where the excess porewater pressures begin to dissipate--thus increasing the effective stress acting on the pile.\n",
    "\n",
    "![Installation of a pile in clay [randolphOffshoreGeotechnicalEngineering2011]](pics/axial-response/installation-in-clay.png){#fig-installation-in-clay width=60%}\n",
    "\n",
    "Behaviour varies greatly depending on the type of clay\n",
    "\n",
    "See Norwegian PhD thesis"
   ]
  },
  {
   "cell_type": "markdown",
   "id": "0555e42e-dd65-4090-bec6-bfc5e1507406",
   "metadata": {},
   "source": [
    "## Influence of stress history\n",
    "OCR -- see Alba's thesis"
   ]
  }
 ],
 "metadata": {
  "kernelspec": {
   "display_name": "Python 3 (ipykernel)",
   "language": "python",
   "name": "python3"
  },
  "language_info": {
   "codemirror_mode": {
    "name": "ipython",
    "version": 3
   },
   "file_extension": ".py",
   "mimetype": "text/x-python",
   "name": "python",
   "nbconvert_exporter": "python",
   "pygments_lexer": "ipython3",
   "version": "3.11.5"
  }
 },
 "nbformat": 4,
 "nbformat_minor": 5
}
