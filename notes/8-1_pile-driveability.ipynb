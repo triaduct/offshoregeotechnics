{
 "cells": [
  {
   "cell_type": "markdown",
   "id": "065ccf4a-76bb-4157-bdc6-45f68b43a6eb",
   "metadata": {},
   "source": [
    "---\n",
    "title: \"Pile driveability\"\n",
    "author: \"Kevin Duffy\"\n",
    "bibliography: ../bibliography.bib\n",
    "draft: true\n",
    "---"
   ]
  },
  {
   "cell_type": "markdown",
   "id": "71df93d3-67bb-4585-9345-ae97c5c2da99",
   "metadata": {},
   "source": [
    "### Pre holidays 25/07/25\n",
    "- Was in the middle of doing the script (pile-installation_NEWEST.py) and adding a hammer spring but getting a few stability issues. "
   ]
  },
  {
   "cell_type": "markdown",
   "id": "348e3dc8-0ae0-4477-8c48-ca69e0d591d8",
   "metadata": {},
   "source": [
    "Pile driveability serves four key purposes:\n",
    "\n",
    "- Determine whether driven installation is a feasible option in getting the piles to the target depth\n",
    "- Assess the likelihood and mitigate of pile damage to excessive stresses\n",
    "- Hammer selection\n",
    "- Establish the resources needed for pile driving (e.g. time, cost, fuel, rigging equipment)\n",
    "\n",
    "Software such as GRLWEAP or AllWave.\n",
    "\n",
    "**Explain why driveability methods are more common offshore**"
   ]
  },
  {
   "cell_type": "markdown",
   "id": "2eb5582b-3b55-46e5-8151-7ddf9729d1ff",
   "metadata": {},
   "source": [
    "## Basic concepts\n",
    "(Wave equation)\n",
    "\n",
    "To simulate the shaft friction in a driveability study, we use a model quite similar to what was defined in **CHAPTER LOAD-TRANSFER**. pile-soil interface, we use what's called a **spring-damper** model. \n",
    "\n",
    "Pile driving is a dynamic process, and so energy itself is transferred from pile-to-soil, which is turned dampened (in other words, energy is lost) by molecular interactions in the soil itself. To account for this energy loss using a viscous damper.\n",
    "\n",
    "![Simulating pile-soil springs](pics/installation/analytical-model.png){#fig-install-model width=60%}\n"
   ]
  },
  {
   "cell_type": "markdown",
   "id": "775137dc-e338-4800-9077-c4f399f33783",
   "metadata": {},
   "source": [
    "## Pile-soil interaction\n",
    "We need to define how the pile interacts with the soil to \"complete\" our wave equation model. The core of most driveability assessments and software is based on the rheological framework proposed by @smithPiledrivingAnalysisWave1960. @smithPiledrivingAnalysisWave1960 proposed that the pile displacement $w$ and velocity $v$ as a function of a spring, dashpot and plastic slider (**FIGURE REF**) whereby:\n",
    "\n",
    "$$ \n",
    "T = T_s + T_d = Kw + Cv\n",
    "$$\n",
    "\n",
    "* The spring stiffness $K$ models recoverable static resistance, subject to $T_s \\le T_{max}$ (i.e. the limit of the plastic slider)\n",
    "* The plastic slider represents the yield strength of the soil $T_{max}$, essentially the point at which the pile \"slips\" through and no further resistance can be deleloped. The deformation at which $T_{max}$ is referred to as the **soil quake**\n",
    "* The viscous dashpot $C$ adds a rate-dependency into the model, and essentially dampens the movement of the spring. \n",
    "\n",
    "With that said, this is a relatively simple formulation. It misse, and so this modern forms of this equation are typically taken as:\n",
    "\n",
    "$$ \n",
    "T = \\min (1,\\frac{w}{Q})(1+Jv^n)T_{max}\n",
    "$$\n",
    "\n",
    "where, generally, the velocity power n is taken as unity, so that the dimensions of the ‘Smith’ damping coefficient J are the inverse of velocity, rather than the dimensions of C in equation (27) which are force per velocity. The quantity, Q, is the ‘quake’ or displacement at which the ultimate  static resistance, Tmax, is mobilised.\n",
    "\n",
    "\n",
    "\n",
    "You're probably unsurprised to hear that there's still shortcoming to this! \n",
    "See the IMPACT manual"
   ]
  },
  {
   "cell_type": "markdown",
   "id": "cfae7a34-855d-4ac1-8739-6223d4b00717",
   "metadata": {},
   "source": [
    "#### Quake\n",
    "Shaft quakes vary relatively little, with a quake of 2.5 mm generally considered reasonable for most soils. However, toe quakes can vary widely, as the value is highly dependent on the soil stiffness around the pile base (**REF REF**)--something which is dependent on the installation procedure and the soil type, as well as an interdependency between the two (**REF SECTION**)\n",
    "\n",
    "#### Damping \n",
    "How damping is accounted for can vary quite a bit. As a basic model, GRLWEAP takes\n",
    "\n",
    "$$ \n",
    "R_{di} = j_{si} | R_{si} | v_i\n",
    "$$\n",
    "\n",
    "where $R_{di}$ is  the damping resistance force and $j_{si}$, $v_i$ and $R_{si}$  are the Smith damping factor, the pile segment velocity, and the current static resistance force, all at segment $i$, respectively. Smith's damping factor has units of time over length. Although the Smith model was developed over half a century ago, the same basic factors for damping along the shaft, i.e., 0.15 s/m (0.05 s/ft) for sands and 0.65 s/m (0.2 s/ft) for clays are still recommended. Different values are used where measurements are made or in mixed soils. Only the toe damping recommendation changed to 0.5 s/m (0.15 s/ft) for all soil types"
   ]
  },
  {
   "cell_type": "markdown",
   "id": "2c12ccc5-df8d-4d68-bbdb-8bf7b7cb4caa",
   "metadata": {},
   "source": [
    "## Pile hammer"
   ]
  },
  {
   "cell_type": "markdown",
   "id": "f140bfb6-572d-4815-a4e5-571169a19de4",
   "metadata": {},
   "source": [
    "## Static resistance to driving (SRD) methods\n",
    "An SRD method is very similar to the static capacity methods we looked at (REF, REF) since it more or less aims to capture the same interaction mechanisms. However there are some key differences:\n",
    "\n",
    "* Static capacity methods include some degree of aging, whereas SRD methods give the instanteous capacity at the end of driving\n",
    "* Influence of the soil plug is very different under dynamic loading compared to static loading\n",
    "* SRD methods generally use best or upper-bound estimates of resistance, instead of lower bound estimates. This is to ensure that the chosen hammer can be used for all piles at a given site, reducing the likelihood of having to return onshore to get another hammer\n",
    "* Pore pressure development under high strains"
   ]
  },
  {
   "cell_type": "markdown",
   "id": "32137b48-b543-4771-915e-e63d69681970",
   "metadata": {},
   "source": [
    "## Monitoring\n"
   ]
  },
  {
   "cell_type": "code",
   "execution_count": 1,
   "id": "a13aba4c-ae1f-4e2c-9c95-1175a3515cb5",
   "metadata": {
    "tags": []
   },
   "outputs": [
    {
     "data": {
      "text/plain": [
       "<matplotlib.animation.FuncAnimation at 0x1e505077910>"
      ]
     },
     "execution_count": 1,
     "metadata": {},
     "output_type": "execute_result"
    }
   ],
   "source": [
    "# Re-import necessary packages after kernel reset\n",
    "import numpy as np\n",
    "import matplotlib.pyplot as plt\n",
    "import matplotlib.animation as animation\n",
    "\n",
    "# --- Time setup ---\n",
    "dt = 0.05\n",
    "t = np.arange(0, 10, dt)\n",
    "w = 0.03 * np.sin(2 * np.pi * 0.8 * t)  # pile head displacement\n",
    "v = np.gradient(w, dt)\n",
    "\n",
    "# --- Soil layer parameters ---\n",
    "# Layer 1 (upper shaft layer)\n",
    "Tmax1 = 10000  # N\n",
    "Q1 = 0.005     # m\n",
    "J1 = 150       # s/m\n",
    "\n",
    "# Layer 2 (lower shaft layer)\n",
    "Tmax2 = 20000  # N\n",
    "Q2 = 0.01      # m\n",
    "J2 = 300       # s/m\n",
    "\n",
    "# Base resistance\n",
    "Tmax_base = 50000  # N\n",
    "Qb = 0.007         # m\n",
    "Jb = 100           # s/m\n",
    "\n",
    "# --- Compute resistances using modern formulation ---\n",
    "def modern_resistance(w, v, Tmax, Q, J):\n",
    "    stat = np.minimum(1, np.abs(w)/Q) * Tmax * np.sign(w)\n",
    "    dyn = J * np.abs(v) * Tmax * np.sign(v)\n",
    "    return (np.minimum(1, np.abs(w)/Q) * (1 + J * np.abs(v))) * Tmax * np.sign(w)\n",
    "\n",
    "T1 = modern_resistance(w, v, Tmax1, Q1, J1)\n",
    "T2 = modern_resistance(w, v, Tmax2, Q2, J2)\n",
    "Tb = modern_resistance(w, v, Tmax_base, Qb, Jb)\n",
    "\n",
    "# --- Plot setup ---\n",
    "fig, ax = plt.subplots(figsize=(10, 6))\n",
    "ax.set_xlim(0, t[-1])\n",
    "ax.set_ylim(-80000, 80000)\n",
    "ax.set_xlabel(\"Time (s)\")\n",
    "ax.set_ylabel(\"Resistance (N)\")\n",
    "ax.set_title(\"Modern Soil Resistance: Shaft and Base (Two Layers)\")\n",
    "\n",
    "line_T1, = ax.plot([], [], 'b-', label=\"Shaft Resistance (Layer 1)\")\n",
    "line_T2, = ax.plot([], [], 'g-', label=\"Shaft Resistance (Layer 2)\")\n",
    "line_Tb, = ax.plot([], [], 'r--', label=\"Base Resistance\")\n",
    "line_Tsum, = ax.plot([], [], 'k-', lw=2, label=\"Total Resistance\")\n",
    "\n",
    "ax.legend(loc='upper right')\n",
    "\n",
    "def init():\n",
    "    line_T1.set_data([], [])\n",
    "    line_T2.set_data([], [])\n",
    "    line_Tb.set_data([], [])\n",
    "    line_Tsum.set_data([], [])\n",
    "    return line_T1, line_T2, line_Tb, line_Tsum\n",
    "\n",
    "def update(i):\n",
    "    ti = t[:i]\n",
    "    Tsum = T1[:i] + T2[:i] + Tb[:i]\n",
    "    line_T1.set_data(ti, T1[:i])\n",
    "    line_T2.set_data(ti, T2[:i])\n",
    "    line_Tb.set_data(ti, Tb[:i])\n",
    "    line_Tsum.set_data(ti, Tsum)\n",
    "    return line_T1, line_T2, line_Tb, line_Tsum\n",
    "\n",
    "ani = animation.FuncAnimation(fig, update, frames=len(t), init_func=init,\n",
    "                              interval=50, blit=True)\n",
    "plt.close(fig)\n",
    "ani"
   ]
  },
  {
   "cell_type": "code",
   "execution_count": null,
   "id": "d5e6438e-9cf8-48a1-9369-3dddbc956403",
   "metadata": {},
   "outputs": [],
   "source": []
  },
  {
   "cell_type": "markdown",
   "id": "a817af36-feed-4743-82e3-2cfda5eb0f06",
   "metadata": {},
   "source": [
    "a"
   ]
  },
  {
   "cell_type": "markdown",
   "id": "b55d6283-8888-4f64-b6df-f27fd12ff91f",
   "metadata": {},
   "source": [
    "## Pile run"
   ]
  },
  {
   "cell_type": "markdown",
   "id": "06ccd226-eabf-4fc9-bbb3-7e63d20050f2",
   "metadata": {},
   "source": [
    "### Intermediate soils"
   ]
  },
  {
   "cell_type": "markdown",
   "id": "f74d7510-91c3-4bb5-b755-7a481bea07ca",
   "metadata": {},
   "source": [
    "### Slight mention of carbonates"
   ]
  }
 ],
 "metadata": {
  "kernelspec": {
   "display_name": "Python 3 (ipykernel)",
   "language": "python",
   "name": "python3"
  },
  "language_info": {
   "codemirror_mode": {
    "name": "ipython",
    "version": 3
   },
   "file_extension": ".py",
   "mimetype": "text/x-python",
   "name": "python",
   "nbconvert_exporter": "python",
   "pygments_lexer": "ipython3",
   "version": "3.11.5"
  }
 },
 "nbformat": 4,
 "nbformat_minor": 5
}
