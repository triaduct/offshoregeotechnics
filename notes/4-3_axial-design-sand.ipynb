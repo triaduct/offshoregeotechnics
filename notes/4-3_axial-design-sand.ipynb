{
 "cells": [
  {
   "cell_type": "markdown",
   "id": "a7706767-1585-4fe3-b442-82865fcf02ae",
   "metadata": {},
   "source": [
    "---\n",
    "title: \"Design methods\"\n",
    "author: \"Kevin Duffy\"\n",
    "subtitle: \"What happens to a pile after installation?\"\n",
    "bibliography: ../bibliography.bib\n",
    "---"
   ]
  },
  {
   "cell_type": "markdown",
   "id": "5bc5e270-a2d5-4c71-ad2e-367ab2c22842",
   "metadata": {},
   "source": [
    "\n"
   ]
  },
  {
   "cell_type": "markdown",
   "id": "4400daee-853a-470e-a5d2-721b9775dc42",
   "metadata": {},
   "source": [
    "## Defining pile capacity\n",
    "Pinpointing exactly where pile failure occurred on a load-displacement curve can be a point-of-contention, especially when the load-displacement response suggests either a very \"ductile\" failure mechanism or a strain-hardening response. Ductile failure mechanisms are very common for bored/replacement piles, since the stresses imposed by installation on the surrounding soil was quite low—meaning it takes a lot of displacement to engage all the soil around the pile.\n",
    "\n",
    "Therefore design codes can often differ in how they define failure, particularly onshore codes where bored piles are used more often. Most design codes (particularly offshore) determine failure as when **the *base* displacement reaches 10% of the pile diameter** ($s_{b,0.1D}$). Driven piles generally exhibit plunging failure at $s_{b,0.1D}$, and by using the base displacement rather than the head displacement, influence of elastic shortening is removed from what should be a geotechnical calculation, providing a quantifiable and relevant parameter for geotechnical (and structural) design. "
   ]
  },
  {
   "cell_type": "markdown",
   "id": "fa6a83de-cebc-4bb8-a1dc-dec45e19f069",
   "metadata": {},
   "source": [
    "::: {.callout-tip title=\"**Side note:** Measuring a pile's axial capacity\" collapse=\"true\"}\n",
    "To measure a pile's actual axial capacity, there are several different ways to go about it. **Static load tests** are generally considered the most accurate way of going about it, loading the pile incrementally using, for example, a load test frame with concrete blocks (kentledge) as a reaction force.\n",
    "\n",
    "Yet static load tests last at least several hours, if not an entire day, which can often be prohibitive in terms of time (and thus costs) it adds to a project. **Dynamic load tests** are therefore an attractive alternative for getting an indication of the pile capacity. These can come in the form of \"re-strike\" tests, where the pile is equipped with a Pile Driving Analyser (PDA; essentially accelerometers and a strain gauge placed at the pile head) and one final hammer blow is applied. This gives an indication of the load-displacement response at the pile head, and then a wave mathcing program (such as [CAPWAP](https://www.pile.com/products/capwap/)) is used to match and analytical model of the pile to the results.\n",
    "\n",
    "**Rapid load tests** are very similar to dynamic load tests in that they apply an accelerating force onto the pile. However, a cushion/damper on top of the pile prolongs the duration of the blow, ensuring enough time for strain sensors along the pile to pick up the respone and reducing the more dynamic effects on the pile capacity.\n",
    "\n",
    "![Static load test with a kentledge test frame](pics/axial/test-frame.jpg){#fig-test-frame width=60%}\n",
    "\n",
    "::: {#fig-rapid-load-testing}\n",
    "<iframe width=\"540\" height=\"304\" src=\"https://www.youtube.com/embed/fh078n7dQcE\" title=\"StatRapid HamburgTests\" frameborder=\"0\" allow=\"accelerometer; autoplay; clipboard-write; encrypted-media; gyroscope; picture-in-picture; web-share\" referrerpolicy=\"strict-origin-when-cross-origin\" allowfullscreen></iframe>\n",
    "\n",
    "Rapid load testing\n",
    ":::\n",
    "\n",
    ":::"
   ]
  },
  {
   "cell_type": "markdown",
   "id": "f3332047-ebb4-4234-a8b1-f728002bbe43",
   "metadata": {},
   "source": [
    "## Design methods\n",
    "### Effective stress design\n",
    "Modelling the series of stress changes that take place from installation to operational loading is often too complex for routine design. Therefore, design methods usually correlate the pile base and shaft capacities to in-situ soil properties, assessed prior to installation.\n",
    "\n",
    "The methods in API RP-2D reflect this. The code considers a \"total stress method\" for soils that behave mainly undrained (also known as the \"alpha\" method) and an \"effective stress method\" for soils that behave drained. Therefore, for drained sandy soils we take the effective stress method, where for the shaft friction:\n",
    "\n",
    "$$\n",
    "q_s = \\beta_s \\sigma'_v = K \\tan{\\delta}  \\sigma'_v\n",
    "$$ {#eq-api-qb}\n",
    "\n",
    "where $\\beta_s$ is a shaft friction factor given in @tbl-api-rp2d, $K$ is the lateral earth pressure coefficient and $\\sigma'_v$ is the in-situ vertical effective stress.\n",
    "\n",
    "For the base resistance:\n",
    "\n",
    "$$\n",
    "q_b = N_q \\sigma'_v\n",
    "$$ {#eq-api-qs}\n",
    "\n",
    "where $N_q$ is an end-bearing factor given in @tbl-api-rp2d.\n",
    "\n",
    "There are also some other prescriptions by the API design method:\n",
    "\n",
    "* @tbl-api-rp2d also includes \"limiting resistances\", describing the maximum base and shaft capacity that can be used for designing a pile. \n",
    "* The $\\beta$ coefficients cited in @tbl-api-rp2d are for open-ended piles. To account for the increase in soil displacement, $\\beta$ is increased by 25% for closed-ended piles. $N_q$ remains unchanged.\n",
    "* The internal shaft resistance of an open-ended pile is assumed to be equal to the external shaft resistance"
   ]
  },
  {
   "cell_type": "markdown",
   "id": "0fc4056a-8d0a-4c35-bce2-49456c737181",
   "metadata": {},
   "source": [
    "|                       | Shaft friction factor $\\beta$ (-) | Limiting shaft resistance $q_{s,lim}$ (kPa) | End bearing factor $N_q$ (-)| Limiting base resistance $q_{b,lim}$ (MPa) |\n",
    "|:----|:---:|:---:|:---:|:---:|\n",
    "| Medium dense          | 0.29           | 67                        | 12          | 3                        |\n",
    "| Medium dense to dense | 0.37           | 81                        | 20          | 5                        |\n",
    "| Dense to very dense   | 0.46           | 96                        | 40          | 10                       |\n",
    "| Very dense            | 0.56           | 115                       | 50          | 12                       |\n",
    "\n",
    ": API RP-2D design approach for open-ended piles. For closed-ended piles, the $\\beta$ values are increased by 25% {#tbl-api-rp2d}\n",
    "\n",
    "![Visual representation of the API RP-2D design methods](pics/axial/api.jpg){#fig-api-method width=80%}\n"
   ]
  },
  {
   "cell_type": "markdown",
   "id": "79412c0b-0e98-4d93-8138-69e87f871a32",
   "metadata": {},
   "source": [
    "### CPT-based design methods\n",
    "Nevertheless, total stress and effective stress methods are generally rudimentary in nature, and give poor correlation with load test data compared to CPT-based methods. CPT-based have certain  advantages over traditional stress-based approaches since (1) the mechanisms affecting a CPT and a pile are broadly comparable and (2) the CPT provides a reliable estimate of the *in-situ* soil conditions, particularly for soils where it's difficult to collect clean, undisturbed borehole samples. \n",
    "\n",
    "#### Dutch method (NEN 9997-1)\n",
    "While not an offshore design code per se, the CPT-based method in NEN 9997-1 underlies the basic principles of CPT-based design whereby:\n",
    "\n",
    "$$\n",
    "q_b = \\alpha_p q_{c,avg}\n",
    "$$ {#eq-nen-qb}\n",
    "\n",
    "$$\n",
    "q_s = \\alpha_s q_c\n",
    "$$ {#eq-nen-qs}\n",
    "\n",
    "where $\\alpha_p$ and $\\alpha_s$ are correlation coefficients which depend on the method of installation, and $q_{c,avg}$ is determined using the Koppejan 4D/8D method. For driven closed-ended piles, $\\alpha_p = 0.70$ and $\\alpha_s = 0.010$.\n",
    "\n",
    "Just like the API method, NEN 9997-1 also includes limiting resistances on the base (15 MPa) and shaft (CPT $q_c$ profile limited to 12-15 MPa) respectively. \n",
    "\n",
    "::: {.callout-note}\n",
    "Open tubular piles are treated separately to other pile types in the 2025 update to NEN 9997-1, aligning with the guidance document *CUR 2001-8: Bearing capacity of steel pipe piles*. \n",
    "\n",
    "The CUR 2001-8 method won't be covered here, there is also an impending update to the method which will align the method more with the Unified pile design method.\n",
    ":::"
   ]
  },
  {
   "cell_type": "markdown",
   "id": "7b32785a-d4b9-4936-a2a1-84baed4d90d6",
   "metadata": {},
   "source": [
    "\n",
    "\n"
   ]
  },
  {
   "cell_type": "markdown",
   "id": "81ecd01b-ab6d-4119-bffc-b810255339c0",
   "metadata": {},
   "source": [
    "## Recent research into CPT-based pile design"
   ]
  },
  {
   "cell_type": "markdown",
   "id": "717b72d8-33f1-4bfc-9ad7-de33f310cde4",
   "metadata": {},
   "source": [
    "### Database assessments\n",
    "While a penetrating pile mobilises base resistances (or annular resistances) comparable to the cone tip resistance (i.e. $q_b / q_c = 1$), @fig-qb-qc shows that $q_{b,0.1} / q_{c,filter} = 0.5$ (also referred to as $\\alpha_p$, @eq-nen-qb).\n",
    "\n",
    "There's a couple of reasons for this. Importantly, residual loads aren't included in this comparison nad therefore $q_{b,0.1}$ desn't necessarily represent the true base resistances mobilised. Moreover, it's also plausible that had several of the piles had been loaded further beyond $s_b = 0.1D$, they would have mobilised more resistance—in-line with installation observations. \n",
    "\n",
    "Furthermore, the results from load tests in very dense sands at the Maasvlakte [@duffyInfluenceInstallationMethod2024] also show the conservatism in using limiting resistances: with the API effective stress method and NEN underestimating the resistance of these piles by up to 50%. \n",
    "\n",
    "![Measured base resistances ($q_{b,0.1D}$) from closed-ended piles in the ISO/API database [@lehaneCharacteristicsUnifiedDatabases2017], Dutch database (CUR) and tests from the Port of Rotterdam (Amaliahaven and Waalhaven). $q_{c,filter}$ was determined using the method by @deBoorderSW22](pics/axial/qb-qc.png){#fig-qb-qc width=50%}\n"
   ]
  },
  {
   "cell_type": "markdown",
   "id": "b014bfd9-a3b8-44f4-a992-5241e13ced29",
   "metadata": {},
   "source": [
    "### Final filling ratio (FFR)\n",
    "In the previous section, we were introduced to the Plug Length Ratio (PLR) and how a plugged pile affects the radial stress regime around the pile itself. It should be noted that the PLR is a reflection of the entire installation process itself. Yet when we look at the operational capacity of a pile, its base resistance will invariably be affected by what happened as the pile approach its final depth during installation (@fig-plugging-ffr).\n",
    "\n",
    "The **final filling ratio (FFR)** is therefore used when determining the pile capacity. The FFR is taken as the average IFR over the final three pile diameters of installation. \n",
    "\n",
    "Given the similarity between a closed-ended pile and a plugged open-ended pile, the effective area ratio $A_{re}$ is often used to quantify the behaviour of an open-ended pile based on the ratio of displaced soil to the gross pile volume (i.e. a fully plugged pile):\n",
    "\n",
    "$$ \n",
    "A_{re} = 1 - FFR \\frac{D_i^2}{D_o^2}\n",
    "$$\n",
    "\n",
    "Typical offshore piles have a wall thickness $D/t \\approx 40$, for which $A_{re} \\approx 0.1$ during unplugged penetration. As @fig-plugging-ffr shows, $\\alpha_p$ varies from 0.5 (i.e. a closed-ended pile), down to around 0.15—essentially the same base resistance as a bored pile. In essence, this all shows the influence of prestressing on the pile base capacity. \n",
    "\n",
    "![Influence of plugging over the final 2--3 pile diameters on the mobilised based resistance](pics/axial/plugging-qb.png){#fig-plugging-ffr width=100%}\n",
    "\n",
    "\n"
   ]
  },
  {
   "cell_type": "markdown",
   "id": "c42b5bd9-bbec-4067-9c7b-ee59c4362e3c",
   "metadata": {},
   "source": [
    "### Unified method\n",
    "Up until 2020, four different CPT-based design methods were prescribed in API RP-2A: \n",
    "\n",
    "1. Fugro-05\n",
    "2. ICP-05\n",
    "3. NGI-05\n",
    "4. UWA-05\n",
    "\n",
    "These were an improvement on rudimentary formulations such as @eq-api-qb or @eq-nen-qb and explicitly accounted for phenomenae such as dilatant behaviour under loading or friction fatigue. However, there was a lack of agreement between the industry and researchers between the precise formulations for each phenomena, as well as the calibration of the methods themselves. \n",
    "\n",
    "Therefore, as part of a joint industry effort to harmonise design procedures, a so-called \"Unified\" pile design method was recently developed (@lehaneNewUnifiedCPTbased2020) and incorporated into the ISO 19901-4 and API RP 2A standards. This method was calibrated based on a high quality database of instrumented pile load tests, presented in @lehaneCharacteristicsUnifiedDatabases2017. \n",
    "\n",
    "The method is outlined in full in @tbl-unified-method-sand below."
   ]
  },
  {
   "cell_type": "markdown",
   "id": "2e66100b-be58-46a4-934f-1832fff05e1c",
   "metadata": {},
   "source": [
    "| **Shaft resistance** | |\n",
    "|:---------------------|:--|\n",
    "| $Q_s = \\pi D \\int_0^L q_s \\, dz$ |  |\n",
    "| $q_s = \\left(\\frac{f_t}{f_c}\\right) (\\sigma'_{rc} + \\Delta \\sigma'_{rd}) \\tan(29^\\circ)$ |  | \n",
    "| $\\sigma'_{rc} = \\frac{q_c}{44} A_{re}^{0.3} [\\max\\left(1,\\frac{h}{D}\\right)]^{-0.4}$ |  |\n",
    "| $\\Delta \\sigma'_{rd} = (\\frac{q_c}{10}) ((\\frac{q_c}{\\sigma'_v})^{-0.33}) (\\frac{d_{CPT}}{D})$ |  |\n",
    "| $\\frac{f_t}{f_c} = \\begin{cases} 1.0 & \\text{(compression)} \\\\ 0.75 & \\text{(tension)} \\end{cases}$ |  |\n",
    "| $A_{re} = 1 - \\text{PLR} \\frac{D_i}{D}^2$ |  |\n",
    "| **Base resistance** | |\n",
    "| $Q_b = q_{b,0.1} \\left(\\frac{\\pi D^2}{4}\\right)$ |  |\n",
    "| $q_{b,0.1} = (0.12 + 0.38 A_{re}) q_{c,avg}$ |  |\n",
    "| $A_{re} = 1 - \\text{FFR} \\left(\\frac{D_i}{D}\\right)^2 \\approx 1 - \\text{PLR} \\left(\\frac{D_i}{D}\\right)^2$ |  |\n",
    "\n",
    ": Unified pile design method in sand [@lehaneNewUnifiedCPTbased2020] {#tbl-unified-method-sand}"
   ]
  },
  {
   "cell_type": "markdown",
   "id": "99c59422-ca80-4f40-b9d9-16ee51420b48",
   "metadata": {},
   "source": [
    "Some other remarks:\n",
    "\n",
    "* There isn't one particular averaging method that is recommended for determining $q_{c,avg}$. For homogeneous sands, the LCPC 1.5D method can be used. For more variable strata, the Koppejan 4D/8D method can be used, where $q_{c,avg} = 1.2*q_{c,4D/8D}$. Otherwise, the filter method by @boulangerInverseFilteringProcedure2018 can be used. \n",
    "* To account for the soil plug, $q_{c,avg}$ is determined using the diameter of an equivalent pile, whose area is equal to the effective area ratio $A_{re}$\n",
    "* For piles under tension, the resistance is factored down by $f_t / f_c = 0.75$. This is a result of a reverse Poisson's ratio effect as the pile extends under tension loading, thus also reversing the loads from compressive pile driving.\n",
    "* Where plug measurements are not available, the Unified method also recommends a formulation for predicting the plug response:\n",
    "\n",
    "$$\n",
    "PLR \\approx \\tanh\\left(0.3 \\left(\\frac{D_i}{d_{CPT}}\\right)^{0.5}\\right)\n",
    "$$\n"
   ]
  },
  {
   "cell_type": "markdown",
   "id": "23d1ecc8-50b2-4464-be7a-433f923fc857",
   "metadata": {},
   "source": [
    "## Pile ageing\n",
    "The Unified pile design method is far from a \"final\" design method. Plenty of uncertainties still remain, especially with time-dependent increases in shaft capacity. \n",
    "\n",
    "Notably observations (e.g. @axelssonLongtermSetupDriven2000, @limCharacterisationEffectsTime2014, @gavinEffectsPileAgeing2015, @jardine6thISSMGEMcClelland2023) show that there's a time dependent increase in capacity. This is referred to pile ageing or set-up. \n",
    "\n",
    "![Variation of shaft tension capacity with age for 340 to 508mm OD steel piles driven at three sand sites, normalised by ICP-05 predictions, with intact ageing characteristic (IAC) [@rimoyFieldModelInvestigations2015]](pics/axial/rimoy15-iac.jpg){#fig-rimoy-aging-curve width=60%}\n",
    "\n",
    "There a several potential mechanisms that cause pile ageing:\n",
    "\n",
    "* **Corrosion and physio-chemical reaction** around the pile shaft, resulting in the interface changing from a soil-pile interface to a soil-soil interface (e.g. Figure @fig-aging-crust).\n",
    "\n",
    "* **Creep-induced breakdown of hoop stresses** (or arching around the pile) which first developed during pile installation, increasing the stationary radial stresses on the pile itself. \n",
    "\n",
    "* **Microstructural rearrangements and increased grain interlocking** causing an increase in constrained dilation ($\\Delta \\sigma'_{rd}$) over time. \n",
    "\n",
    "![Photographs of cemented sand crust adhered to an steel tubular pile following extraction: (a) cemented sand crust on pile with distinct layers; (b) difficulty removing layer 1 [@gavinFieldInvestigationMechanisms2021]](pics/axial/gavin21-fig15.png){#fig-aging-crust width=60%}\n"
   ]
  },
  {
   "cell_type": "markdown",
   "id": "aab8610a-fc26-4d6b-b626-0e06e52f3704",
   "metadata": {},
   "source": [
    "While these mechanisms offer some explanation for pile ageing, this is still an area of research that is very much ongoing. This particularly focussing on the influence of factors such as the installation method, steel type, loading history and pile geometry on the degree of pile ageing [@anusicEvaluationInstallationEffects2019;@carrollFieldExperimentsThree2019;@bittarExperimentalStudyFactors2025].\n",
    "\n"
   ]
  },
  {
   "cell_type": "markdown",
   "id": "8a42b972-ed06-4cf9-ba69-7c4c231212e8",
   "metadata": {},
   "source": []
  },
  {
   "cell_type": "markdown",
   "id": "eba6199e-d57b-46c7-baed-8305fe694500",
   "metadata": {},
   "source": []
  }
 ],
 "metadata": {
  "kernelspec": {
   "display_name": "Python 3 (ipykernel)",
   "language": "python",
   "name": "python3"
  },
  "language_info": {
   "codemirror_mode": {
    "name": "ipython",
    "version": 3
   },
   "file_extension": ".py",
   "mimetype": "text/x-python",
   "name": "python",
   "nbconvert_exporter": "python",
   "pygments_lexer": "ipython3",
   "version": "3.11.5"
  }
 },
 "nbformat": 4,
 "nbformat_minor": 5
}
