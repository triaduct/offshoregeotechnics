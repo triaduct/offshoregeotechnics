{
 "cells": [
  {
   "cell_type": "markdown",
   "id": "a7def170-7645-4c0a-bbbd-b163f8eac837",
   "metadata": {},
   "source": [
    "---\n",
    "title: \"Python exercise: Pile driveability\"\n",
    "author: \"Kevin Duffy\"\n",
    "execute:\n",
    "  echo: true\n",
    "<!-- bibliography: ../bibliography.bib -->\n",
    "---"
   ]
  },
  {
   "cell_type": "markdown",
   "id": "00a452dc-cbd2-446e-af48-833f9c0e47bd",
   "metadata": {},
   "source": [
    "In this, we're going to make our own driveability model. To do so, we're just going to consider a circular closed-ended concrete pile\n",
    "\n",
    "Note that downwards penetration of the pile is negative.\n"
   ]
  },
  {
   "cell_type": "code",
   "execution_count": 1,
   "id": "5ad5717c-f40b-4369-8996-fa643ef0d64c",
   "metadata": {
    "tags": []
   },
   "outputs": [],
   "source": [
    "import numpy as np, pandas as pd\n",
    "import matplotlib.pyplot as plt"
   ]
  },
  {
   "cell_type": "markdown",
   "id": "93bfb330-2bf8-4f42-8405-c8f1628c8bb0",
   "metadata": {},
   "source": [
    "## Spring dashpots\n",
    "Spring dashpots are the cornerstone of any driveabilility analysis and represent the resistance contribution of the soil\n",
    "\n",
    "It first consists of a **static component**. This static component describes the soil resistance: comprising of which is a spring with a certain stiffness `k`.  \n",
    "\n",
    "This spring has a certain `quake`, which describes the displacement need to go from an elastic to plastic response. This quake is typically 2.5mm for the shaft resistance. For the base resistance, this is a bit more complicated and depends on the stiffness of the soil underneath the pile base. Generally $D/60$ can be taken for loose or soft soils and $D/120$ for dense or stiff soils.\n",
    "\n",
    "There is also a **dynamic component**, known as a dashpot. "
   ]
  },
  {
   "cell_type": "code",
   "execution_count": 2,
   "id": "3701a075-a0b0-46f3-af07-8ce5a266ee08",
   "metadata": {
    "tags": []
   },
   "outputs": [],
   "source": [
    "class SpringDashpot:\n",
    "    def __init__(self, damping, max_force, quake):\n",
    "        self.k = max_force / quake if quake > 0 else 1e6  # avoid div by zero [Nm]\n",
    "        self.quake = quake        # [m]\n",
    "        self.Js = damping         # Smith damping factor [s/m]\n",
    "        self.max_force = max_force# Soil capacity [N]\n",
    "        self.u_perm = 0.0         # Placeholder for recording the amount of maximum displacemtn\n",
    "        self.R_total = 0.0\n",
    "\n",
    "    def compute_force(self, u_rel, v_rel):\n",
    "        delta_u = u_rel - self.u_perm\n",
    "        sign = np.sign(delta_u)\n",
    "        abs_du = abs(delta_u)\n",
    "\n",
    "        if abs_du <= self.quake:\n",
    "            R_static = self.k * delta_u\n",
    "        else:\n",
    "            R_static = self.max_force * sign\n",
    "            self.u_perm += (abs_du - self.quake) * sign\n",
    "\n",
    "        R_damp = self.Js * abs(R_static) * v_rel\n",
    "        self.R_total = R_static + R_damp\n",
    "        return self.R_total"
   ]
  },
  {
   "cell_type": "markdown",
   "id": "969f495d-6a0d-4ab3-9da3-4a9b3fd0a266",
   "metadata": {
    "tags": []
   },
   "source": [
    "## Soil profile\n",
    "Let's now define our soil profile and assign each layer some properties relevant to the driveability study. This is going to be done using the `SoilProfile` class, which consists of one or more `SoilLayer`s. \n",
    "\n",
    "Keep in mind the damping and quake parameters are different for the pile base and piel shaft"
   ]
  },
  {
   "cell_type": "code",
   "execution_count": 3,
   "id": "9b5db3cd-a42e-45d4-a482-02b8d1e6212a",
   "metadata": {
    "tags": []
   },
   "outputs": [],
   "source": [
    "class SoilLayer:\n",
    "    def __init__(self, top, bottom, qb_max, qs_max, shaft_damping, base_damping, shaft_quake, base_quake):\n",
    "        self.top = top\n",
    "        self.bottom = bottom \n",
    "        self.qb_max = qb_max        # Maximum base stress [Pa]\n",
    "        self.qs_max = qs_max        # Maximum shear stress [Pa]\n",
    "        self.shaft_damping = shaft_damping      # Smith damping coefficient[s/m]\n",
    "        self.base_damping = base_damping        # Smith damping coefficient[s/m]\n",
    "        self.shaft_quake = shaft_quake          # [m]\n",
    "        self.base_quake = base_quake            # [m]\n",
    "\n",
    "    def contains(self, z):\n",
    "        return self.bottom <= z < self.top\n",
    "\n",
    "class SoilProfile:\n",
    "    def __init__(self, layers):\n",
    "        self.layers = layers  # List of SoilLayer objects\n",
    "\n",
    "    def get_layer_at_depth(self, z):\n",
    "        for layer in self.layers:\n",
    "            if layer.contains(z):\n",
    "                return layer\n",
    "        return SoilLayer(top=1e6, bottom=-1e6, qb_max=0.0, qs_max=0.0, shaft_damping=0.0, base_damping=0.0, \n",
    "                         shaft_quake=1e-6, base_quake=1e-6) # No soil present (e.g. above ground surface)\n",
    " "
   ]
  },
  {
   "cell_type": "markdown",
   "id": "e03f6a0d-2e13-4d7f-998b-9c55ed958cc5",
   "metadata": {},
   "source": [
    "We'll start simple here: let's define a two layered soil profile, with loose and dense sand. This will take some typical values in sand for the Smith damping factor (=0.16 s/m) `damping` and shaft quakes\n",
    "\n",
    "\n",
    "Therefore: **REMOVED AND PUT DOWN BELOW**"
   ]
  },
  {
   "cell_type": "markdown",
   "id": "28006151-af93-47fb-8960-685f08bf7a6f",
   "metadata": {},
   "source": [
    "## Define hammer\n",
    "The hammer also has a cushion, with also has a `SpringDashpot` associated with it"
   ]
  },
  {
   "cell_type": "code",
   "execution_count": 4,
   "id": "01ae9dc6-71b7-4c69-84bd-a2df507d99ab",
   "metadata": {
    "tags": []
   },
   "outputs": [],
   "source": [
    "class HAMMER:\n",
    "    def __init__(self, mass, efficiency, E_rated, cushion_stiffness, cushion_damping, cushion_quake):\n",
    "        self.mass = mass              # [kg]\n",
    "        self.efficiency = efficiency  # [-]\n",
    "        self.E_rated = E_rated        # [Nm]\n",
    "        self.k_cushion = SpringDashpot(cushion_damping, E_rated / cushion_quake, cushion_quake)\n",
    "\n",
    "    def impact_velocity(self, pile_mass):\n",
    "        return -np.sqrt(2 * self.efficiency * self.E_rated / (pile_mass + self.mass))\n",
    "\n",
    "    def reset(self, v0=0.0):\n",
    "        self.k_cushion.u_perm = 0.0\n",
    "        self.u = 0.0\n",
    "        self.v = v0\n",
    "    "
   ]
  },
  {
   "cell_type": "code",
   "execution_count": 5,
   "id": "c88095a3-087c-4afb-bddc-d7ca32990754",
   "metadata": {
    "tags": []
   },
   "outputs": [],
   "source": [
    "# Define hammer (Junttan HHK3a)\n",
    "hammer = HAMMER(mass=3000,   # kg\n",
    "                efficiency=0.8,  # energy efficiency\n",
    "                E_rated=35000, # J [Nm]\n",
    "                cushion_stiffness=5e6, \n",
    "                cushion_damping=0.2, \n",
    "                cushion_quake=0.0025)"
   ]
  },
  {
   "cell_type": "markdown",
   "id": "33e2d437-e26b-431e-926b-ad35f8e052bc",
   "metadata": {},
   "source": [
    "## Define our pile\n",
    "\n",
    "We also need to define the number of increments `n_increments`. There's no fixed number for this, depends on how long it takes for the code\n"
   ]
  },
  {
   "cell_type": "code",
   "execution_count": 11,
   "id": "0b2f8cd2-7b9a-41c2-9cb2-62e02b85f6a9",
   "metadata": {
    "tags": []
   },
   "outputs": [],
   "source": [
    "class Pile:\n",
    "    def __init__(self, length, diameter, bottom_elevation, n_increments, \n",
    "                 youngs_modulus, damping_ratio, material_density,\n",
    "                 soil_profile: SoilProfile):\n",
    "        \"\"\" \n",
    "        where: \n",
    "            youngs_modulus: [Pa]\n",
    "            damping ratio: [-]\n",
    "            material density: [kg/m3]\n",
    "        \"\"\"\n",
    "        self.length = length     # [m]\n",
    "        self.diameter = diameter # [m]\n",
    "        self.area = np.pi * (diameter/2)**2  # Cross-section area [m2]\n",
    "        self.n = n_increments\n",
    "        self.dz = length / n_increments\n",
    "        self.total_mass = self.area * length * material_density\n",
    "        self.mass_per_increment = self.total_mass / self.n\n",
    "        self.m = np.ones(self.n) * self.mass_per_increment\n",
    "\n",
    "        self.k_axial = (youngs_modulus * self.area) / self.dz  # Axial stiffness [Nm]\n",
    "        self.c_axial = 2 * damping_ratio * np.sqrt(self.k_axial * self.mass_per_increment)\n",
    "\n",
    "        self.u = np.zeros(self.n)\n",
    "        self.v = np.zeros(self.n)\n",
    "        self.a = np.zeros(self.n)\n",
    "\n",
    "        self.segment_elevations = [bottom_elevation + (i+0.5)*self.dz for i in range(self.n)][::-1]\n",
    "        self.assign_soil_springs(soil_profile)\n",
    "\n",
    "        self.history = {\"time\": [], \"top_disp\": [], \"top_vel\": [], \"top_acc\": [], \"tip_disp\": [], \"tip_vel\": []}\n",
    "        self.blow_depths = []\n",
    "        self.blow_histories = []\n",
    "\n",
    "    def assign_soil_springs(self, soil_profile):\n",
    "        self.shaft_springs = []\n",
    "        for z in self.segment_elevations:\n",
    "            layer = soil_profile.get_layer_at_depth(z)\n",
    "            Qs_max = layer.qs_max * (np.pi * self.diameter * self.dz)\n",
    "            self.shaft_springs.append(SpringDashpot(\n",
    "                damping=layer.shaft_damping,\n",
    "                max_force=Qs_max,\n",
    "                quake=layer.shaft_quake))\n",
    "        # Assign spring at pile base\n",
    "        base_layer = soil_profile.get_layer_at_depth(self.segment_elevations[-1])\n",
    "        Qb_max = layer.qb_max * self.area\n",
    "        self.base_spring = SpringDashpot(\n",
    "            damping=base_layer.base_damping,\n",
    "            max_force=Qb_max,\n",
    "            quake=base_layer.base_quake\n",
    "        )\n",
    "\n",
    "    def compute_internal_forces(self):\n",
    "        #Internal springs between pile elemenets\n",
    "        F_internal = np.zeros(self.n)\n",
    "        for i in range(1,self.n):\n",
    "            du = self.u[i]-self.u[i-1]\n",
    "            dv = self.v[i]-self.v[i-1]\n",
    "            F = self.k_axial*du + self.c_axial*dv\n",
    "            F_internal[i] += F\n",
    "            F_internal[i-1] -= F\n",
    "        return F_internal\n",
    "\n",
    "    def compute_shaft_resistances(self):\n",
    "        return np.array([self.shaft_springs[i].compute_force(self.u[i], self.v[i]) for i in range(self.n)])\n",
    "\n",
    "    def compute_base_resistances(self):\n",
    "        return self.base_spring.compute_force(self.u[-1], self.v[-1])\n"
   ]
  },
  {
   "cell_type": "markdown",
   "id": "026314a9-6b81-4648-bcb6-5313675282c8",
   "metadata": {},
   "source": [
    "## Simulate"
   ]
  },
  {
   "cell_type": "code",
   "execution_count": 18,
   "id": "b409bd08-e55d-46e2-9d51-85fb4c96b08c",
   "metadata": {
    "tags": []
   },
   "outputs": [],
   "source": [
    "def reset_springs(pile):\n",
    "    for spring in pile.shaft_springs:\n",
    "        spring.u_perm = 0.0\n",
    "    pile.base_spring.u_perm = 0.0\n",
    "\n",
    "def step_dynamics(pile, hammer, dt):\n",
    "    F_int = pile.compute_internal_forces()\n",
    "    R_shaft = pile.compute_shaft_resistances()\n",
    "    R_base = pile.compute_base_resistances()\n",
    "    F_shifted = np.append(F_int[1:], R_base)\n",
    "\n",
    "    pile.a = (-F_int - pile.m*9.81 + R_shaft + F_shifted)/pile.m\n",
    "    pile.v += pile.a*dt\n",
    "    pile.u += pile.v*dt  \n",
    "\n",
    "    if hammer:\n",
    "        du = hammer.u - pile.u[0]\n",
    "        dv = hammer.v - pile.v[0]\n",
    "        Fcushion = hammer.k_cushion.compute_force(du, dv)\n",
    "        a_hammer = (-Fcushion - hammer.mass*9.81)/hammer.mass\n",
    "        hammer.v += a_hammer*dt\n",
    "        hammer.u += hammer.v*dt\n",
    "        pile.a[0] += Fcushion/pile.m[0]\n",
    "        pile.v[0] += (Fcushion/pile.m[0])*dt\n",
    "        pile.u[0] += pile.v[0]*dt\n",
    "\n",
    "    t_now = pile.history[\"time\"][-1] + dt if pile.history[\"time\"] else 0\n",
    "    pile.history[\"time\"].append(t_now)\n",
    "    pile.history[\"top_disp\"].append(pile.u[0])\n",
    "    pile.history[\"top_vel\"].append(pile.v[0])\n",
    "    pile.history[\"top_acc\"].append(pile.a[0])\n",
    "    pile.history[\"tip_disp\"].append(pile.u[-1])\n",
    "    pile.history[\"tip_vel\"].append(pile.v[-1])\n",
    "\n",
    "def simulate_drive(pile, hammer, n_blows, dt, t_per_blow, rest_time):\n",
    "    for blow in range(n_blows):\n",
    "        print(f\"Blow {blow} of {n_blows}\")\n",
    "        blow_time, blow_force = [], []\n",
    "        reset_springs(pile)\n",
    "        hammer.reset(v0=hammer.impact_velocity(pile.total_mass))\n",
    "\n",
    "        steps = int(t_per_blow/dt)\n",
    "        for _ in range(steps):\n",
    "            step_dynamics(pile, hammer, dt)\n",
    "            blow_time.append(pile.history[\"time\"][-1])\n",
    "            F_top = pile.k_axial*(pile.u[1]-pile.u[0]) + pile.c_axial*(pile.v[1]-pile.v[0])\n",
    "            blow_force.append(F_top)\n",
    "\n",
    "        pile.blow_depths.append(pile.segment_elevations[-1]+pile.u[-1])\n",
    "        pile.blow_histories.append({\"time\":np.array(blow_time)-blow_time[0], \"force\":np.array(blow_force)})\n",
    "\n",
    "        # rest\n",
    "        for _ in range(int(rest_time/dt)):\n",
    "            step_dynamics(pile, hammer=None, dt=dt)\n"
   ]
  },
  {
   "cell_type": "markdown",
   "id": "dd1e4411-b58e-46c6-b69f-372eaabea245",
   "metadata": {},
   "source": [
    "## Plots"
   ]
  },
  {
   "cell_type": "code",
   "execution_count": 19,
   "id": "0e3de4eb-c5cd-412a-a724-a6c3c00eb40b",
   "metadata": {
    "tags": []
   },
   "outputs": [],
   "source": [
    "def plot_response(pile):\n",
    "    t = pile.history[\"time\"]\n",
    "    plt.figure(figsize=(12,6))\n",
    "    plt.subplot(2,1,1)\n",
    "    plt.plot(t, pile.history[\"top_disp\"], label=\"Top disp\")\n",
    "    plt.plot(t, pile.history[\"tip_disp\"], label=\"Tip disp\")\n",
    "    plt.ylabel(\"Displacement [m]\"); plt.legend(); plt.grid()\n",
    "    plt.subplot(2,1,2)\n",
    "    plt.plot(t, pile.history[\"top_vel\"], label=\"Top vel\")\n",
    "    plt.plot(t, pile.history[\"tip_vel\"], label=\"Tip vel\")\n",
    "    plt.ylabel(\"Velocity [m/s]\"); plt.xlabel(\"Time [s]\"); plt.legend(); plt.grid()\n",
    "    plt.tight_layout(); plt.show()\n",
    "\n",
    "def plot_blow_counts(pile):\n",
    "    plt.figure(figsize=(5,6))\n",
    "    plt.plot(np.arange(1,len(pile.blow_depths)+1), pile.blow_depths, marker=\"o\")\n",
    "    plt.xlabel(\"Blow count\"); plt.ylabel(\"Penetration depth [m]\"); plt.grid(); plt.show()\n",
    "\n",
    "def plot_blow_forces(pile, n_to_plot=None):\n",
    "    if n_to_plot is None: n_to_plot = len(pile.blow_histories)\n",
    "    plt.figure(figsize=(8,5))\n",
    "    for i in range(n_to_plot):\n",
    "        data = pile.blow_histories[i]\n",
    "        plt.plot(data[\"time\"]*1e3, data[\"force\"]*1e-3, label=f\"Blow {i+1}\")\n",
    "    plt.xlabel(\"Time after blow [ms]\"); plt.ylabel(\"Force [kN]\"); plt.grid(); plt.legend(); plt.show()\n"
   ]
  },
  {
   "cell_type": "code",
   "execution_count": null,
   "id": "7c212124-e691-43e8-9072-11feef947dae",
   "metadata": {},
   "outputs": [],
   "source": []
  },
  {
   "cell_type": "code",
   "execution_count": 22,
   "id": "05ea8cf2-c91e-41b5-b634-e553063a5681",
   "metadata": {
    "tags": []
   },
   "outputs": [
    {
     "name": "stdout",
     "output_type": "stream",
     "text": [
      "Blow 0 of 10\n"
     ]
    },
    {
     "name": "stderr",
     "output_type": "stream",
     "text": [
      "C:\\Users\\kduffy\\AppData\\Local\\Temp\\ipykernel_23544\\2221583158.py:56: RuntimeWarning: overflow encountered in scalar add\n",
      "  F = self.k_axial*du + self.c_axial*dv\n",
      "C:\\Users\\kduffy\\AppData\\Local\\Temp\\ipykernel_23544\\1156265068.py:21: RuntimeWarning: invalid value encountered in scalar multiply\n",
      "  R_damp = self.Js * abs(R_static) * v_rel\n",
      "C:\\Users\\kduffy\\AppData\\Local\\Temp\\ipykernel_23544\\1559313011.py:12: RuntimeWarning: invalid value encountered in add\n",
      "  pile.a = (-F_int - pile.m*9.81 + R_shaft + F_shifted)/pile.m\n"
     ]
    },
    {
     "name": "stdout",
     "output_type": "stream",
     "text": [
      "Blow 1 of 10\n",
      "Blow 2 of 10\n",
      "Blow 3 of 10\n",
      "Blow 4 of 10\n",
      "Blow 5 of 10\n",
      "Blow 6 of 10\n",
      "Blow 7 of 10\n",
      "Blow 8 of 10\n",
      "Blow 9 of 10\n"
     ]
    },
    {
     "data": {
      "image/png": "[encoded data removed]",
      "text/plain": [
       "<Figure size 1200x600 with 2 Axes>"
      ]
     },
     "metadata": {},
     "output_type": "display_data"
    },
    {
     "data": {
      "image/png": "[encoded data removed]",
      "text/plain": [
       "<Figure size 500x600 with 1 Axes>"
      ]
     },
     "metadata": {},
     "output_type": "display_data"
    },
    {
     "data": {
      "image/png": "[encoded data removed]",
      "text/plain": [
       "<Figure size 800x500 with 1 Axes>"
      ]
     },
     "metadata": {},
     "output_type": "display_data"
    }
   ],
   "source": [
    "qc1 = 10 # MPa\n",
    "qc2 = 30 # MPa \n",
    "# Qs_max1 = 0.005*qc1*np.pi*(0.5)*7*1e3  # alpha_s * qc * area [kN]\n",
    "# Qs_max2 = 0.005*qc2*np.pi*(0.5)*7*1e3\n",
    "\n",
    "\n",
    "# Soil profile\n",
    "layers = [\n",
    "    SoilLayer(top=0.0, bottom=-7.0, qb_max=5e6, qs_max=100e3, base_damping = 0.50, shaft_damping=0.16, base_quake = 0.5/60, shaft_quake=2.5e-3),     # loose sand\n",
    "    SoilLayer(top=-7.0, bottom=-50.0, qb_max=10e6, qs_max=300e3, base_damping = 0.50, shaft_damping=0.16, base_quake = 0.5/120, shaft_quake=2.5e-3),    # dense sand\n",
    "]\n",
    "profile = SoilProfile(layers)\n",
    "\n",
    "# Pile + Hammer\n",
    "pile = Pile(length=20.0, diameter=0.5, bottom_elevation=-10.0, n_increments=10,\n",
    "            youngs_modulus=35e9, damping_ratio=0.05, material_density=2400,\n",
    "            soil_profile=profile)\n",
    "\n",
    "hammer = HAMMER(mass=3000, efficiency=0.9, E_rated=5e6,\n",
    "                cushion_stiffness=5e6, cushion_damping=0.15, cushion_quake=0.01)\n",
    "\n",
    "# Run simulation\n",
    "simulate_drive(pile, hammer, n_blows=10, dt=1e-5, t_per_blow=0.05, rest_time=2)\n",
    "\n",
    "# Plot results\n",
    "plot_response(pile)\n",
    "plot_blow_counts(pile)\n",
    "plot_blow_forces(pile)\n",
    "\n"
   ]
  },
  {
   "cell_type": "code",
   "execution_count": null,
   "id": "2467ceb3-8572-45a4-854a-660eb080afc6",
   "metadata": {},
   "outputs": [],
   "source": []
  },
  {
   "cell_type": "code",
   "execution_count": null,
   "id": "6aa5d3d4-49f5-42ea-a3eb-a98921e1291e",
   "metadata": {},
   "outputs": [],
   "source": []
  },
  {
   "cell_type": "code",
   "execution_count": null,
   "id": "d3dc7348-c2d5-4baf-8aaa-eadc00096f87",
   "metadata": {},
   "outputs": [],
   "source": []
  },
  {
   "cell_type": "code",
   "execution_count": null,
   "id": "2cce5a36-916c-4247-af48-a713c6a3a0fc",
   "metadata": {},
   "outputs": [],
   "source": []
  },
  {
   "cell_type": "markdown",
   "id": "d0923fe5-d3ee-40ed-bb90-f0bfbd8386ce",
   "metadata": {},
   "source": [
    "# Points of improvement\n",
    "This is only a simple model of course, but there's some ways of improving it.\n",
    "\n",
    "- Model non-linear springs for cushions "
   ]
  },
  {
   "cell_type": "code",
   "execution_count": null,
   "id": "e1d22934-970b-486c-8c99-b34f5268d3f8",
   "metadata": {},
   "outputs": [],
   "source": []
  },
  {
   "cell_type": "code",
   "execution_count": null,
   "id": "003e6d07-9ea3-4300-8667-03e4785b18f1",
   "metadata": {},
   "outputs": [],
   "source": []
  },
  {
   "cell_type": "code",
   "execution_count": null,
   "id": "b13b51fd-a42e-454f-b44a-954d20eaaf27",
   "metadata": {},
   "outputs": [],
   "source": []
  },
  {
   "cell_type": "code",
   "execution_count": null,
   "id": "dd2fe1a2-f398-4b4a-b377-5ee95b383fc2",
   "metadata": {},
   "outputs": [],
   "source": []
  },
  {
   "cell_type": "code",
   "execution_count": null,
   "id": "ed271d50-29f9-4cfc-ad12-9b29259f0477",
   "metadata": {},
   "outputs": [],
   "source": []
  },
  {
   "cell_type": "code",
   "execution_count": null,
   "id": "4fe17b50-cfe6-4526-bedd-3611d53589cb",
   "metadata": {},
   "outputs": [],
   "source": []
  },
  {
   "cell_type": "code",
   "execution_count": null,
   "id": "d2a6ffa2-9d2d-4636-9521-ce4c17a91fe6",
   "metadata": {},
   "outputs": [],
   "source": []
  },
  {
   "cell_type": "code",
   "execution_count": null,
   "id": "aff4fa8e-5345-45cb-b62d-71bdff29f875",
   "metadata": {},
   "outputs": [],
   "source": []
  }
 ],
 "metadata": {
  "kernelspec": {
   "display_name": "Python 3 (ipykernel)",
   "language": "python",
   "name": "python3"
  },
  "language_info": {
   "codemirror_mode": {
    "name": "ipython",
    "version": 3
   },
   "file_extension": ".py",
   "mimetype": "text/x-python",
   "name": "python",
   "nbconvert_exporter": "python",
   "pygments_lexer": "ipython3",
   "version": "3.11.5"
  }
 },
 "nbformat": 4,
 "nbformat_minor": 5
}
