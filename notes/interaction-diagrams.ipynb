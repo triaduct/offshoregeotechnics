{
 "cells": [
  {
   "cell_type": "markdown",
   "id": "98045a5a-7a1b-4ed0-8af1-272c9dd88ea4",
   "metadata": {},
   "source": [
    "---\n",
    "title: \"Some interaction diagram code...\"\n",
    "<!-- author: \"Kevin Duffy\" -->\n",
    "<!-- subtitle: \"TU Delft Offshore Geotechnics\" -->\n",
    "<!-- bibliography: ../bibliography.bib -->\n",
    "draft: true\n",
    "<!-- filters:\n",
    "    - shinylive -->\n",
    "---"
   ]
  },
  {
   "cell_type": "code",
   "execution_count": 1,
   "id": "4cc8edad-73a0-4d7d-87c0-1233daa86ba9",
   "metadata": {
    "tags": []
   },
   "outputs": [],
   "source": [
    "\n",
    "from shiny import App, render, ui\n",
    "import numpy as np\n",
    "import matplotlib.pyplot as plt\n",
    "\n",
    "def vulpe_2014_hm_plane(v, D, d, su_mudline, k):\n",
    "    \"\"\"\n",
    "    Returns the failure surface in terms of h/h_star and m/m_star\n",
    "    \"\"\"\n",
    "    # === Derived parameters ===\n",
    "    su0 = su_mudline + k*d\n",
    "    embedment_ratio = d / D\n",
    "\n",
    "    # === Normalised load space ===\n",
    "    n = 1000  # higher resolution for better contours\n",
    "    h = np.linspace(-2, 2, n)\n",
    "    m = np.linspace(-2, 2, n)\n",
    "    h_grid, m_grid = np.meshgrid(h, m, indexing='ij')\n",
    "\n",
    "    # === Fitting functions ===\n",
    "    q = 4.69\n",
    "    p = 2.12\n",
    "    h_star = 1 - v**q\n",
    "    m_star = 1 - v**p\n",
    "\n",
    "    alpha = 2.28 - 1.03 * embedment_ratio if v > 0.5 else 2.55 - 1.43 * embedment_ratio\n",
    "    beta  = 0.05 - 1.15 * embedment_ratio if v > 0.5 else -0.09 - 0.88 * embedment_ratio\n",
    "\n",
    "    # === Failure function ===\n",
    "    vals = (np.abs(h_grid / h_star) ** alpha\n",
    "            + (m_grid / m_star) ** alpha\n",
    "            + 2 * beta * ((h_grid * m_grid) / (h_star * m_star)))\n",
    "\n",
    "    # === Extract points near failure surface ===\n",
    "    tolerance = 0.001\n",
    "    mask = np.abs(vals - 1) < tolerance\n",
    "    h_vals = h_grid[mask]/h_star\n",
    "    m_vals = m_grid[mask]/m_star\n",
    "\n",
    "    return h_vals, m_vals\n",
    "\n",
    "app_ui = ui.page_fluid(\n",
    "    ui.layout_sidebar(\n",
    "        ui.sidebar(\n",
    "            ui.input_slider(\"v\", \"Normalised vertical load\", min=0, max=1, value=1, step=0.1),\n",
    "            ui.input_slider(\"D\", \"Diameter\", min=5, max=30, value=10, step=1),\n",
    "            ui.input_slider(\"d\", \"Embedment\", min=0, max=10, value=0.5, step=1),\n",
    "            ui.input_slider(\"su_mudline\", \"su mudline\", min=5, max=100, value=30, step=5),\n",
    "            ui.input_slider(\"k\", \"Homogeneity\", min=0, max=5, value=0, step=1),\n",
    "        ),\n",
    "        ui.output_plot(\"plot\"),\n",
    "    ),\n",
    ")\n",
    "\n",
    "\n",
    "def server(input, output, session):\n",
    "    @output\n",
    "    @render.plot(alt=\"Sine wave\")\n",
    "    \n",
    "    def plot():\n",
    "        x,y = vulpe_2014_hm_plane(input.v(), input.D(), input.d(), input.su_mudline(), input.k())\n",
    "\n",
    "        fig, ax = plt.subplots()\n",
    "        ax.plot(x,y)\n",
    "        ax.set_xlim(-1,1.5)\n",
    "        ax.set_ylim(0,1.5)\n",
    "        return fig\n",
    "\n",
    "app = App(app_ui, server)\n",
    "\n"
   ]
  },
  {
   "cell_type": "code",
   "execution_count": 2,
   "id": "ffb2a9be-3136-4837-8be9-46407697de08",
   "metadata": {
    "tags": []
   },
   "outputs": [
    {
     "data": {
      "text/plain": [
       "<shiny._app.App at 0x2a5987ff550>"
      ]
     },
     "execution_count": 2,
     "metadata": {},
     "output_type": "execute_result"
    }
   ],
   "source": [
    "app"
   ]
  },
  {
   "cell_type": "code",
   "execution_count": null,
   "id": "17c793b5-b1c5-4807-9fd5-28ac0372bc6d",
   "metadata": {},
   "outputs": [],
   "source": []
  }
 ],
 "metadata": {
  "kernelspec": {
   "display_name": "Python 3 (ipykernel)",
   "language": "python",
   "name": "python3"
  },
  "language_info": {
   "codemirror_mode": {
    "name": "ipython",
    "version": 3
   },
   "file_extension": ".py",
   "mimetype": "text/x-python",
   "name": "python",
   "nbconvert_exporter": "python",
   "pygments_lexer": "ipython3",
   "version": "3.11.5"
  }
 },
 "nbformat": 4,
 "nbformat_minor": 5
}
