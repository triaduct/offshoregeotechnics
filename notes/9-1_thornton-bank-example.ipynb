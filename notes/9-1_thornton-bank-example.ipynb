{
 "cells": [
  {
   "cell_type": "markdown",
   "id": "0d83a645-2b6b-4097-8ae1-b8c8fe0c418b",
   "metadata": {},
   "source": [
    "---\n",
    "title: \"Worked example: Thornton Bank\"\n",
    "author: \"Kevin Duffy\"\n",
    "bibliography: ../bibliography.bib\n",
    "---"
   ]
  },
  {
   "cell_type": "markdown",
   "id": "307fb97d-b00c-4aca-b1ac-8a72e7d634b3",
   "metadata": {},
   "source": [
    "[![Open In Colab](https://colab.research.google.com/assets/colab-badge.svg)](https://colab.research.google.com/github/triaduct/offshoregeotechnics/blob/main/notes/9-1_thornton-bank-example.ipynb){target=\"_blank\"} <nbsp>"
   ]
  },
  {
   "cell_type": "markdown",
   "id": "3b67b835-66fd-4c00-ac87-135812571224",
   "metadata": {},
   "source": [
    "::: {.callout-note}\n",
    "This is a worked example based on the geometries and loads provided by @peireGravityBaseFoundations2009. Soil properties typical of sand have been assumed. \n",
    ":::"
   ]
  },
  {
   "cell_type": "markdown",
   "id": "9e10d23f-7991-41b1-ae02-4b275b8d3914",
   "metadata": {},
   "source": [
    "# Background \n",
    "Thornton Bank is a wind farm 30km off the Belgian coast, in water depths of up to 30m. The first phase of construction was completed in 2009, comprising six 5 MW turbines all founded on gravity base foundations.\n",
    "\n",
    "::: {#fig-thornton-bank layout-ncol=2}\n",
    "\n",
    "![[(source)](https://www.maritimejournal.com/concrete-gravity-foundations-the-future-for-windfarms/508526.article)](pics/shfo/thornton-bank.png)\n",
    "\n",
    "![](pics/shfo/thornton-bank-location.png){width=70%}\n",
    "\n",
    "Thornton Bank\n",
    ":::\n",
    "\n",
    "The first soil layer consisted of ten metres of medium dense coarse sand. This was followed by ten-metre-thick layer of stiff clay and a thirteen-metre-thick layer of dense to very dense sand. A monopile design was considered for the site, although driveability and cost concerns meant that a gravity base foundation was chosen.\n",
    "\n",
    "An example of one of the foundations is given in @fig-thornton-bank-structure.\n",
    "\n",
    "![Design of the gravity base foundation at Thornton Bank](pics/shfo/thornton-bank-structure.png){#fig-thornton-bank-structure width=50%}\n"
   ]
  },
  {
   "cell_type": "markdown",
   "id": "281fd320-a19c-438e-8d1e-90d129dc8069",
   "metadata": {},
   "source": [
    "# Brief\n",
    "You've been asked to calculate the stability of the foundation in @fig-thornton-bank-structure as per ISO 19901-4:2016. Consider the foundation stability under ambient loading conditions:\n",
    "\n",
    "1. Calculate the (V, H, M) contributions\n",
    "2. Calculate the vertical stability of the existing design, including eccentric loading\n",
    "3. Calculate the resistance to sliding \n",
    "4. Are these results satisfactory? What refinements could you make to improve the design?\n",
    "\n",
    "In doing so, use the following assumptions:\n",
    "\n",
    "* The foundation is directly on the seabed, with no embedment or scour protection\n",
    "* Wind and waves act in the same direction and are considered as representative point loads.\n",
    "\n",
    "Some relevant properties are given in the table below: "
   ]
  },
  {
   "cell_type": "markdown",
   "id": "9269ff93-5281-4b38-8f44-ba655d3caac2",
   "metadata": {},
   "source": [
    "| **Superstructure**            |            |   | **Soil properties**              |                 |\n",
    "|-------------------------------|------------|---|----------------------------------|-----------------|\n",
    "| Rotor diameter                | 126 m      |   |  Friction angle $\\phi'$          |     32°         |\n",
    "| Nacelle height above sealevel | 90 m       |   |  Saturated unit weight $\\gamma$  |     20 kN/m<sup>3</sup>    |\n",
    "| Nacelle-rotor weight          | 4.1 MN     |   |  Sliding coefficient $\\delta$    |     29°         |\n",
    "| Tower weight                  | 3 MN       |   |  Material factor $\\gamma_m$      |     1.25        |\n",
    "|                               |            |   |                                  |                 |\n",
    "| **Substructure**              |            |   | ***To make your life easier***     |                 |\n",
    "|     Base diameter             | 23.5m      |   |     $s$                          |     77.3        |\n",
    "|     Concrete weight           | 30 MN      |   |     $K_{\\gamma}$                 |     0.7        |\n",
    "|     Ballast weight            | 38 MN      |   |     $K_q$                        |     1.3        |\n",
    "|     Buoyant volume            | 2965 m<sup>3</sup>    |   |                       |                 |\n",
    "|                               |            |   |                                  |                 |\n",
    "| **Ambient loads**             |            |   |                                  |                 |\n",
    "|     Wind thrust               | 2.03 MN    |   |                                  |                 |\n",
    "|     Wind arm lever            | 120 m      |   |                                  |                 |\n",
    "|     Sea thrust                | 8.07 MN    |   |                                  |                 |\n",
    "|     Sea arm lever             | 5 m        |   |                                  |                 |\n",
    "\n",
    ": Relevant parameters {#tbl-parameters}"
   ]
  },
  {
   "cell_type": "markdown",
   "id": "0b82a4ff-9e2f-4b6f-bde9-3580dbd028e9",
   "metadata": {},
   "source": [
    "::: {.callout-important title=\"Note: 8th October 2025\"}\n",
    "In the example in class, I gave $s = 130$. As you can see in the following calculations, this value for $s$ was incorrect. \n",
    "\n",
    "If I put 130 into the calculation instead of what's given below, the result for the vertical capacity is 101 MN. \n",
    "\n",
    "Apologies!\n",
    ":::"
   ]
  },
  {
   "cell_type": "markdown",
   "id": "73410d7d-618c-41dd-be7d-2a9182631430",
   "metadata": {},
   "source": [
    "# Results\n",
    "## 1. VHM contributions\n",
    "To get the vertical contribution, let's say $V_{demand}$, it's simply the sum of the weights of the nacelle, tower, concrete and the ballast.\n",
    "\n",
    "However, there is also a buoyant weight acting on the volume of displaced water. This also needs to be included so that we have the *effective weight* of the structure. Therefore:"
   ]
  },
  {
   "cell_type": "code",
   "execution_count": 1,
   "id": "cd7b9372-5cfc-4548-8838-737beccc988d",
   "metadata": {
    "tags": []
   },
   "outputs": [
    {
     "name": "stdout",
     "output_type": "stream",
     "text": [
      "The effective vertical load is 45 MN, including the buoyancy contribution of 30 MN\n"
     ]
    }
   ],
   "source": [
    "buoyant_contribution = (2965*10)/1000  # [MN]\n",
    "V_demand = (4.1+3+30+38)-buoyant_contribution\n",
    "print(f\"The effective vertical load is {V_demand:.0f} MN, including the buoyancy contribution of {buoyant_contribution:.0f} MN\")"
   ]
  },
  {
   "cell_type": "markdown",
   "id": "ef96d84a-bc6d-47ca-9ef7-44ee514554b5",
   "metadata": {},
   "source": [
    "The horizontal component is simply just the sum of the loads imposed by both the wind and sea. These are normally distributed loads, although they have been converted into a representative point load at a certain point on the foundation/turbine."
   ]
  },
  {
   "cell_type": "code",
   "execution_count": 2,
   "id": "701cdc07-de9b-4639-86ed-32bf8d482bde",
   "metadata": {
    "tags": []
   },
   "outputs": [
    {
     "name": "stdout",
     "output_type": "stream",
     "text": [
      "The horizontal load is 10 MN\n"
     ]
    }
   ],
   "source": [
    "H_demand = 2.03+8.07\n",
    "print(f\"The horizontal load is {H_demand:.0f} MN\")"
   ]
  },
  {
   "cell_type": "markdown",
   "id": "ccc5fa24-36c1-469a-9583-eac81296ca00",
   "metadata": {},
   "source": [
    "The moment load is simply these horizontal loads, multiplied by the distance away from the foundation base (i.e. the lever arm). For this exercise, we assume they're just acting in the same direction, representing the worst possible case. "
   ]
  },
  {
   "cell_type": "code",
   "execution_count": 3,
   "id": "068b48dc-4783-44ec-99a7-8bbee094e13e",
   "metadata": {
    "tags": []
   },
   "outputs": [
    {
     "name": "stdout",
     "output_type": "stream",
     "text": [
      "The moment load is 284 MNm\n"
     ]
    }
   ],
   "source": [
    "M_demand = 2.03*120 + 8.07*5\n",
    "print(f\"The moment load is {M_demand:.0f} MNm\")"
   ]
  },
  {
   "cell_type": "markdown",
   "id": "1ecd659e-2932-4e4e-8adb-a2bcfb584ec5",
   "metadata": {
    "tags": []
   },
   "source": [
    "## 2. Vertical stability\n",
    "Since the foundation is directly on sand, our focus is on an effective stress analysis (assuming drained conditions). Therefore the following formula is applicable:\n",
    "\n",
    "$$\n",
    "q_{lim} = \\frac{1}{2} \\gamma' B_r N_\\gamma K_\\gamma + \\sigma'_{v0}(N_q-1)K_q + c N_c s_c i_c d_c\n",
    "$$ {#eq-qlim}\n",
    "\n",
    "::: {.callout-note}\n",
    "Importantly, **there is no surcharge load** since the foundation is founded directly on the seabed. Therefore $\\sigma'_{v0}=0$, and likewise for the second term of the equation). \n",
    "\n",
    "Furthermore there is **no cohesion in sand** (or at least very, very little). Therefore $c=0$, and likewise for the third term of the equation.\n",
    "\n",
    ":::\n",
    "\n",
    "We've a circular foundation, so the first step then is to determine the effective width $B'$. This describes the reduced foundation area under combined horizontal/moment and vertical loading. For a circular foundation, the reduced area is semi-elliptical in-shape so for simplicity, ISO 19901-4 converts this shape to a rectangle with an equivalent area.\n",
    "\n",
    "We've already been provided with $s$ in @tbl-parameters although I'll include my calculation of it here anyway.\n"
   ]
  },
  {
   "cell_type": "code",
   "execution_count": 4,
   "id": "1665b92f-2fd4-4ac2-815a-1426fd24eab9",
   "metadata": {
    "tags": []
   },
   "outputs": [
    {
     "name": "stdout",
     "output_type": "stream",
     "text": [
      "The effective area is 155 m2 (true area = 434m2)\n"
     ]
    }
   ],
   "source": [
    "import numpy as np\n",
    "\n",
    "# Geometrical parameters\n",
    "R = 23.5/2 # [m] Radius of the foundation\n",
    "A = np.pi*R**2 # [m2]\n",
    "e = M_demand/V_demand # Load eccentricity\n",
    "\n",
    "s = (np.pi*R**2)/2 - (e*np.sqrt(R**2-e**2) + R**2 * np.arcsin(e/R))\n",
    "L_eff = np.sqrt(2*s*np.sqrt((R+e)/(R-e)))\n",
    "B_eff = L_eff * np.sqrt((R-e)/(R+e))\n",
    "A_eff = B_eff*L_eff\n",
    "print(f\"The effective area is {A_eff:.0f} m2 (true area = {A:.0f}m2)\")"
   ]
  },
  {
   "cell_type": "markdown",
   "id": "ce65474a-2582-4a7a-b0bb-82fca7b5d79c",
   "metadata": {
    "tags": []
   },
   "source": [
    "This is quite a large reduction in the soil/foundation contact zone! This is unsurprising to some extent: wind turbines are designed to catch as much horizontal load (wind) after all. But  if we were to go beyond this simple example, this potential conservatism may warrant further investigation into the prevailing wind and current patterns and into more complex numerical or physical models.\n",
    "\n",
    "Next up are the bearing capacity factors $N_q$ and $N_\\gamma$. The bearing capacity correction factors $K_q$, $K_\\gamma$ have already been included in @tbl-parameters, although  but the calculation is included below."
   ]
  },
  {
   "cell_type": "markdown",
   "id": "63900e3e-1dab-44db-b014-041342fa5c66",
   "metadata": {},
   "source": [
    "::: {.callout-important}\n",
    "Don't forget to include the model factor $\\gamma_m$ any time a soil parameter is used! This accounts for any uncertainties we have in the soil properties, be it measurement uncertainty or inherent soil variability. \n",
    ":::"
   ]
  },
  {
   "cell_type": "code",
   "execution_count": 25,
   "id": "42742d27-4932-4424-bf39-d765dede7c29",
   "metadata": {
    "tags": []
   },
   "outputs": [
    {
     "name": "stdout",
     "output_type": "stream",
     "text": [
      "Nq = 12.59\n",
      "Ngamma = 8.69\n",
      "Kgamma = 0.78\n"
     ]
    }
   ],
   "source": [
    "# Soil parameters\n",
    "friction_angle = np.radians(32)\n",
    "model_factor = 1.25 # gamma_m, to be applied to any soil properties\n",
    "unit_weight = 20 # Saturated unit weight [kN/m3]\n",
    "unit_weight_eff = 20-10 # Effective unit weight [kN/m3]\n",
    "delta = np.radians(29) # Interface friction angle\n",
    "\n",
    "# Bearing capacity factors\n",
    "Nq = (np.tan(np.pi/4 + 0.5*np.arctan(np.tan(friction_angle)/model_factor))**2)*(np.exp(np.pi*(np.tan(friction_angle)/model_factor)))\n",
    "print(f\"Nq = {Nq:.2f}\")\n",
    "\n",
    "Ngamma = (3/2)*(Nq-1)*(np.tan(friction_angle)/model_factor)\n",
    "print(f\"Ngamma = {Ngamma:.2f}\")\n",
    "\n",
    "# Bearing capacity correction factors (Already provided in table)\n",
    "igamma = 1-0.7*(H_demand/V_demand)**5\n",
    "sgamma = 1-0.4*igamma*(B_eff/L_eff)\n",
    "dgamma = 1\n",
    "Kgamma = sgamma*dgamma*igamma\n",
    "print(f\"Kgamma = {Kgamma:.2f}\")"
   ]
  },
  {
   "cell_type": "markdown",
   "id": "b5052fab-46b8-407c-ada1-862feb138702",
   "metadata": {},
   "source": [
    "Finally, we put this all into @eq-qlim. Since $q_{lim}$ is not overly useful by itself, so we'll convert it to a force in kN. This is still done using the effective area. "
   ]
  },
  {
   "cell_type": "code",
   "execution_count": 27,
   "id": "8a2ef891-c17f-4d6c-94bb-085d4266617b",
   "metadata": {
    "tags": []
   },
   "outputs": [
    {
     "name": "stdout",
     "output_type": "stream",
     "text": [
      "The vertical capacity is 48 MN\n"
     ]
    }
   ],
   "source": [
    "qlim = 0.5*unit_weight_eff*B_eff*Ngamma*Kgamma # kPa\n",
    "V_capacity = (qlim*A_eff)/1000 # MN\n",
    "print(f\"The vertical capacity is {V_capacity:.0f} MN\")"
   ]
  },
  {
   "cell_type": "markdown",
   "id": "98fa53c2-d6f8-4a7c-9b4c-366148a21dd6",
   "metadata": {},
   "source": [
    "## 3. Resistance for sliding\n",
    "The resistance to sliding is relatively straightforward to determine for a foundation with no embedment. To do this for sand, we take an effective stress analysis whereby:\n",
    "\n",
    "$$\n",
    "H_{ult} = V' \\frac{\\tan{\\delta}}{\\gamma_m}\n",
    "$$\n"
   ]
  },
  {
   "cell_type": "markdown",
   "id": "a3cf2127-339a-45af-96dc-141dbbc25e09",
   "metadata": {},
   "source": [
    "::: {.callout-important title=\"Correction 12/10/25\"}\n",
    "I incorrectly stated in the lecture notes that:\n",
    "\n",
    "$$\n",
    "H_{ult} = A_r (V' \\tan{\\delta})\n",
    "$$\n",
    "\n",
    "This has now been corrected in this example, resulting in a much lower (but still safe) horizontal capacity.\n",
    "\n",
    ":::"
   ]
  },
  {
   "cell_type": "code",
   "execution_count": 35,
   "id": "ca4eb68f-2666-4c18-82e6-5f7f7003d74d",
   "metadata": {
    "tags": []
   },
   "outputs": [
    {
     "name": "stdout",
     "output_type": "stream",
     "text": [
      "The horizontal capacity is 20 MN\n"
     ]
    }
   ],
   "source": [
    "H_capacity = (V_demand * np.tan(delta)/model_factor)\n",
    "print(f\"The horizontal capacity is {H_capacity:.0f} MN\")"
   ]
  },
  {
   "cell_type": "markdown",
   "id": "7ffa7b5f-d30b-4ed0-9563-e24e880c65fb",
   "metadata": {},
   "source": [
    ":::{.callout-tip title=\"Bonus: Moment check\" collapse=\"true\"}\n",
    "This wasn't requested in the initial brief, but as a quick check of the moments, we can compare the overturning moments (by wind and waves) to the restoring moments (self-weight of the structure) by:\n",
    "\n",
    "$$\n",
    "F h = V' D\n",
    "$$\n",
    "where $h$ is the distance from the pile base to the point upon which the force $F$ acts.\n",
    "\n",
    "Therefore:\n"
   ]
  },
  {
   "cell_type": "code",
   "execution_count": 36,
   "id": "f443930d-e11a-4d1a-9dee-282c97e2a12d",
   "metadata": {
    "tags": []
   },
   "outputs": [
    {
     "name": "stdout",
     "output_type": "stream",
     "text": [
      "Restoring moment = 534 MNm\n",
      "Overturning moment = 284 MNm\n"
     ]
    }
   ],
   "source": [
    "restoring_moment = V_demand * R\n",
    "overturning_moments = 2.03*120 + 8.07*5\n",
    "print(f\"Restoring moment = {restoring_moment:.0f} MNm\")\n",
    "print(f\"Overturning moment = {overturning_moments:.0f} MNm\")\n",
    "      "
   ]
  },
  {
   "cell_type": "markdown",
   "id": "3de8629b-e21f-4f48-8347-70de07b7bf14",
   "metadata": {
    "tags": []
   },
   "source": [
    "The restoring moment is greater than the overturning moment, so we're ok!\n",
    ":::\n",
    "<!-- #End of Quarto callout -->"
   ]
  },
  {
   "cell_type": "markdown",
   "id": "06e0e7b1-61c4-46e8-9545-a3784e81a6c4",
   "metadata": {
    "tags": []
   },
   "source": [
    "## 4. Improvements to the design\n",
    "Let's look at our unity checks:"
   ]
  },
  {
   "cell_type": "code",
   "execution_count": 37,
   "id": "b3b4d3e2-b7cd-4140-a5bf-391650e53f03",
   "metadata": {
    "tags": []
   },
   "outputs": [
    {
     "name": "stdout",
     "output_type": "stream",
     "text": [
      "V_demand/V_capacity = 0.94\n",
      "H_demand/H_capacity = 0.501\n"
     ]
    }
   ],
   "source": [
    "print(f\"V_demand/V_capacity = {V_demand/V_capacity:.2f}\")\n",
    "print(f\"H_demand/H_capacity = {H_demand/H_capacity:.3f}\")"
   ]
  },
  {
   "cell_type": "markdown",
   "id": "bb752479-e083-40ea-a6b4-0973a6ee26a4",
   "metadata": {},
   "source": [
    "Clearly, we have zero issues here with the horizontal capacity. Generally, drained conditions in sand don't pose an issue to horizontal stability. However, the horizontal capacity begins to become more critical in undrained scenarios. Of course, this will include foundation capacity in clay, however, undrained scenarios can even occur in sands under the short duration of a single wave load. Therefore both drained and undrained checks are recommended when performing a full foundation calculation. \n",
    "\n",
    "Even more importantly, the vertical capacity is *reallllllyyyy* close to the final design load. If we also take into account cyclic loading and corresponding degradation, we could well be approaching ULS failure. Surely this can't be the case?\n",
    "\n",
    "Well there's a couple of things we're missing: \n",
    "\n",
    "* We don't have the full details of the loads provided. Have these been factored? Are they absolutely the worst-case scenario?\n",
    "* We've also just assumed that the foundation rests on the seabed yet in reality, there the foundation is embedded underneath 3.5m of fill. \n",
    "\n",
    "If we want to improve the design, some foundation embedment may be required. And in reality, this is exactly what was done at Thornton Bank: the foundation was indeed embedded under both a fill and scour protection layer (@fig-thornton-bank-structure).\n",
    "\n",
    "If we include embedment into our calculation, the effective stress is therefore no longer zero at the base of the foundation. This means the second (surcharge) term of @eq-qlim comes in to play. The first term remains the same. \n"
   ]
  },
  {
   "cell_type": "code",
   "execution_count": 43,
   "id": "724ed772-4ec5-4622-ac14-38119173b447",
   "metadata": {
    "tags": []
   },
   "outputs": [
    {
     "name": "stdout",
     "output_type": "stream",
     "text": [
      "Effective stress at foundation base = 35kPa\n",
      "Nq = 12.59\n",
      "Kq = 1.83\n",
      "\n",
      "The vertical capacity after embedment is 163 MN\n",
      "V_demand/V_capacity = 0.28\n"
     ]
    }
   ],
   "source": [
    "embedment = 3.5 # [m]\n",
    "water_depth = 30\n",
    "sig_eff = unit_weight_eff*embedment\n",
    "print(f\"Effective stress at foundation base = {sig_eff:.0f}kPa\")\n",
    "\n",
    "# Bearing capacity factor\n",
    "Nq = (np.tan(np.pi/4 + 0.5*np.arctan(np.tan(friction_angle)/model_factor))**2) * np.exp(np.pi*(np.tan(friction_angle)/model_factor))\n",
    "print(f\"Nq = {Nq:.2f}\")\n",
    "\n",
    "iq = 1-0.5*(H_demand/V_demand)**5\n",
    "sq = 1 + iq*(B_eff/L_eff) * np.sin(np.arctan(np.tan(friction_angle)/model_factor))\n",
    "dq = 1 + 1.2*(R*2/B_eff) * (np.tan(friction_angle)/model_factor) * (1-np.sin(np.arctan(np.tan(friction_angle)/model_factor)))**2\n",
    "Kq = sq*dq*iq\n",
    "print(f\"Kq = {Kq:.2f}\")\n",
    "\n",
    "qlim = 0.5*unit_weight_eff*B_eff*Ngamma*Kgamma + sig_eff*(Nq-1)*Kq # kPa\n",
    "V_capacity_embedded = (qlim*A_eff)/1000 # MN\n",
    "print()\n",
    "print(f\"The vertical capacity after embedment is {V_capacity_embedded:.0f} MN\")\n",
    "print(f\"V_demand/V_capacity = {V_demand/V_capacity_embedded:.2f}\")"
   ]
  },
  {
   "cell_type": "markdown",
   "id": "52732ad3-16f2-413b-b64f-9ca734a5d570",
   "metadata": {},
   "source": [
    "This is much better! This also gives \"reserve capacity\" when we start looking at long-term capacity, particularly under cyclic loading. "
   ]
  },
  {
   "cell_type": "code",
   "execution_count": null,
   "id": "5a9cb056-48e5-42e9-a50d-3422527b6a83",
   "metadata": {},
   "outputs": [],
   "source": []
  }
 ],
 "metadata": {
  "kernelspec": {
   "display_name": "Python 3 (ipykernel)",
   "language": "python",
   "name": "python3"
  },
  "language_info": {
   "codemirror_mode": {
    "name": "ipython",
    "version": 3
   },
   "file_extension": ".py",
   "mimetype": "text/x-python",
   "name": "python",
   "nbconvert_exporter": "python",
   "pygments_lexer": "ipython3",
   "version": "3.11.5"
  }
 },
 "nbformat": 4,
 "nbformat_minor": 5
}
