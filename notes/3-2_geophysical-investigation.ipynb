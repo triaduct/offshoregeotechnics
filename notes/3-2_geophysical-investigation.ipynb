{
 "cells": [
  {
   "cell_type": "markdown",
   "id": "6cb5deac-950e-4bf6-8daa-39a37563e9dc",
   "metadata": {},
   "source": [
    "---\n",
    "title: \"Geophysical investigation\"\n",
    "subtitle: \"\"\n",
    "bibliography: ../bibliography.bib\n",
    "---"
   ]
  },
  {
   "cell_type": "markdown",
   "id": "770f8a92-c161-4685-a0b9-a0e60d6d212c",
   "metadata": {},
   "source": [
    "A geophysical survey is a non-intrusive site investigation method.  Processing the geophysical data usually not the job of geotechnical engineers and instead, each project will usually have a team of dedicated geophysicists. Nevertheless understanding the results, particularly in terms of ground modelling and paramaterisation, is an important step that geotechnical engineers need to perform, along with parameterisation. \n",
    "\n",
    "There are a range of geophysical methods, each serving different purposes (@tbl-geophys-tech).\n",
    "\n",
    "| Method                                                          | Function                                 | Frequency [kHz] | Penetration into ground [m]    | Vertical resolution [m] | \n",
    "|:----------------------------------------------------------------|:-----------------------------------------|:---------------:|:------------------------------:|:------------------------------:|\n",
    "| ***Seafloor mapping***| | | | |\n",
    "| Echo sounder                                                    | Determine water depth                    | 200             | 0                              | n/a |\n",
    "| Side scan sonar (SSS)                                           | Identify seabed features                 | 100-500         | 0                              | n/a |\n",
    "| ***Sub-seafloor mapping***| | | | |\n",
    "| Sub-bottom profiler (SBP)                                       | Soil stratification at shallow depths    | 10-100          | 10-100                         |  < 0.5 |\n",
    "| Ultra-high-resolution seismic (UHR)                             | Soil stratification at shallow to intermediate depths | 0.25-0.8   | 50-500                   | 0.5-2|\n",
    "| High-resolution seismic (HR)                                    | Soil stratification at shallow to intermediate depths | 0.08-0.3   | 100-1000                    | 1-7 |\n",
    "\n",
    ": Some types of geophysical techniques commonly encountered offshore. Note that both the penetration depth and vertical resolution values are only indicative, since both are highly dependent on the local stratigraphy {#tbl-geophys-tech tbl-colwidths=\"[25,25,25,25]\"}\n",
    "\n"
   ]
  },
  {
   "cell_type": "markdown",
   "id": "7f5eb231-a3fe-4e76-a4e5-525aee8fd368",
   "metadata": {},
   "source": [
    "# Basic principles\n",
    "Geophysics focusses on how wave energy is transferred from one place to another. This includes:\n",
    "\n",
    "1. **Acoustic waves**: waves that travel through a fluid\n",
    "2. **Seismic waves**: waves that travel through earth \n",
    "\n",
    "There are also different types of seismic waves (@fig-seismic-waves), and geophysics can target all types. In the shallow marine environment, geophysics tends to focus on gathering P-waves. P-waves are generally easier to collect offshore compare to S-waves since they can tavel through water and don't required seabed instrumentation to generate or record S-waves.\n",
    "\n",
    "For site investigations, most geophysical measurements are obtained by emitting a seismic or acoustic signal and analysing the waves reflected back to a receiver. There are many tools available that generally follow a similar principle: the resolution or spatial detail of the return measurements is dictated by the frequency of the emitted signal. \n",
    "\n",
    "::: {.callout-note}\n",
    "High frequency signals give high resolution but low penetration, but low frequencies give lower resolutions and greater penetrations.\n",
    ":::\n",
    "\n",
    "\n",
    "![Different types of seismic waves](pics/si/seismic-waves.jpg){#fig-seismic-waves width=88%}\n"
   ]
  },
  {
   "cell_type": "markdown",
   "id": "ef44ce7b-e792-4e1e-90cd-9326165c34cc",
   "metadata": {},
   "source": [
    "# Seafloor mapping techniques\n",
    "## Echo sounder\n",
    "An echo sounder is typically used get bathymetry data, thus giving important information into the seabed elevation and slope at a given location, as well as potential (or past) slope failures, seabed obstructions and other geohazards. There are two main types of echo sounders: singlebeam echo sounders (SBES) and multibeam echo sounders (MBES). MBES systems generally give more detailed seafloor maps, particularly in deepwater (>25m), whereas SBES systems are generally cheaper and more easier to process, and are thus found on all ocean going vessels. \n",
    "\n",
    "It's also becoming more common to analyse the backscatter from echo soundings. This can give a very high resolution bathymetry, although samples from seafloor are required to understand the correlation between the soil type and the acoustic wave backscatter.   \n",
    "\n",
    "![Multibeam echo sounder (MBES),](pics/si/geophys-gen/mbes.jpg){#fig-mbes width=60%}\n",
    "\n",
    "## Side scan sonar (SSS)\n",
    "Side-scan sonar is a method of underwater imaging using pulses of acoustic energy transmitted out the side of a \"towfish\" (or equivalent such as an ROV) and across the seafloor. The reflected energy is then used to assess seabed features (such as shipwrecks or pockmarks) in more detail compared to an echo sounder. While direct bathymetry data can be somewhat inferred from side-scan sonar, it becomes challenging due to the changing altitude of the towfish and length of the seismic shadow cast by seabed obstructions and the towfish itself.  \n",
    "\n",
    "![Side scan sonar and the \"towfish\". Take note of the shadow underneath the tow fish (remember: side scan sonar can only look to the sides)](pics/si/side-scan-sonar.jpg){#fig-side-scan-sonar width=60%}\n",
    "\n",
    "## Magnetometer\n",
    "A magnetomer is used to detect magnetic anomalies on the seabed, such as cables, shipwrecks, debris or anchor chains. Generally these are towed well behind the survey vessel to minimise magnetic inference, and an accurate profile of the total magnetic field at the location is needed so that small magnetic features can be accurately distinguished. \n",
    "\n",
    "Magnetometers also play an important role in unexploded ordinance (UXO) surveys (@fig-ijv-uxo), ensuring the UXOs don't pose a risk to either the intrusive site investigation or construction itself. \n",
    "\n",
    "![Results of the unexploded ordinanace (UXO) survey at IJmuiden Ver wind farm zone [offshorewind.rvo.nl](https://offshorewind.rvo.nl/)](pics/si/ijv-uxo.png){#fig-ijv-uxo width=80%}\n",
    "\n",
    "\n",
    "## Comparison between surficial techniques\n",
    "To some extent, echo sounders and sidescan sonar provide very comparable results. Generally speaking, sidescan sonar provides high resolution imagery, making it often easier to distinguish small seabed features, objects or textures (particularly in deeper waters thanks to the towfish). Echo sounders provide high-resolution bathymetry, just like a digital elevation model.\n",
    "\n",
    "![Shipwreck at Borssele [(offshorewind.rvo.nl)](https://offshorewind.rvo.nl/)](pics/si/geophys-gen/borssele.jpg){#fig-borssele width=80%}\n",
    "\n",
    "![Pock marks left by a four-legged jack-up at Hollandse Kust West [(offshorewind.rvo.nl)](https://offshorewind.rvo.nl/)](pics/si/geophys-gen/hkw_spudcan.png){#fig-hkw-spudcan width=80%}\n",
    "\n",
    "![Part of pipeline coming of above the rock cover at IJmuiden Ver [(offshorewind.rvo.nl)](https://offshorewind.rvo.nl/)](pics/si/geophys-gen/ijv_pipeline-with-rock-cover.png){#fig-ijv-pipeline width=80%}\n",
    "\n"
   ]
  },
  {
   "cell_type": "markdown",
   "id": "63bf824e-931c-4019-855a-eba59ec7581d",
   "metadata": {
    "tags": []
   },
   "source": [
    "# Sub-seafloor mapping\n",
    "To explore the different what different soil layers are underneath the seabed, seismic reflectivity surveys are used. The profiling systems is made up of three components (@fig-sub-bottom-profiling): \n",
    "\n",
    "- A sound source\n",
    "- An array of receivers (hydrophones or streamers)\n",
    "- A recorder, or data acquisition systems\n",
    "\n",
    "Seismic surveys emit an acoustic wave which travels through the water and into the soil (thus becoming a seismic wave). As the seismic wave propagates through the soil, it reflects at boundaries between different geological layers, reflecting back up towards the surface and recorded by a receiver or set of receivers being towed behind the boat (@fig-sub-bottom-profiling). \n",
    "\n",
    "There are also a variety of names and abbreviations for the different seismic profiling techniques. Generally speaking: \n",
    "\n",
    "- **Sub-bottom profiling (SBP)** can be viewed as one using a seismic source above 1 kHz--and thus is generally best for getting good resolution of lower layers in a relatively efficient manner. \n",
    "- **Seismic profiling** usually refers to techniques which use a seismic source below 1 kHz, using a more powerful boomer or sparker as the seismic source. Seismic profiling techniques are then often attributed as high resolution (HR), ultra-high-resolution (UHR) or ultra-ultra-high-resolution (UUHR) depending on the source and receiver characteristics. Nevertheless, the precise resolution is often difficult to determine prior to testing due to energy loss/attenuation caused by the local geology. \n",
    "\n",
    "In the end, a combination of different sub-seafloor geophysical techniques are often used to provide a multivariate dataset, from which the subsurface can accurately be characterised.\n",
    "\n",
    "::: {#fig-sub-bottom-profiling layout-ncol=2}\n",
    "![Schematic overview ([source](https://www.appliedacoustics.com/news/guide-to-sub-bottom-profiling/))](pics/si/sub-bottom-profiling.png){#fig-sub-bottom-profiling-concept width=88%}\n",
    "\n",
    "![Survey boat towing four streamer arrays alongside two sound sources ([source](https://www.offshorewind.biz/2024/10/23/tgs-completes-soil-survey-for-doordewind-offshore-wind-zone/)))](pics/si/doordewind-geophysics.png){#fig-sub-bottom-profiling-photo}\n",
    "\n",
    "Seismic profiling in operation\n",
    ":::\n",
    "\n",
    "The efficacy of the system is also dependent on the sound source, of which there are several different tools (@tbl-sbp-sources). Generally, increased sub-bottom seismic penetration requires systems with higher power output. This usually results in reduced geological layer resolution, since the lower acoustic frequencies used to achieve greater penetration are simultaneously poorer at achieving better resolution. System selection should always consider this penetration/resolution trade-off in achievable data.\n",
    "\n",
    "::: {.callout-tip title=\"Side note: single-channel vs multi-channel seismic\" collapse=\"true\"}\n",
    "Below the 1 kHz range, data can also be classified as single-channel seismic (SCS) or multi-channel seismic (MCS). These don't refer to the array of geophones, but instead, it describes the way in which data at each hydrophone is collected and processed. Generally, SCS systems are easier to deploy and analyse, although MCS systems are more effective in reducing the signal-to-noise ratio\n",
    ":::"
   ]
  },
  {
   "cell_type": "markdown",
   "id": "3ac54c71-4683-4494-a72f-db569d9f3f62",
   "metadata": {
    "jp-MarkdownHeadingCollapsed": true,
    "tags": []
   },
   "source": [
    "\n",
    "| Source  | Penetration depth     | Resolution [m] |\n",
    "|:--------|:---------------------:|:--------------:|\n",
    "| Pinger  | Up to 50m in soft soils, typically 5-10m   | 0.3-0.6        |\n",
    "| Chirp   | Up to 50m in soft soils, typically 5-10m   | 0.3-0.6        |\n",
    "| Boomer  | Up to 60m, typically 30m                   | 0.6-1          |\n",
    "| Sparker |  Up to 100m, typically 50m; If multichannel: up to 300m  | 0.6-1          |\n",
    "| Airgun  | 20-500m                                    | <0.3          |\n",
    "\n",
    ": Different types of sound sources for sub-bottom profiling. The penetration depth and resolution can vary depending on the power and size of the sound source as well as the ground conditions {#tbl-sbp-sources}\n"
   ]
  },
  {
   "cell_type": "markdown",
   "id": "6fc0089f-b0d3-4989-9397-a1f4850e5b7e",
   "metadata": {},
   "source": [
    "## Data processing & interpretation\n",
    "Seismic profiling involves receiving and processing a huge volumes of data, consisting of acoustic waves of various different frequencies, arriving at various different times to receivers at various different distances from one another. \n",
    "\n",
    "To convert this to a seimsmic profile, the data needs be processed, converted from time-to-depth along with [many different processing steps](https://wiki.aapg.org/Seismic_processing_basics) that can help to sequence the data, improve the signal-to-noise ratio (i.e. the data clarity) and remove errors and artefacts from the final trace--ultimately making the final trace more interpretable. However, this process can also be subjective (e.g. @fig-geophys-interpretation) and highly dependent on the person processing the data. \n",
    "\n",
    "![Example on how different interpretations of the same seismic data can lead to different results [@grayWhySingleChannel2023]](pics/si/geophys-gen/gray23-fig1.png){#fig-geophys-interpretation width=70%}\n",
    "\n",
    "Artefacts can also remain on seismic trace after processing (@fig-artefacts). Acoustic blanking, for instance, describes when the signal is attenuated or masked by, for example, the presence of natural gas or steep-side channels (buried or otherwise). \"Seabed multiples\" are also a common sight in processed seismic traces, caused by the reflected signal bouncing off the water surface and then again off the seabed.\n",
    "\n",
    "![Artefacts on a seismic trace from Hollandse Kust West [(offshorewind.rvo.nl)](https://offshorewind.rvo.nl/)](pics/si/geophys-gen/artefacts.png){#fig-artefacts width=70%}\n",
    "\n"
   ]
  },
  {
   "cell_type": "markdown",
   "id": "66666b98-9788-4446-a6ac-ff4a6c6c1d1b",
   "metadata": {},
   "source": [
    "**Seismostratigraphic units** are one of the main outputs of the geophysical campaign, and describe geological units that have a distinct seismic expression or are bounded by a distinct layer boundary (i.e. a \"reflector\") or horizon above and/or below the formation. These are often identified based on a combination of SBP and UHR data, "
   ]
  },
  {
   "cell_type": "markdown",
   "id": "ddbb087b-f813-40bb-b87b-286f7bfba66a",
   "metadata": {},
   "source": [
    "![](pics/si/geophys-gen/hkw_mcs-uhr_table.png){.lightbox group=\"my-gallery\" width=14%}\n",
    "![](pics/si/geophys-gen/hkw_mcs-uhr_fig3-10.png){.lightbox group=\"my-gallery\" width=20%}\n",
    "![](pics/si/geophys-gen/hkw_mcs-uhr_fig3-17.png){.lightbox group=\"my-gallery\" width=20%}\n",
    "![](pics/si/geophys-gen/hkw_mcs-uhr_fig3-18.png){.lightbox group=\"my-gallery\" width=18%}\n",
    "![](pics/si/geophys-gen/hkw_mcs-uhr_fig3-19.png){.lightbox group=\"my-gallery\" width=20%}\n",
    "\n",
    "::: {.figure-caption}\n",
    "Figure: Some UHR seismic traces and identified boundaries from Hollandse Kust West, performed by Fugro (click on figure to maximise; from: [offshorewind.rvo.nl](https://offshorewind.rvo.nl/)\n",
    ":::"
   ]
  },
  {
   "cell_type": "markdown",
   "id": "6845a307-ba41-494f-a220-621f19ca4808",
   "metadata": {},
   "source": [
    "::: {.callout-tip title=\"Side note: what about other onshore geophysical techqniues?\" collapse=true}\n",
    "Some techniques become that we often onshore, are less used offshore--particularly those using receivers directly on the ground surface, such as techniques like resistivity surveys or Multichannel Analysis of Surface Waves (MASW). Nevertheless, this is still an area of continuing research (e.g. @longMultichannelAnalysisSurface2020) and dependent on the local site conditions and budget. \n",
    ":::"
   ]
  },
  {
   "cell_type": "markdown",
   "id": "dd4eae10-eaa2-48a8-847d-8537b3213a28",
   "metadata": {
    "tags": []
   },
   "source": [
    "# Getting geotechnical properties from geophysical models\n",
    "Geophysical tests are mainly qualitative in nature, that is, they give us an idea of the number of soil layers and the changes in layer boundaries. Of course for geotechnics, obtaining quantitative properties is desirable. These quantitative parameters can include things like soil density, effective stress and porosity, but also especially small-strain parameters like the inital shear stiffness $G_0$—where traditional large-deformation intrusive tests (like the CPT) are not ideal.\n",
    "\n",
    "Maybe from previous courses, you have learned that deriving $G_0$ or other small-strain properties is possible with geophysics—like through MASW tests which use a source and receivers (geophones) placed directly on the ground surface. However, geophysics in a marine environment is dealt with differently to onshore, focussing primarily on P-waves which can travel through water and back to the receiver (unlike S-waves). As we've seen throughout this chapter, P-waves can broadly distinguish between granular and cohseive materials, but more detailed lihological information as well as soil behaviour can only be reliabily derived using the S-wave response [@vardyStateoftheartRemoteCharacterization2017].\n",
    "\n",
    "Nevertheless, improving quantitative, geotechnical derivations from geophysical data is still an ongoing area of research both in terms of the equipment and data processing that is applied (e.g. @vardyStateoftheartRemoteCharacterization2017, @longMultichannelAnalysisSurface2020) as well as synthetic, AI-based ground models (e.g. @carpentierAIBasedGmaxPrediction2024) which we will explore a little more later.\n"
   ]
  },
  {
   "cell_type": "code",
   "execution_count": null,
   "id": "c86d79c1-8f49-4282-bf2b-361737e89c4d",
   "metadata": {},
   "outputs": [],
   "source": []
  }
 ],
 "metadata": {
  "kernelspec": {
   "display_name": "Python 3 (ipykernel)",
   "language": "python",
   "name": "python3"
  },
  "language_info": {
   "codemirror_mode": {
    "name": "ipython",
    "version": 3
   },
   "file_extension": ".py",
   "mimetype": "text/x-python",
   "name": "python",
   "nbconvert_exporter": "python",
   "pygments_lexer": "ipython3",
   "version": "3.11.5"
  }
 },
 "nbformat": 4,
 "nbformat_minor": 5
}
