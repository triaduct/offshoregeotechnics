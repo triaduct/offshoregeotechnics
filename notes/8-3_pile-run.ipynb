{
 "cells": [
  {
   "cell_type": "markdown",
   "id": "739fd50c-bd0f-45db-9426-bd88522e0e76",
   "metadata": {},
   "source": [
    "---\n",
    "title: \"Pile run\"\n",
    "author: \"Kevin Duffy\"\n",
    "<!-- subtitle: \"How do suction pressures affect installation resistance?\" -->\n",
    "bibliography: ../bibliography.bib\n",
    "draft: true\n",
    "---"
   ]
  },
  {
   "cell_type": "code",
   "execution_count": null,
   "id": "712ae2f7-85f1-4d50-9f2f-9eaf434b17c2",
   "metadata": {},
   "outputs": [],
   "source": []
  }
 ],
 "metadata": {
  "kernelspec": {
   "display_name": "Python 3 (ipykernel)",
   "language": "python",
   "name": "python3"
  },
  "language_info": {
   "codemirror_mode": {
    "name": "ipython",
    "version": 3
   },
   "file_extension": ".py",
   "mimetype": "text/x-python",
   "name": "python",
   "nbconvert_exporter": "python",
   "pygments_lexer": "ipython3",
   "version": "3.11.5"
  }
 },
 "nbformat": 4,
 "nbformat_minor": 5
}
