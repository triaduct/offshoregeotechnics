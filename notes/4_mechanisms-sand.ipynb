{
 "cells": [
  {
   "cell_type": "markdown",
   "id": "7b903fd5-abde-43a3-902e-6adc35ad1263",
   "metadata": {},
   "source": [
    "---\n",
    "title: \"Basic mechanisms\"\n",
    "author: \"Kevin Duffy\"\n",
    "bibliography: ../bibliography.bib\n",
    "draft: true\n",
    "filters:\n",
    "    - shinylive\n",
    "---"
   ]
  },
  {
   "cell_type": "markdown",
   "id": "683cd1a8-c782-46fe-8f17-4f228d912d18",
   "metadata": {},
   "source": [
    "First, we'll consider the mechanisms that affect pile behaviour, mainly in the context of installation. \n",
    "\n",
    "\n",
    "## Methods of installation\n",
    "* Monotonic\n",
    "* Jacked\n",
    "* "
   ]
  },
  {
   "cell_type": "markdown",
   "id": "449c3106-fae0-4ad0-95a2-151b1dfd3121",
   "metadata": {},
   "source": [
    "**Include stuff from Lehane's paper**"
   ]
  },
  {
   "cell_type": "markdown",
   "id": "d983aa5f-8f4c-4dae-a037-4540ef7ba724",
   "metadata": {
    "tags": []
   },
   "source": [
    "## Response of closed-ended piles\n",
    "\n",
    "### Base resistance\n",
    "One of the first sets of well-instrumented pile tests came from tests on the so-called Imperical College Pile (ICP) at Labenne, where @lehaneExperimentalInvestigationsPile1992 showed that the pile base resistance $q_b$ of a jacked pile was approximately equal to the measured cone resistance $q_c$ from a CPT during installation.\n"
   ]
  },
  {
   "cell_type": "markdown",
   "id": "b903a176-792a-4fef-bd92-232e8e4a7b7c",
   "metadata": {},
   "source": [
    "#### An example of some code\n",
    "Here is an example of some code"
   ]
  },
  {
   "cell_type": "code",
   "execution_count": 1,
   "id": "b0e2f8a1-69b1-484e-93c6-840f4f954e3f",
   "metadata": {
    "tags": []
   },
   "outputs": [
    {
     "data": {
      "text/plain": [
       "[<matplotlib.lines.Line2D at 0x1c9ab05ec50>]"
      ]
     },
     "execution_count": 1,
     "metadata": {},
     "output_type": "execute_result"
    },
    {
     "data": {
      "image/png": "[encoded data removed]",
      "text/plain": [
       "<Figure size 640x480 with 1 Axes>"
      ]
     },
     "metadata": {},
     "output_type": "display_data"
    }
   ],
   "source": [
    "import matplotlib.pyplot as plt\n",
    "import numpy as np\n",
    "\n",
    "plt.plot([1,2,3,4],[5,9,12,21])"
   ]
  },
  {
   "cell_type": "markdown",
   "id": "0d1b7fb0-6d36-4e29-b2b7-0e39a0d8189c",
   "metadata": {},
   "source": [
    "IDEA: App for averaging method\n",
    "Just be able to change averaging method and pile diameter. Use Dirk's test results. Also include De Boorder and Boulanger methods"
   ]
  },
  {
   "cell_type": "markdown",
   "id": "f4d6c287-1a10-452d-b5a2-15c59320782b",
   "metadata": {
    "tags": []
   },
   "source": [
    "### Shaft resistance"
   ]
  },
  {
   "cell_type": "markdown",
   "id": "1bfb6cf6-b6e2-459a-91b3-630a09503806",
   "metadata": {},
   "source": [
    "Through model tests on instrumented piles, @lehaneMechanismsShaftFriction1993, @chowInvestigationsBehaviourDisplacement1997 and @limTimeEffectsShaft2015 have shown that the shaft friction $\\tau_f$ on a displacement pile obeys Coulomb's Law where:\n",
    "\n",
    "$$\n",
    "\\tau_f = \\sigma'_{rf} \\tan(\\delta_f) = (\\sigma'_{rc} + \\Delta \\sigma'_{rd}) \\tan(\\delta_f)\n",
    "$$\n",
    "\n",
    "where $\\sigma'_{rf}$ is the radial effective stress at peak friction, $\\sigma'_{rc}$ is the stationary radial effective stress, $\\Delta \\sigma'_{rd}$ is the increase in radial effctive stress under axial loading and $\\delta_f$ is the ultimate constant volume interface friction.\n",
    "\n",
    "\n"
   ]
  },
  {
   "cell_type": "markdown",
   "id": "d88358b6-472b-4d3b-9c44-74509efb734b",
   "metadata": {},
   "source": [
    "#### Dilation\n",
    "The restraint to dilation at the pile shaft during pile loading provided by the surrounding sand leads to an increase in radial stress on the pile shaft $\\Delta \\sigma'_{rd}$ and hence to the peak shaft friction. This increase can be expressed from cavity expansion theory by $\\Delta \\sigma'_{rd} = 4G · \\Delta r / D$ (@lehaneShaftCapacityDriven1994), where $G$ is the shear modulus and $y$ is the dilation of the sand at the shaft interface. \n",
    "\n",
    "Since the degree of dilation is inversely proportional to the pile diameter $D$, dilation is usually only significant for small diameter piles. Therefore, this dilation component becomes very important when extrapolating the results of small-scale laboratory tests (depending on the relative mean particle size and pile diameter) to full-scale piles."
   ]
  },
  {
   "cell_type": "markdown",
   "id": "bba70c76-c941-438c-9b39-62e20d0a167f",
   "metadata": {},
   "source": [
    "::: {.callout-note}\n",
    "The influence of $\\Delta \\sigma'_{rd}$ on the friction sleeve resistance $f_s$ is also one of the reasons why $f_s$ is not often used in CPT-based design methods. Measurement inaccuracies is also another reason (@lunneConePenetrationTesting1997).\n",
    ":::"
   ]
  },
  {
   "cell_type": "markdown",
   "id": "794c1d58-87fc-416b-a480-462fdcdd824a",
   "metadata": {},
   "source": [
    "#### Friction fatigue\n",
    "Initial observations by @vesicTestsInstrumentedPiles1970 and @lehaneExperimentalInvestigationsPile1992 (among others), showed that the radial effective stress $\\sigma'_{rf}$ of a jacked or driven pile reduces as the distance from the pile tip $h$ increases, like shown in @fig-labenne-qs. This phenomenon is known as friction fatigue and continues to develop as the pile penetrates deeper and deeper. In other words, horizons that have experienced more loading cycles--caused by pile hammering or jacking increments--will have reduced radial effective stresses compared to horizons furhter down the pile.\n",
    "\n",
    "![Measured radial stresses from Labenne (adapted from @lehaneExperimentalInvestigationsPile1992) **CHANGE TO RADIAL STRESSES**](pics/axial-response/labenne-qs.PNG){#fig-labenne-qs}\n",
    "\n",
    "Friction fatigue occurs as a result of loading cycles imposed by the pile hammering or jacking increments of a displacement pile. This causes a contraction of a thin layer of highly crushed soil at the soil-pile interface (@fig-arshad-friction-fatigue), thus reducing the far-field radial stresses being imposed on the pile (@fig-white-friction-fatigue). These far-field radial stresses are in turn dependent on the pile diameter, and as we will see in **REF CHAPTER**, design methods often express friction fatigue as a function of $h \\slash D$, that is, the normalised distance from the pile base. \n",
    "\n",
    "::: {#fig-friction-fatigue layout-ncol=2}\n",
    "\n",
    "![Close-up picture of the penetrometer-soil interface by @arshadExperimentalStudyCone2014](pics/axial-response/arshad-friction-fatigue.png){#fig-arshad-friction-fatigue}\n",
    "\n",
    "![Mechanism proposed by @whiteDisplacementStrainPaths2004, where Zone B is the area of highly crushed soil](pics/axial-response/white-bolton-friction-fatigue.PNG){#fig-white-friction-fatigue width=60%}\n",
    "\n",
    "Insights into the mechanisms causing friction fatigue\n",
    ":::\n"
   ]
  },
  {
   "cell_type": "markdown",
   "id": "4a632268-d5d7-461f-9cfb-da1fde94013a",
   "metadata": {},
   "source": [
    "#### Interface friction angle\n",
    "The interface angle $\\delta_f$ describes **[...]**. Somewhat intuitively, initial studies and design methods (REF, REF) suggested that $\\delta_f$ varies with the mean particle diameter $D_{50}$. However, several studies (e.g. @yangSandGrainCrushing2010, @hoLargedisplacementInterfaceShear2011, @liuUnifiedDatabaseRing2019) have shown that this is less likely to be the case, largely because of the high levels of particle breakage underneath the pile tip, and thus passing up along the pile-soil interface (@fig-friction-fatigue). \n",
    "\n",
    "Therefore\n",
    "\n",
    "![Variation in $\\delta_f$ with mean particle size $D_{50}$](pics/axial-response/delta-f.PNG){#fig-delta-f width=40%}\n",
    "\n",
    "\n",
    "API originally stated that $\\delta$ varies with $D_{50}$ although this turns out not to be the case (REF, REF). This is becasue "
   ]
  },
  {
   "cell_type": "markdown",
   "id": "a049e16a-1dc7-4250-86d5-6c99e15b54c8",
   "metadata": {
    "tags": []
   },
   "source": [
    "#### Residual loads\n",
    "Driving a precast pile generates a substantial amount of stresses in the pile and the surrounding soil. Under each blow, the pile body and soil beneath the pile base compress and \n",
    "deform, partially rebounding after each blow. During rebounding, negative shear stresses mobilise along the pile shaft whilst stresses at the pile base reduce. Resistance along the pile shaft can lock-in some of these stresses, reaching an equilibrium condition between the stresses along the pile shaft and underneath the pile base. These are known as residual stresses and are crucial for interpreting load tests on driven piles. Failure to do so can result in a misinterpretation of the pile shaft and base capacities and lead to inappropriate and unsafe design  methods.\n",
    "\n",
    "::: {#fig-residual-loads layout-ncol=2}\n",
    "\n",
    "![Response of the pile underneath each hammer blow](pics/axial-response/amaliahaven-residual-loads1.PNG){#fig-res-load-mech width=50%}\n",
    "\n",
    "![Measurements of residual loads in the pile after pile driving, but before load testing](pics/axial-response/amaliahaven-residual-loads2.PNG){#fig-amaliahaven-res-loads width=100%}\n",
    "\n",
    "Residual loads creating by the installation of a precast pile\n",
    ":::\n",
    "\n",
    "Nonetheless, describing the litany of effects on a pile’s residual stress development is difficult and not well understood [@paikBehaviorOpenClosedended2003] and so directly measuring this response is imperative. Yet measuring these residual loads accurately also comes with its challenges [@duffyResidualStressMeasurement2022], mainly in terms of the additional time it takes to install the sensors and carry out reference measurements, as well as the associated costs of this time along with the additional (temperature) sensors needed.\n",
    "\n",
    "::: {.callout-note}\n",
    "Knowing the amount of residual stress in a pile isn't entirely necessary for design as it's usually implicitly included in design methods, as we will see in **Section XX**. However, it becomes crucial when delving into the results of instrumented pile tests, where understanding the reference reading is important--just like when setting zero on a weighing scale when baking.\n",
    ":::"
   ]
  },
  {
   "cell_type": "markdown",
   "id": "253ff339-2220-4e28-b6aa-2bbd312b9bb9",
   "metadata": {},
   "source": [
    "## Response of open-ended piles\n",
    "Open-ended piles (otherwise known as tubular piles) are far and beyond the most common pile type offshore. There are several reasons for this, although this largely comes down to their ease of installation and cost of manufacturing when compared to driven piles. \n",
    "\n",
    "\n",
    "::: {#fig-friction-fatigue layout-ncol=3}\n",
    "![Monopiles just after fabrication at the SIF facility in the port of Rotterdam](https://sif-group.com/images/_1200x630_crop_center-center_82_none/Accesform-header.jpg?mtime=1615894560)\n",
    ":::\n",
    "\n",
    "All of the mechanisms mentioned up until now also affect tubular piles. However, one key mechanism that distinguishes open-ended piles from closed-ended piles is plugging. Plugging refers to the process by which soil enters and accumulates inside a tubular pile, potentially forming a \"plug\" of soil that resists further entry of soil into the pile. This affects the pile’s behavior during both installation and under operational loading, since plugging also affects how soil displaces around the pile as it penetrates through the ground. \n",
    "\n",
    "**DISCUSS THE COMBINED FIGURE HERE**\n",
    " \n",
    "The degree of plugging during installation can be represented by the Incremental Filling Ratio (IFR) or Plug Length Ratio (PLR) whereby:"
   ]
  },
  {
   "cell_type": "markdown",
   "id": "140f0f63-e4d6-4f92-9708-bd30f9ec7f95",
   "metadata": {},
   "source": [
    "$$\n",
    "IFR = \\frac{\\Delta L_p}{\\Delta L}\n",
    "$$ {#eq-ifr-pile}"
   ]
  },
  {
   "cell_type": "markdown",
   "id": "262687eb-9930-4846-af5a-d0a619f0b8af",
   "metadata": {},
   "source": [
    "$$\n",
    "PLR = \\frac{L_p}{L}\n",
    "$$\n",
    "\n",
    "The effective area ratio $A_{re}$ is often used to quantify the degree of plugging based on the ratio of displaced soil to the gross pile volume:\n",
    "\n",
    "$$ \n",
    "A_{re} = 1 - IFR \\frac{D_i^2}{D_o^2}\n",
    "$$\n"
   ]
  },
  {
   "cell_type": "markdown",
   "id": "44a4aca1-80af-4437-861c-c4e0524cba47",
   "metadata": {},
   "source": [
    "::: {#fig-plugging layout-ncol=3}\n",
    "\n",
    "![Fully coring ($IFR = 1$)](pics/axial-response/plug_coring.png){#fig-coring}\n",
    "\n",
    "![Partially plugged ($0 \\le IFR \\le 1$)](pics/axial-response/plug_partial.PNG){#fig-partial-plug}\n",
    "\n",
    "![Fully plugged ($IFR = 0$)](pics/axial-response/plug_full.PNG){#fig-full-plug}\n",
    "\n",
    "Plugging in an open-ended pile\n",
    ":::\n",
    "**[MERGE KEN'S FIGURE AND GEOTECHNIEK FIGURE]**"
   ]
  },
  {
   "cell_type": "markdown",
   "id": "f427f6f7-5172-4079-a4e8-ef9ca023fc9b",
   "metadata": {},
   "source": [
    "It is caused by...\n",
    "\n",
    "Nevertheless, the degree of plugging one would expect during installation is strongly dependent on several factors. Crucially, plugging seldom occurs during the installation of driven tubular piles offshore, that is, when the outer pile diameter is usually greater than 1.5m. There's a couple of reasons for this: (1) the relative size of the pile-to-particle diameter significantly reduce the likelihood of the locked-up nose cone from forming and (2) the acceleration of pile wall relative to the (static) pile plug creates a phases shift or \"slippage\" under each hammer blow.\n",
    "\n",
    "Therefore, typical offshore piles have a wall thickness $D/t \\approx 40$, for which $A_{re} \\approx 0.1$ for unplugged penetration. \n",
    "\n",
    "Yet plugging can noticeably affect on other pile types and with how both laboratory and field tests are interpreted, particularly at the small-scale. \n",
    "* Jacked piles for instance, are more prone to plugging. "
   ]
  },
  {
   "cell_type": "markdown",
   "id": "3c460080-141e-4737-9d5b-6cd414e47d6a",
   "metadata": {},
   "source": [
    "![Findings by @cerfontaineStudyParticleScale2023 in Discrete Element Method studies of jacked piles](pics/axial-response/plugging-cerfontaine.png){#fig-plugging-cerfontaine width=50%}"
   ]
  },
  {
   "cell_type": "markdown",
   "id": "9acc99f3-6d75-4368-979f-6b49c3f3d2f2",
   "metadata": {},
   "source": [
    "::: {.callout-note}\n",
    "It's important to realise the physical differences between **installation response** and **operational response** (in other words, the dynamic vs static response). While plugging isn't necessarily a concern for large-diameter piles *during installation*, in **CHAPTER X** we'll see the plug response can be quite different under operational loading. \n",
    ":::"
   ]
  },
  {
   "cell_type": "markdown",
   "id": "5a23171d-6ee6-4ba2-9850-805b4e0506c1",
   "metadata": {},
   "source": [
    "\n",
    "To consider pile plugging, design methods often lump the annular resistance $q_{ann}$ and the plug resistanc $q_{plug}$ into one formulation for $q_b$, where $q_{plug}$ is...\n",
    "\n",
    "In terms of the annular resistance, the pile annulus behaves no different to a cone penetrometer--which are both of relatively comparable dimensions. As a result, $q_{ann}$ is independent of the plugging response during installation, mobilising resistance similar to the CPT $q_c$ value (@fig-ifr-qann). \n",
    "\n",
    "![Dependence of $q_{ann} / q_c$ on $IFR$ during tests on jacked model piles [@lehaneBaseResistanceJacked2001]](pics/axial-response/lehane-gavin-qann.PNG){#fig-ifr-qann width=50%}\n",
    "\n",
    "\n",
    "While the annular resistance is independent of the degree of plugging, the plug resistance by contrast is not. A fully-plugged pile locks in soil particles within the pile, displacing the soil out and around the pile and increasing the radial effective stresses around the pile and underneath the pile base (@fig-plugging-radial-stress). Consqeuently, plugging has large implications on the stress state around the pile base, and thus $q_plug$ scales directly with $IFR$ (@fig-lehane-gavin-qplug). \n",
    "\n",
    "![Influence of plugging on the radial stresses around the pile](pics/axial-response/plugging-alternative.png){#fig-plugging-radial-stress width=70%}\n",
    "\n",
    "![Dependence of $q_{plug} / q_c$ on $IFR$ during tests on jacked model piles [@lehaneBaseResistanceJacked2001]](pics/axial-response/lehane-gavin-qplug.PNG){#fig-lehane-gavin-qplug width=50%}\n",
    "\n"
   ]
  },
  {
   "cell_type": "markdown",
   "id": "d668776f-3a10-43e6-9c91-1ef7d3df0f73",
   "metadata": {},
   "source": [
    "::: {.callout-tip title=\"**Side note:** How to measure the contribution of the pile plug during experiments\" collapse=True}\n",
    "Strain sensors measure how much the pile shaft compresses under an axial load—which is in turn correlated to how much shaft resistance each soil layer gives. While this is relatively straightforward for a closed-ended pile, with an open-ended pile it's difficult to separate the plug and external shaft friction contributions--since both of these simultaneously affect how much the steel tube compresses under loading.\n",
    "\n",
    "To do so, a **twin-walled pile** is often used. Strain sensors attached to the external tube measure solely the external shaft friction, whereas strain sensors attached to the inner tube measure solely the contribution of the soil plug. \n",
    "\n",
    "While this is of course an optimal solution to quantifying the resistance components individually, often this may not be possible due to costs and time constraints. \n",
    "\n",
    "![Twin-walled model pile setup by @igoeShaftCapacityOpenended2011](pics/axial-response/twin-walled-pile.PNG){#fig-twin-walled-pile-igoe width=40%}\n",
    "<!-- ![Assembly of a full-scale twin-walled pile by Han  et al. @hanAxialResistanceOpenended2020](pics/axial-response/twin-walled-pile-han.PNG){#fig-twin-walled-pile-han width=60%} -->\n",
    ":::\n"
   ]
  }
 ],
 "metadata": {
  "kernelspec": {
   "display_name": "Python 3 (ipykernel)",
   "language": "python",
   "name": "python3"
  },
  "language_info": {
   "codemirror_mode": {
    "name": "ipython",
    "version": 3
   },
   "file_extension": ".py",
   "mimetype": "text/x-python",
   "name": "python",
   "nbconvert_exporter": "python",
   "pygments_lexer": "ipython3",
   "version": "3.11.5"
  }
 },
 "nbformat": 4,
 "nbformat_minor": 5
}
