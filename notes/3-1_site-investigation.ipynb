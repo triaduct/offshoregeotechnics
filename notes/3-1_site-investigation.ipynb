{
 "cells": [
  {
   "cell_type": "markdown",
   "id": "6308152d-753d-4dee-af3d-943325b0f8d1",
   "metadata": {},
   "source": [
    "---\n",
    "title: \"Site investigation\"\n",
    "subtitle: \"\"\n",
    "bibliography: ../bibliography.bib\n",
    "---"
   ]
  },
  {
   "cell_type": "markdown",
   "id": "6c2d192a-25b6-4e67-a5ad-74e0f6ff9072",
   "metadata": {},
   "source": [
    "An offshore site investigation aims to determine the conditons, geohazards and parameters for engineering design. From a geotechnical perspective, there are four key steps:\n",
    "\n",
    "1. Desk study\n",
    "2. Geophysical survey\n",
    "3. Seabed geotechnical survey\n",
    "4. Deep penetration survey\n",
    "\n",
    "These are then combined into a ground model, giving recommendations to designers regarding the likely layering and geotechnical parameters.\n",
    "\n",
    "![Site investigation studies and investigations at IJmuiden Ver, Dutch North Sea sector [(offshorewind.rvo.nl)](https://offshorewind.rvo.nl/)](pics/si/ijmuiden-ver-studies.png){#fig-ijmuiden-ver-studies width=80%}\n",
    "\n",
    "In some ways, an offshore site investigation is similar to the onshore investigation—particularly with the desktop study and the geotechnical survey. However, the sheer size of the site (especially for offshore wind farms; @fig-ijmuiden-ver) means geotechnical engineers have to be efficient with their selection of site investigation tools. \n",
    "\n",
    "As a result, geophysical surveys play a much bigger role in offshore works. Furthermore, the challenges of working at sea means geotechnical surveys have to be executed differently, and so often a shallow (seabed) geotechnical survey is performed separately to a deep (downhole) geotechnical survey. \n",
    "\n",
    "![Site investigation data collected at IJmuiden Ver](pics/si/ijmuiden-ver.png){#fig-ijmuiden-ver}"
   ]
  },
  {
   "cell_type": "markdown",
   "id": "e1146b52-fa1b-43a1-ad5e-7caac36ef8ca",
   "metadata": {
    "tags": []
   },
   "source": [
    "## Desk study\n",
    "The desk study looks at existing data for the preliminary assessment of site conditions and conceptual design. Ultimately, the aim is to evaluate the potential costs and risks of a project, along with a preliminary design so that the site investigation and design contracts can be approriately tendered for. It can include data such as:\n",
    "\n",
    "* Approximate bathymetry (e.g. from maritime charts)\n",
    "* Seabed obstacles or other features (existing structures, interconnector cables)\n",
    "* Geological hisotry\n",
    "* Geohazards\n",
    "* Metocean data\n",
    "* Vessel traffic\n",
    "\n",
    "The resources that can be consulted for this are numerous, ranging from public literature, geological maps to previous geotechnical investigations (both public and private data). Some example of Dutch-specific resources include:\n",
    "\n",
    "* [offshorewind.rvo.nl](https://offshorewind.rvo.nl/): Data collected from all Dutch offshore wind farms, which is nearly entirely publicly available. \n",
    "* [DINOloket](https://www.dinoloket.nl/): Public data collected from the Dutch North Sea sector, including boreholes, CPTs and seabed samples. Detailed information regarding geological formations is also available.\n",
    "* [NLOG](https://www.nlog.nl/nlog-mapviewer/): Data collected from oil and gas production, including boreholes and seismic data\n",
    "\n"
   ]
  },
  {
   "cell_type": "markdown",
   "id": "90957515-0850-4104-bc1e-aceb29d9d535",
   "metadata": {},
   "source": [
    "## Geohazards\n",
    "**Geohazards are naturally occurring geological features or events that can have an adverse impact on a development**. They can be either localised features or regionally extensive, with examples of some geohazards included in @fig-geohazards.\n",
    "\n",
    "Assessment of the risk and subsequent mitigation and prevention is an essential part of both the site investigation and design, requiring an understanding of both their causes and implications. This analysis is also specific to the structure being constructed. For instance, trapped gas may be considered a risk if present at the location of a potentional borehole but is generally not a risk to cable installation or vessels. \n",
    "\n",
    "![Some examples of offshore geohazards [@chiocciSeafloorMappingGeohazard2011]](pics/geology/geohazards.png){#fig-geohazards width=80%}\n"
   ]
  },
  {
   "cell_type": "markdown",
   "id": "cf365d0b-e852-4c28-8d01-bad1741e91a4",
   "metadata": {},
   "source": [
    "## Other site investigation surveys\n",
    "Some other surveys are performed in this chapter that won't be explicitly covered. These include seismic surveys if there's an earthquake risk, metocean surveys for determining wind, wave and current strengths and frequencies, and environmental impact assessments for assessing the impact of construction on flora and animals in the region-of-interest. \n"
   ]
  },
  {
   "cell_type": "markdown",
   "id": "23ed98b6-47b7-49d8-83e2-50a66414da47",
   "metadata": {},
   "source": [
    "## Integrated ground modelling (IGM)\n",
    "Ground models aim to capture the geological, geomorphological and geotechnical features that may influence short-term offshore activities, such as drilling and rig anchoring, as well as the long-term reliability of offshore foundations [@isoOilGasIndustries2023]. Ground models for very small and simple projects can consist of one single characteristic soil profile, where the elevation and properties of each soil layer are assumed to be constant across the entire site. \n",
    "\n",
    "However as sites increase in size, like to the scale of IJmuiden Ver (@fig-ijmuiden-ver), the complexity of the ground model must also increase so that the ground conditions are accurately portrayed. Therefore, ground model development becomes an inter-disciplinary collaboration between engineers, geologists and geophysicists.\n",
    "\n",
    "Wind farms in particular tend to have a low data density (e.g. @fig-data-sparsity). However, it's often easier to gather geophysical data offshore so there's an abundance of geophysical data in comparison. Therefore, it's still possible to get a relatively clear idea of the stratigraphy across the entire site. Nevertheless, understanding precisely the variation within a layer remains a challenge. \n",
    "\n",
    "![Data density at recent wind farm developments in the Dutch North Sea sector [(from: Fugro)](https://offshorewind.rvo.nl/file/download/c6692552-b710-4da5-af82-e2fd739a74e7/ijv_20230615_rvo_igm-part-i_presentation-webinar-f.pdf)](pics/si/data-sparsity.png){#fig-data-sparsity width=90%}\n"
   ]
  },
  {
   "cell_type": "markdown",
   "id": "84b6c899-8d74-4750-b9c5-1cd9e27532bf",
   "metadata": {},
   "source": [
    "To efficiently represent the site, the site is divided into **ground units** and **soil provinces** (e.g. @fig-ijv-igm). Ground units are layers that are relevant from a geotechnical perspective---which is in turn dependent on the envisaged design (e.g. shallow foundation or a deep foundation pile). Soil provinces then represent geographical areas where the soil stratigraphy and characeristics are relatively similar.\n",
    "\n",
    "::: {#fig-ijv-igm .figure}\n",
    "\n",
    "![](pics/si/ijv/ijv.jpg){width=90%}\n",
    "\n",
    "::: {layout-ncol=1}\n",
    "![](pics/si/ijv/sp1.jpg){.lightbox width=100px}\n",
    "![](pics/si/ijv/sp2.jpg){.lightbox width=100px}\n",
    "![](pics/si/ijv/sp3.jpg){.lightbox width=100px}\n",
    "![](pics/si/ijv/sp4.jpg){.lightbox width=100px}\n",
    "![](pics/si/ijv/sp5.jpg){.lightbox width=100px}\n",
    "![](pics/si/ijv/sp6.jpg){.lightbox width=100px}\n",
    ":::\n",
    "\n",
    "Soil provinces determined by Fugro at IJmuiden Ver, along with selected CPTs from each province (click to expand)\n",
    "\n",
    ":::"
   ]
  },
  {
   "cell_type": "markdown",
   "id": "8379d03f-7040-45c6-a168-5cb24bc64765",
   "metadata": {},
   "source": [
    "### Interpolating soil properties\n",
    "Ground modelling has traditionally been a manual task. At each relevant location, such as a monopile foundation, a soil profile is devised and each layer is assigned geotechnical properties based on in-situ and laboratory tests. For offshore wind farms, this process can  become laborious and time-consuming, particularly in cases like IJmuiden Ver where hundreds of wind turbine  locations may be planned across a vast area.  \n",
    "\n",
    "Geostatistical techniques, such as kriging and random field modelling, are often the first port-of-call for interpolating between site investigation points and have been used for many years to model and characterise reservoirs in the oil and gas industry. However, data sparsity across offshore wind farms often makes it difficult to estimate the parameters required for geostatistical techniques, particularly with respect to the spatial variability in the horizontal direction. \n",
    "\n",
    "![Synthetic CPT model at a harbour in the port of Rotterdam](pics/si/amaliahaven.jpg){#fig-amaliahaven width=90%}\n",
    "\n",
    "More and more research and ground modelling contracts (e.g. @sauvinStateoftheArtGroundModel2022, @peuchenUpscaling15002022) are focussing on \"non-parameteric\" machine learning models to generate synthetic CPTs across a given site. These models help to identify correlations and patterns in large, multivariate datasets, integrating the data together into a site-wide model from which synthetic CPTs at turbine locations can be derived. \n"
   ]
  },
  {
   "cell_type": "markdown",
   "id": "1c344f57-afdd-4f5f-a31c-3b619358f2cc",
   "metadata": {},
   "source": [
    "::: {.callout-note title=\"Integrating geophysical and geotechnical data\"}\n",
    "It's important to be aware of the level of interpretation that goes into developing combined geophysical-geotechnical models. In particular, @vardyStateoftheartRemoteCharacterization2017 gives a good overview of this:\n",
    "\n",
    "* **Geotechnical data always involves some degree of sample disturbance or deformation**, unlike geophysical data. This can introduce uncertainties when deriving mechanical parameters from geotechnical and geophysical data\n",
    "* Geophysical and geotechnical data **are collected in what are primarily contrasting strain regimes**, where geophysical data generally focusses on very small strain and geotechnical data at larger strains \n",
    "* Where geophysical and geotechnical data have been integrated, the methods either are highly qualitative or suffer from large uncertainties due to **imprecisely calibrated relationships** between the geophysical and geotechnical parameters—which becomes especially a problem in areas with data sparsity. \n",
    ":::\n"
   ]
  }
 ],
 "metadata": {
  "kernelspec": {
   "display_name": "Python 3 (ipykernel)",
   "language": "python",
   "name": "python3"
  },
  "language_info": {
   "codemirror_mode": {
    "name": "ipython",
    "version": 3
   },
   "file_extension": ".py",
   "mimetype": "text/x-python",
   "name": "python",
   "nbconvert_exporter": "python",
   "pygments_lexer": "ipython3",
   "version": "3.11.5"
  }
 },
 "nbformat": 4,
 "nbformat_minor": 5
}
