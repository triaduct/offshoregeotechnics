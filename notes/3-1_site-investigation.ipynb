{
 "cells": [
  {
   "cell_type": "markdown",
   "id": "6308152d-753d-4dee-af3d-943325b0f8d1",
   "metadata": {},
   "source": [
    "---\n",
    "title: \"Site investigation\"\n",
    "subtitle: \"\"\n",
    "bibliography: ../bibliography.bib\n",
    "filters:\n",
    "    - shinylive\n",
    "---"
   ]
  },
  {
   "cell_type": "markdown",
   "id": "6c2d192a-25b6-4e67-a5ad-74e0f6ff9072",
   "metadata": {},
   "source": [
    "An offshore site investigation aims to determine the conditons, geohazards and parameters for engineering design. From a geotechnical perspective, there are four key steps:\n",
    "\n",
    "1. Desk study\n",
    "2. Geophysical survey\n",
    "3. Seabed geotechnical survey\n",
    "4. Deep penetration survey\n",
    "\n",
    "These are then combined into a ground model **[...]**\n",
    "\n",
    "![Site investigation studies and investigations at IJmuiden Ver, Dutch North Sea sector [offshorewind.rvo.nl](https://offshorewind.rvo.nl/)](pics/si/ijmuiden-ver-studies.png){#fig-ijmuiden-ver-studies width=80%}\n",
    "\n",
    "In some ways, the process is similar to the onshore investigation--particularly with the desktop study and the geotechnical survey. However, the sheer size of the site (especially for offshore wind farms; @fig-ijmuiden-ver) means geotechnical engineers have to be efficient with their selection of site investigation tools and so geophysical surveys in particular have more of a role to play in understanding the site. Furthermore, the challenges of working at sea means geotechnical surveys have to be executed differently, and so often a shallow (seabed) geotechnical survey is performed separately to a deep (downhole) geotechnical survey. \n",
    "\n",
    "![Site investigation data collected at IJmuiden Ver](pics/si/ijmuiden-ver.png){#fig-ijmuiden-ver width=80%}\n",
    "\n",
    "**INCLUDE EXAMPLES OF CSOT AND TIME**"
   ]
  },
  {
   "cell_type": "markdown",
   "id": "e1146b52-fa1b-43a1-ad5e-7caac36ef8ca",
   "metadata": {
    "tags": []
   },
   "source": [
    "## Desk study\n",
    "The desk study looks at existing data for the preliminary assessment of site conditions and conceptual design. It can include data such as:\n",
    "\n",
    "* Approximate bathymetry\n",
    "* Seabed obstacles or other features(existing structures, interconnector cables)\n",
    "* Geological hisotry\n",
    "* Geohazards\n",
    "* Metocean data\n",
    "* Vessel traffic\n",
    "\n",
    "The resources that can be consulted for this are numerous, ranging from public litertaure, geological maps and previous geotechnical investigations (both public and private data). Some example of Dutch-specific resources include:\n",
    "\n",
    "* [offshorewind.rvo.nl](https://offshorewind.rvo.nl/): Data collected from all Dutch offshore wind farms, which is nearly entirely publicly available. \n",
    "* [DINOloket](https://www.dinoloket.nl/): Public data collected from the Dutch North Sea sector, including boreholes, CPTs and seabed samples. Detailed information regarding geological formations is also available.\n",
    "* [NLOG](https://www.nlog.nl/nlog-mapviewer/): Data collected from oil and gas production, including boreholes and seismic data\n",
    "\n",
    "Ultimately, the aim of the desk study to evaluate the potential costs of a project, along with a preliminary design so that the site investigation and design contracts can be approriately tendered for "
   ]
  },
  {
   "cell_type": "markdown",
   "id": "90957515-0850-4104-bc1e-aceb29d9d535",
   "metadata": {},
   "source": [
    "## Geohazards\n",
    "Identifying geohazards is a critical part of a site investigation. Geohazards are naturally occurring geological features or events that can have an adverse impact on a development. They can be either localised features or regionally extensive, with a example of some geohazards include in @fig-geohazards.\n",
    "\n",
    "Assessment of the risk and subsequent mitigation and prevention is an essential part of both the site investigation and design, requiring an understanding of both their causes and implications. This analysis is also specific to the structure in mind. For instance, trapped gas may be considered a risk if present at the location of a potentional borehole but is not, generally, a risk to cable installation or necessarily a risk to installation vessels. \n",
    "\n",
    "![Some examples of offshore geohazards [@chiocciSeafloorMappingGeohazard2011]](pics/geology/geohazards.png){#fig-geohazards width=70%}\n",
    "\n",
    "\n"
   ]
  },
  {
   "cell_type": "markdown",
   "id": "cf365d0b-e852-4c28-8d01-bad1741e91a4",
   "metadata": {},
   "source": [
    "## Other surveys\n",
    "Some other surveys are performed in this chapter that won't be explicitly covered. These include seismic surveys if there's an earthquake risk, metocean surveys for determining wind, wave and current strengths and frequencies, and environmental impact assessments for assessing the impact of construction on flora and animals in the region-of-interest. \n"
   ]
  },
  {
   "cell_type": "markdown",
   "id": "23ed98b6-47b7-49d8-83e2-50a66414da47",
   "metadata": {},
   "source": [
    "## Integrated ground model (IGM)\n",
    "Ground models aim to capture the geological, geomorphological and geotechnical features that may influence short-term offshore activities, such as drilling and rig anchoring, as well as the long-term reliability of offshore foundations (@isoOilGasIndustries2023). Ground models for very small and simple projects can consist of one single characteristic soil profile, where the elevation and properties of each soil layer are assumed to be constant across the entire site. However, as sites increase in size, the complexity of the ground model must also increase so that the ground conditions are accurately portrayed. \n",
    "\n",
    "Wind farms in particular tend to have a low data density in terms of geotechnical data (e.g. @fig-data-sparsity), although by comparison, the proliferation of geophysical data means it's relatively possible to get a clear picture of layering between investigation points. Nevertheless, understanding precisely the variation within a layer remains a challenge. \n",
    "Particularly for wind farms, \n",
    "\n",
    "\n",
    "Collabortive effort between geotechnical engineers, geologist and geophysicists.\n",
    "\n",
    "![Data density at recent wind farm developments in the Dutch North Sea sector [(from: Fugro)](https://offshorewind.rvo.nl/file/download/c6692552-b710-4da5-af82-e2fd739a74e7/ijv_20230615_rvo_igm-part-i_presentation-webinar-f.pdf)](pics/si/data-sparsity.png){#fig-data-sparsity width=90%}\n",
    "\n",
    "**Also mention parameterisation**"
   ]
  },
  {
   "cell_type": "markdown",
   "id": "84b6c899-8d74-4750-b9c5-1cd9e27532bf",
   "metadata": {},
   "source": [
    "To efficiently represent the site, the site is divided into **ground units** and **soil horizons** (e.g. @fig-ijv-igm). Ground units are layers that are relevant from a geotechnical perspective---which is in turn dependent on the envisaged design (e.g. shallow foundation or a deep foundation pile).\n",
    "\n",
    "**soil horizons** **GO TO GBM IJV REPORT**\n",
    "\n",
    "::: {layout=\"[70,30]\"} \n",
    "\n",
    "::: {#fig-ijv-igm}\n",
    "![](pics/si/ijv/ijv.jpg){width=60%}\n",
    ":::\n",
    "\n",
    "::: {layout-ncol=1}\n",
    "![](pics/si/ijv/sp1.jpg){.lightbox width=100px}\n",
    "![](pics/si/ijv/sp2.jpg){.lightbox width=100px}\n",
    "![](pics/si/ijv/sp3.jpg){.lightbox width=100px}\n",
    "![](pics/si/ijv/sp4.jpg){.lightbox width=100px}\n",
    "![](pics/si/ijv/sp5.jpg){.lightbox width=100px}\n",
    "![](pics/si/ijv/sp6.jpg){.lightbox width=100px}\n",
    ":::\n",
    ":::"
   ]
  },
  {
   "cell_type": "markdown",
   "id": "8379d03f-7040-45c6-a168-5cb24bc64765",
   "metadata": {},
   "source": [
    "## Integrated Ground Modelling (IGM)\n",
    "**This section focusses a bit more on state-of-the-art synthetic CPTS\n",
    "\n",
    "![Different types of seismic waves](pics/si/sauvin22-ground-modelling.png){#fig-sauvin22-ground-modelling width=80%}\n"
   ]
  },
  {
   "cell_type": "markdown",
   "id": "e5c6322c-0005-43c8-b31d-4935da662a2a",
   "metadata": {},
   "source": [
    "## Interpolation methods\n",
    "Ground modelling has traditionally been a manual task. At each relevant location, such as a monopile foundation, a soil profile is devised and each layer is assigned geotechnical properties based on in-situ and  laboratory tests. For offshore wind farms, this process can  become laborious and time-consuming, particularly in cases like IJmuiden Ver where hundreds of wind turbine  locations may be planned across a vast area.  Geostatistical techniques, such as kriging and random field modelling, are often the first port-of-call for interpolating between site investigation points (e.g. Vessia et al., 2020; Vanneste et al., 2022), and have been used for  many years to model and characterise reservoirs in the oil  and gas industry. However, data sparsity across offshore wind farms often makes it difficult to estimate the  parameters required for geostatistical techniques,  particularly with respect to the spatial variability in the horizontal direction. "
   ]
  },
  {
   "cell_type": "markdown",
   "id": "f776d05d-2043-4a7d-acd0-7202ca6d2875",
   "metadata": {},
   "source": [
    "## Integrating geotechnical and geophysical data\n",
    "From Vardy et al. 2017:\n",
    "Effectively integrating geophysical with geotechnical data is \n",
    "altogether more difficult. This is made more complex by the con￾trasting strain regimes. Geophysical data are at relatively low \n",
    "strains, whereas geotechnical data are at large strain (Clayton \n",
    "2011). In addition, intrusive methods cause mechanical deforma￾tion, which can be very significant for high-porosity near-surface \n",
    "sediments during geotechnical sampling procedures (e.g., \n",
    "Clayton, Hight and Hopper 1992; Lunne 2012; Priest et al. 2015). \n",
    "This deformation inherently alters the nature of the sampled \n",
    "material, introducing uncertainties on key mechanical parameters \n",
    "(e.g., porosity, pore pressure, and undrained shear strength) that \n",
    "are difficult to quantify. Where geophysical and geotechnical data \n",
    "have been integrated, the methods either are highly qualitative \n",
    "(e.g., Vanneste et al. 2015) or suffer from large uncertainties due \n",
    "to imprecisely calibrated relationships between the geophysical \n",
    "and geotechnical parameters (e.g., Nauroy et al. 1998).\n",
    "\n",
    "Furthermore, for imaging the stratigraphy of shallow sediments, one often relies on short-offset single-channel seismic recording systems, which do not allow  the derivation of seismic velocities in the subsurface. In contrast,  the use of multichannel streamers would alleviate this problem  on the condition that the channel spacing is sufficiently small (c., 1 m for a typical high-resolution Boomer or Sparker source) and the active length of the streamer is not shorter than the depth to the deepest target.\n",
    "\n"
   ]
  }
 ],
 "metadata": {
  "kernelspec": {
   "display_name": "Python 3 (ipykernel)",
   "language": "python",
   "name": "python3"
  },
  "language_info": {
   "codemirror_mode": {
    "name": "ipython",
    "version": 3
   },
   "file_extension": ".py",
   "mimetype": "text/x-python",
   "name": "python",
   "nbconvert_exporter": "python",
   "pygments_lexer": "ipython3",
   "version": "3.11.5"
  }
 },
 "nbformat": 4,
 "nbformat_minor": 5
}
