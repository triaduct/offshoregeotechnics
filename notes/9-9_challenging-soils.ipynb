{
 "cells": [
  {
   "cell_type": "markdown",
   "id": "ca220bb4-2a49-460a-b06d-a19f4bab21ea",
   "metadata": {},
   "source": [
    "---\n",
    "title: \"Non-typical soils and rock\"\n",
    "author: \"Kevin Duffy\"\n",
    "<!-- bibliography: .../bibliography.bib -->\n",
    "draft: true\n",
    "---"
   ]
  },
  {
   "cell_type": "markdown",
   "id": "33be370f-27b4-4003-ad09-72395e88b012",
   "metadata": {},
   "source": []
  },
  {
   "cell_type": "markdown",
   "id": "1ca4fb94-05d9-482e-b234-2252fb45c718",
   "metadata": {},
   "source": []
  },
  {
   "cell_type": "markdown",
   "id": "053c8477-07cb-41ec-8aac-67d5b6ad2c8a",
   "metadata": {},
   "source": [
    "## Chalk\n",
    "** Work off Jardine 2024**\n",
    "\n",
    "Chalk is a soft, white porous sedimentary rock composed of the mineral calcite (CaCO3)--essentially it's a form of soft limestone. \n",
    "\n",
    "\n",
    "![Cliffs of Dover](https://live.staticflickr.com/3926/15055986429_163a415326_b.jpg){#fig-cliffs-of-dover width=80%}\n",
    "\n",
    "![Partially intact chalk sample](pics/installation/chalk-sample.jpg){#fig-chalk-sample width=80%}\n"
   ]
  },
  {
   "cell_type": "markdown",
   "id": "2df1a608-f07c-42f8-83cb-c4a9b46376a9",
   "metadata": {
    "tags": []
   },
   "source": [
    "## Glauconite"
   ]
  },
  {
   "cell_type": "markdown",
   "id": "201a10a5-e9b7-4b9f-b3af-995d32ecd621",
   "metadata": {},
   "source": [
    "Check Westgate DeGroot keynotes"
   ]
  },
  {
   "cell_type": "markdown",
   "id": "941b1bc4-7cf0-4466-9cb6-fdff2a1d4cc6",
   "metadata": {},
   "source": [
    "Glauconite sand is a granular material typified by the presence of the mineral glauconite---a mineral rich in potassium, magnesium and iron. Exactly how glauconite minerals form is still unclear, but generally glauconite forms in shallow marine environments with low sedimention rates and low oxygen levels [@odinGlauconiarumOrigine1981, @lopez-quirosNewInsightsNature2020]. The degree of glauconisation in any given sample of soil is in turn dependent on the particle size, mineral composition, porosity and age of the sample. \n",
    "\n",
    "Nowadays, most of these glauconite soils can be found on continental margins in the northern hemisphere (@fig-glauconite-distribution). Notably, glauconite is particularly widespread on the east coast of the USA, where offshore wind development has picked up substantially in recent years. This has therefore corresponded with more motivation to understand the behaviour of glauconite soils during pile driving and under operational loading.\n",
    "\n",
    "![Distribution of glauconite soils worldwide during the Paleogene geological period [@banerjeeFormationAuthigenicDeposits2020]](pics/installation/banerjee-glauconite-distribution.png){#fig-glauconite-distribution width=60%}\n",
    "\n",
    "![Microscope image of glauconite particles [@rodriguezpiedrabuenaFirstStepsCalibration2024]](pics/installation/alba-glauconite-microscope.PNG){#fig-glauconite-microscope width=80%}\n",
    "\n",
    "Crucially, glauconite particles are very crushable and brittle and can easily be crushed by hand. In terms of the CPT expression, glauconite exhibits a high cone tip resistance $q_c$--just like for silica sands--but they also a high sleeve friction $f_s$ because of the crushing of glauconite pellets into a fine-grained material around the cone tip. Pore water pressures $u_2$ are broadly comparable to those in fine-grained materials, if not slightly lower. \n",
    "\n",
    "![Example of a CPT profile in glauconite **GET REF**](pics/installation/glauconite-cpt.PNG){#fig-glauconite-cpt width=40%}\n",
    "\n",
    "![Build-up of crushed glauconite along the pile shaft and underneath the pile tip [@rodriguezpiedrabuenaFirstStepsCalibration2024]](pics/installation/alba-glauconite-pile.PNG){#fig-glauconite-pile width=40%}\n",
    "\n",
    "Glauconite sands pose severe challenges for pile installation. The combination of high resistances underneath pile tip and along the pile shaft means tradiational SRD approaches tend to underestimate the driveability resistance [@perikleousMonopileInstallationGlauconitic2023]. Moreover, the \"glauconicity\" of a soil is also a spectrum: and therefore different behaviours could be exhibited at the different glauconite contents or with glauconite material deposited in different geological periods. \n"
   ]
  },
  {
   "cell_type": "markdown",
   "id": "1a8017db-064a-4e3f-b7b2-42dca449f5c4",
   "metadata": {},
   "source": [
    "## Rock\n",
    "Drill grouted piles and DEME picture and Abadie ISFOG keynote\n",
    "\n",
    "<iframe width=\"560\" height=\"315\" src=\"https://www.youtube.com/embed/vJ0aE4Rbw1s?si=DdAtPyd_3MF8fdHJ&amp;start=175\" title=\"YouTube video player\" frameborder=\"0\" allow=\"accelerometer; autoplay; clipboard-write; encrypted-media; gyroscope; picture-in-picture; web-share\" referrerpolicy=\"strict-origin-when-cross-origin\" allowfullscreen></iframe>"
   ]
  },
  {
   "cell_type": "markdown",
   "id": "f8ccc1f2-d8e0-4664-98b0-f9b459870193",
   "metadata": {},
   "source": [
    "### Boulders\n"
   ]
  }
 ],
 "metadata": {
  "kernelspec": {
   "display_name": "Python 3 (ipykernel)",
   "language": "python",
   "name": "python3"
  },
  "language_info": {
   "codemirror_mode": {
    "name": "ipython",
    "version": 3
   },
   "file_extension": ".py",
   "mimetype": "text/x-python",
   "name": "python",
   "nbconvert_exporter": "python",
   "pygments_lexer": "ipython3",
   "version": "3.11.5"
  }
 },
 "nbformat": 4,
 "nbformat_minor": 5
}
