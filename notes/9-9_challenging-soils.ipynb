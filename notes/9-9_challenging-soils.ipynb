{
 "cells": [
  {
   "cell_type": "markdown",
   "id": "ca220bb4-2a49-460a-b06d-a19f4bab21ea",
   "metadata": {},
   "source": [
    "---\n",
    "title: \"Non-typical soils and rock\"\n",
    "author: \"Kevin Duffy\"\n",
    "<!-- bibliography: .../bibliography.bib -->\n",
    "draft: true\n",
    "---"
   ]
  },
  {
   "cell_type": "markdown",
   "id": "33be370f-27b4-4003-ad09-72395e88b012",
   "metadata": {},
   "source": []
  },
  {
   "cell_type": "markdown",
   "id": "1ca4fb94-05d9-482e-b234-2252fb45c718",
   "metadata": {},
   "source": []
  },
  {
   "cell_type": "markdown",
   "id": "053c8477-07cb-41ec-8aac-67d5b6ad2c8a",
   "metadata": {},
   "source": [
    "## Chalk\n",
    "** Work off Jardine 2024**\n",
    "\n",
    "Chalk is a soft, white porous sedimentary rock composed of the mineral calcite (CaCO3)--essentially it's a form of soft limestone. \n",
    "\n",
    "\n",
    "![Cliffs of Dover](https://live.staticflickr.com/3926/15055986429_163a415326_b.jpg){#fig-cliffs-of-dover width=80%}\n",
    "\n",
    "![Partially intact chalk sample](pics/installation/chalk-sample.jpg){#fig-chalk-sample width=80%}\n"
   ]
  },
  {
   "cell_type": "markdown",
   "id": "2df1a608-f07c-42f8-83cb-c4a9b46376a9",
   "metadata": {
    "tags": []
   },
   "source": [
    "## Glauconite"
   ]
  },
  {
   "cell_type": "markdown",
   "id": "201a10a5-e9b7-4b9f-b3af-995d32ecd621",
   "metadata": {},
   "source": [
    "Check Westgate DeGroot keynotes"
   ]
  },
  {
   "cell_type": "markdown",
   "id": "941b1bc4-7cf0-4466-9cb6-fdff2a1d4cc6",
   "metadata": {},
   "source": [
    "Glauconite sand is a granular material typified by the presence of the mineral glauconite---a mineral rich in potassium, magnesium and iron. Exactly how glauconite minerals form is still unclear, but generally glauconite forms in shallow marine environments with low sedimention rates and low oxygen levels [@odinGlauconiarumOrigine1981, @lopez-quirosNewInsightsNature2020]. The degree of glauconisation in any given sample of soil is in turn dependent on the particle size, mineral composition, porosity and age of the sample. \n",
    "\n",
    "Nowadays, most of these glauconite soils can be found on continental margins in the northern hemisphere (@fig-glauconite-distribution). Notably, glauconite is particularly widespread on the east coast of the USA, where offshore wind development has picked up substantially in recent years. This has therefore corresponded with more motivation to understand the behaviour of glauconite soils during pile driving and under operational loading.\n",
    "\n",
    "![Distribution of glauconite soils worldwide during the Paleogene geological period [@banerjeeFormationAuthigenicDeposits2020]](pics/installation/banerjee-glauconite-distribution.png){#fig-glauconite-distribution width=60%}\n",
    "\n",
    "![Microscope image of glauconite particles [@rodriguezpiedrabuenaFirstStepsCalibration2024]](pics/installation/alba-glauconite-microscope.PNG){#fig-glauconite-microscope width=80%}\n",
    "\n",
    "Crucially, glauconite particles are very crushable and brittle and can easily be crushed by hand. In terms of the CPT expression, glauconite exhibits a high cone tip resistance $q_c$--just like for silica sands--but they also a high sleeve friction $f_s$ because of the crushing of glauconite pellets into a fine-grained material around the cone tip. Pore water pressures $u_2$ are broadly comparable to those in fine-grained materials, if not slightly lower. \n",
    "\n",
    "![Example of a CPT profile in glauconite **GET REF**](pics/installation/glauconite-cpt.PNG){#fig-glauconite-cpt width=40%}\n",
    "\n",
    "![Build-up of crushed glauconite along the pile shaft and underneath the pile tip [@rodriguezpiedrabuenaFirstStepsCalibration2024]](pics/installation/alba-glauconite-pile.PNG){#fig-glauconite-pile width=40%}\n",
    "\n",
    "Glauconite sands pose severe challenges for pile installation. The combination of high resistances underneath pile tip and along the pile shaft means tradiational SRD approaches tend to underestimate the driveability resistance [@perikleousMonopileInstallationGlauconitic2023]. Moreover, the \"glauconicity\" of a soil is also a spectrum: and therefore different behaviours could be exhibited at the different glauconite contents or with glauconite material deposited in different geological periods. \n"
   ]
  },
  {
   "cell_type": "markdown",
   "id": "ce0a0666-13fb-484a-93dc-77602815cc8f",
   "metadata": {},
   "source": [
    "## Carbonate sand\n",
    "In this context, ‘carbonate’ generally relates to the mineral \n",
    "polymorphs of calcium carbonate (CaCO3). For sediments encountered offshore these \n",
    "are principally calcite and aragonite. Other polymorphs, such as dolomite, are typically \n",
    "less abundant offshore, as are non-calcium carbonates (magnesite, ankerite, siderite). In \n",
    "this paper, the term ‘sediment’ generally correspond to the very broad range of whole \n",
    "and detrital fragments of the skeletons and conglomerations generated by biogenic and \n",
    "authigenic carbonate production.\n",
    "\n",
    "In classification terms, ‘pure’ carbonate sediments are defined as comprising greater \n",
    "than 90% CaCO3 [4]. However, the term carbonate is also applied when the sediments \n",
    "include greater than 50% CaCO3 (i.e. siliceous or clayey carbonate [4]). In contrast, \n",
    "calcareous sediments (or soils) are generally considered to contain between 10 and 50% \n",
    "CaCO3 and can be considered ‘transitional’. Such sediments generally do not exhibit the \n",
    "unique engineering properties attributed to carbonate sediments. This paper focuses on \n",
    "sediments with high CaCO3 – but with a cautionary note that there is no fixed percentage\n",
    "at which such sediments should be treated as carbonate for engineering purposes. \n",
    "\n",
    "Carbonate sediments are distinctive from other sediments in several ways. Perhaps \n",
    "most pertinent from an engineering perspective is the intragranular porosity inherent in \n",
    "some ‘fresh’ carbonate sediments\n",
    "\n",
    "Carbonate sediments can also extend into the rock realm – reflecting the fact that \n",
    "diagenesis of these sediments can occur independent of deep burial. Near-surface \n",
    "diagenetic processes are covered in more detail in the section below but it is important \n",
    "to note that the end product is that carbonate geology can be considered to present a \n",
    "sediment-rock continuum rather than a discrete divide. \n",
    "\n",
    "Carbonate sediments mainly originate either through biogenic primary production or \n",
    "authigenic precipitation\n",
    "\n",
    "Carbonate sediments mainly originate either through biogenic primary production or \n",
    "authigenic precipitation. Both forms of production are intrinsically linked to the marine \n",
    "environment – biogenic through fauna habitats, and authigenic by the migration of \n",
    "hydrocarbons and bicarbonate ions of hydrothermal fluids [5]. Deposition in the marine \n",
    "environment means sediments are typically subject to multiple phases of degradation \n",
    "from wave, tidal, and current action, bioturbation and biodegradation (eg. borers, \n",
    "digestion), and/or mass transport processes. At any given time much, if not most, of the \n",
    "world’s carbonate sediments are reworked – often to a state that has become \n",
    "unrecognizable from their original form. \n",
    "\n",
    "Calcareous skeletons (see Figure 1) are produced by a wide variety of organisms, \n",
    "ranging from bacteria to a wide variety of marine plants and animals. Diversity in \n",
    "organisms is reflected in diversity of habitat, and carbonate sediments are accordingly \n",
    "produced in most marine environments – although the greatest abundance is noted in \n",
    "warm, clear, shallow water environments with sufficient nutrients and exposure to \n",
    "sunlight. Biogenic production takes place on the sea floor (benthic organisms) as well \n",
    "as in the water column (planktonic organisms). Unsurprisingly, the resulting sediments \n",
    "exhibit highly variable morphology – ranging from delicate balloon-like planktonic \n",
    "foraminifera to solid ooids. Biogenic production can also form carbonate rocks through \n",
    "coral reefs and cyanobacteria communities, such as stromatolites. \n",
    "\n",
    "Authigenic carbonate sediments are less common or, perhaps more accurately, are more \n",
    "restricted in their distribution. Such sediments occur where a sulfate-methane interface \n",
    "intersects the seabed. At and above this interface, venting gases can react with the \n",
    "interstitial, near-surface pore water in shallow sediments to produce carbon dioxide and \n",
    "bicarbonates [6]. This anaerobic oxidation of methane catalyzes the production of \n",
    "calcium and magnesium carbonates. The result is the generation of cemented, boulder￾scale hard-rock outcrops, which can also act as large caps or seals over vented areas. \n",
    "Biogenic carbonate production in the form of hard-shell chemosynthetic communities \n",
    "may be found proximal to authigenic carbonate mounds, illustrated in Figure 2. \n",
    "\n",
    "\n",
    "\n",
    "GENERAL\n",
    "Carbonate soils are different from conventional siliciceous soils in that:\n",
    "i.\tGrains can be extremely angular\n",
    "ii.\tGrains are extremely weak (Mohr’s hardness 3-3.5, 7 for quartz – significant increase in crushability)\n",
    "iii.\tCementation is variable\n",
    "iv.\tParticle type and grain size is variable\n",
    "v.\tHigh porosity (e = 0.8-1.4 compared to 0.4-0.9 for non-carbonate soils\n",
    "vi.\tPermeability decrease in presence of cementation and intraparticle voids\n",
    "\n",
    "ENGINEERING IMPLICATIONS\n",
    "1.\tHigh friction angle: due to high angularity of the particles\n",
    "2.\tVery compressible: Due to the crushing of partciles\n",
    "3.\tVery stiff in unloading\n",
    "4.\tLow K0 values\n",
    "5.\tSofter response in terms of laterally loaded and axially loaded piles\n"
   ]
  },
  {
   "cell_type": "markdown",
   "id": "1a8017db-064a-4e3f-b7b2-42dca449f5c4",
   "metadata": {},
   "source": [
    "## Rock\n",
    "Drill grouted piles and DEME picture and Abadie ISFOG keynote\n",
    "\n",
    "<iframe width=\"560\" height=\"315\" src=\"https://www.youtube.com/embed/vJ0aE4Rbw1s?si=DdAtPyd_3MF8fdHJ&amp;start=175\" title=\"YouTube video player\" frameborder=\"0\" allow=\"accelerometer; autoplay; clipboard-write; encrypted-media; gyroscope; picture-in-picture; web-share\" referrerpolicy=\"strict-origin-when-cross-origin\" allowfullscreen></iframe>"
   ]
  },
  {
   "cell_type": "markdown",
   "id": "f8ccc1f2-d8e0-4664-98b0-f9b459870193",
   "metadata": {},
   "source": [
    "### Boulders\n"
   ]
  }
 ],
 "metadata": {
  "kernelspec": {
   "display_name": "Python 3 (ipykernel)",
   "language": "python",
   "name": "python3"
  },
  "language_info": {
   "codemirror_mode": {
    "name": "ipython",
    "version": 3
   },
   "file_extension": ".py",
   "mimetype": "text/x-python",
   "name": "python",
   "nbconvert_exporter": "python",
   "pygments_lexer": "ipython3",
   "version": "3.11.5"
  }
 },
 "nbformat": 4,
 "nbformat_minor": 5
}
