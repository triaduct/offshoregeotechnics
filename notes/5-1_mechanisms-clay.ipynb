{
 "cells": [
  {
   "cell_type": "markdown",
   "id": "173fb00c-a637-4ec9-a395-3e047d099293",
   "metadata": {},
   "source": [
    "---\n",
    "title: \"Basic mechanisms\"\n",
    "author: \"Kevin Duffy\"\n",
    "bibliography: ../bibliography.bib\n",
    "jupyter: python3       \n",
    "format:\n",
    "  html:\n",
    "    code-tools: true    \n",
    "    thebe: true   \n",
    "---"
   ]
  },
  {
   "cell_type": "markdown",
   "id": "296c2a40-107b-4a40-b96c-1920344853ff",
   "metadata": {},
   "source": [
    "[![Open In Colab](https://colab.research.google.com/assets/colab-badge.svg)](https://colab.research.google.com/github/triaduct/offshoregeotechnics/blob/main/notes/5-1_mechanisms-clay.ipynb){target=\"_blank\"} <nbsp>"
   ]
  },
  {
   "cell_type": "markdown",
   "id": "782ac6c7-2938-47c3-891f-4cfc201ad430",
   "metadata": {},
   "source": [
    "During installation, pore pressures build up around the pile. In sand, these excess pore pressures dissipate almost immediately after installation. However, since clay is much more impermeable compared to sand, it takes a substantially longer time for this pore pressure to dissipate. \n",
    "\n",
    "Pore pressure dissipation has a significant effect on the capacity of a pile in clay and depends on what time we load the pile during this \"equalisation\" process.\n",
    "\n",
    "Therefore in this section we will explore the axial capacity of closed-ended piles in clay through three stages (@fig-installation-in-clay):\n",
    "\n",
    "1. Installation\n",
    "2. Equalisation (or consolidation)\n",
    "3. Loading\n",
    "\n",
    "![Stages in the lifetime of a pile in clay](pics/axial/installation-in-clay.png){#fig-installation-in-clay width=80%}\n",
    "\n",
    "::: {.callout-important}\n",
    "As we learned in the [site investigation section](https://triaduct.github.io/offshoregeotechnics/notes/3-3_geotechnical-investigation.html), pore pressures can significantly affect CPT cone tip resistances in clay. \n",
    "\n",
    "Therefore, the corrected cone tip resistance $q_t$ should be used instead of $q_c$.\n",
    ":::\n",
    "\n",
    "\n",
    "::: {.callout-note title=\"Short recap on important clay properties\" collapse=\"true\"}\n",
    "There's a few clay properties that are especially important this chapter and you should familiarise yourself with these before beginning, as well as the laboratory experiments and CPT-based correlations that are used to obtain these. \n",
    "\n",
    "---\n",
    "\n",
    "**Plasticity** describes the ability of a soil to undergo irrecoverable deformation without cracking or crumbling. Generally speaking, plastic soils have a significant amount of clay mineral particles, trapping water by capillary tension and allowing the soil be deformed or remoulded. The upper and lower limits at which soil exhibits plastic behaviour is defined by the plasticity index $I_p$:\n",
    "\n",
    "$$\n",
    "I_p = w_L - w_P\n",
    "$$ {#eq-plasticity-index}\n",
    "\n",
    "If the water content is above the liquid limit $w_L$, the soil will behave just like a liquid. If it's below the plastic limit $w_P$, the soil will be brittle and crumbly. \n",
    "\n",
    "![Atterberg/consistency limits for clays [@knappettCraigsSoilMechanics2012]](pics/axial/craig12-consistency-limits.png){#fig-atterberg-limits width=80%}\n",
    "\n",
    "---\n",
    "\n",
    "**The overconsolidation ratio (OCR)** describes the stress history of the soil by relating the preconsolidation pressure $\\sigma'_p$ (the highest vertical effective stress that the soil has experienced) to the current in-situ effective stress $\\sigma'_{v0}$:\n",
    "\n",
    "$$\n",
    "OCR = \\frac{\\sigma'_p}{\\sigma'_{v0}}\n",
    "$$ {#eq-ocr}\n",
    "\n",
    "If  $OCR=1$, the soil is normally consolidated. Factors such as glacial action or changes in the water table will lead to soil being overconsolidated, leading to $OCR>1$. \n",
    "\n",
    "---\n",
    "\n",
    "The **sensitivity** of clay $S_t$ describes the ratio of the undrained strength of an undisturbed specimen to its undrained strength when remoulded (at the same water content). This creates a strain-softening behaviour, causing a reduction in shear strength with increasing strain (@fig-sensitive-clay). \n",
    "\n",
    "The sensitivity of most clays is between 1 and 4, whereas clays with a sensitivity of more than 8 are considered as sensitive clays.\n",
    "\n",
    "![Influence of loading on sensitive clays [(source)](https://www.issmge.org/uploads/publications/51/119/NUMGE2023-369.pdf)](pics/axial/sensitive-clays.png){#fig-sensitive-clay}\n",
    "\n",
    "---\n",
    "\n",
    "The **coefficient of consolidation** ($c_v$, $c_h$) measures the rate at which clay soils consolidate, or compress, under load due to the expulsion of porewater. \n",
    "\n",
    "Based on Terzaghi’s one-dimensional consolidation theory to estimate foundation settlement under vertical loading, it is defined as follows in the vertical direction: \n",
    "\n",
    "$$\n",
    "c_v = \\frac{k}{m_v \\gamma_w}\n",
    "$$\n",
    "\n",
    "with typical units being m<sup>2</sup>/year. It can also be defined in terms of the horizontal direction $c_h$, with $c_h$ typically being larger than $c_v$ (often by a factor of 3-10). \n",
    "\n",
    ":::\n"
   ]
  },
  {
   "cell_type": "markdown",
   "id": "5bbbb885-05b9-474a-abf4-0df3c42d2f9c",
   "metadata": {},
   "source": [
    "# Closed-ended piles\n",
    "## Installation\n",
    "On the same Imperial College Pile (ICP) that we looked at when examining the axial capacity of piles in sand, Lehane and Jardine [-@lehaneDisplacementPileBehaviour1994,-@lehaneDisplacementpileBehaviourSoft1994] measured the radial stresses acting on piles in soft, lightly overconsolidated clay (Bothkennar) and in stiff, overconsolidated clay (Cowden)—shown in @fig-icp-clay.\n",
    "\n",
    "Just like in sand, the tests showed that piles in clay obey Coulomb's Law for the shaft resistance: \n",
    "\n",
    "$$\n",
    "q_s = \\sigma'_{rf} \\tan(\\delta_f)\n",
    "$$ {#eq-coulombs-law}\n",
    "\n",
    "Furthermore, the model pile mobilised base resistances similar to that of a CPT (i.e. $q_b = q_c$) during installation. Unsurprisingly, much higher radial stresses were measured in the stiff clay, reaching a maximum radial stres of around 1000 kPa. \n",
    "\n",
    "The piles also mobilised different magnitudes of radial stress depending on how far away the sensors were from the pile tip $h$, suggesting a depth-dependency in the shaft resistance.\n",
    "\n",
    "::: {#fig-icp-clay layout-ncol=2}\n",
    "\n",
    "![Soft, lightly overconsolidated clay at Bothkennar](pics/axial/lehane94-bothkennar.png){#fig-bothkennar}\n",
    "\n",
    "![Stiff, overconsolidated clay at Cowden](pics/axial/lehane94-cowden.png){#fig-cowden}\n",
    "\n",
    "Radial stress measurements from Imperial College Pile (ICP) tests [@lehaneDisplacementPileBehaviour1994;@lehaneDisplacementpileBehaviourSoft1994]\n",
    ":::\n",
    "\n",
    "The permeability and strength characteristics also completely change during this process, resulting in large changes in porewater pressures in both the near-field (right next to pile) and the far-field (up to several diameters away from the pile). \n",
    "\n",
    "For instance, @fig-pore-pressure shows how pore pressures build up as the pile approaches the sensors, partially dissipating as the pile continues on.\n",
    "\n",
    "![Response of pore pressure sensors at a fixed horizon, a distance of 1m and 2m away from the ICP pile in (a) lightly overconsolidated silty clay and (b) heavily overconsolidated clay [@dohertyShaftCapacityDisplacement2011]. Negative values indicate the pore pressure sensor is below the pile tip.](pics/axial/doherty11-pore-pressure.png){#fig-pore-pressure width=80%}\n",
    "\n",
    "So what exactly is going on during this process? Pile penetration creates a large amount of remoulding around the pile base, leading to the creation of a residual shear plane along the pile shaft through remoulding (@fig-clay-mechanisms). The clay particles also reorientate from perpendicular to the pile shaft towards near-parallel as they pass from a highly concentrated stress bulb to a slightly more relaxed shear plane around the pile shaft.\n",
    "\n",
    "As a result, the soil immediately surrounding the pile has substantially different properties compared to when we began installation. \n",
    "\n",
    "![Mechanisms controlling pile penetration in clay](pics/axial/clay-mechanisms.png){#fig-clay-mechanisms width=50%}\n",
    "\n",
    "::: {.callout-note title=\"Using normalised parameters to account for differences in clays\"}\n",
    "Normalised parameters help us to compare results across test sites in different soil conditions or to develop generalisable design methods. In sand, we could simply use $q_s/q_c$ or $\\sigma'_r/q_c$—excess pore pressure wasn't something we had to worry about. \n",
    "\n",
    "A common normalised parameter for clay is $S_i$, a parameter which accounts for differences in local groundwater conditions (where $u_0$ is the hydrostatic pressure) as well as soil strength:\n",
    "\n",
    ":::{#eq-si}\n",
    "$$\n",
    "S_i = \\frac{\\sigma_{ri}-u_0}{q_t}\n",
    "$$\n",
    ":::\n",
    ":::\n"
   ]
  },
  {
   "cell_type": "markdown",
   "id": "0080943e-d5c1-49d4-b012-b7547dfb61b1",
   "metadata": {
    "tags": []
   },
   "source": [
    "### $h/D$ effect\n",
    "@fig-icp-clay shows that the total radial stresses varies depending on the distance from the pile tip—suggesting a similar effect to the friction fatigue we observed in sand. \n",
    "\n",
    "However, unlike sand, crushing and cyclic contraction isn't the governing mechanism in clay, and so it isn't necessarily \"friction fatigue\" that's occurring. Instead, there's a couple of other mechanisms simultaneously causing this $h/D$ effect [@chowInvestigationsBehaviourDisplacement1997;@gavinFieldInvestigationEffect2010]:\n",
    "\n",
    "* The stress history of the soil completely changes as the pile tip moves past, going from its in-situ stress state, to a very high stress state and then back to slightly lower stress state—whilst also remoulding.  Ultimately, this means that the radial effective stresses will also increase but vary depending on the distance $h$ from the pile tip. This is also helped by partial dissipation of porewater pressures higher up in the pile as the pile continues on penetrating. \n",
    "\n",
    "* Constant cycling of pile—under both jacking or hammering—will results in continuous cyclical shear at the pile-soil interface. This cyclical shear will also lead to continuous remoulding of the soil around the interface, thus also reducing its strength.\n",
    "\n",
    "Moreover @lehaneCPTbasedAxialCapacity2022 tells us that the $h/D$ profile in clay is not unique (@fig-fric-fat-clay), unlike in sand.\n",
    "\n",
    "![Normalised shaft resistances, showing variation in friction fatigue profiles [@lehaneCPTbasedAxialCapacity2022]](pics/axial/lehane22-friction-fatigue-clay.png){#fig-fric-fat-clay width=50%}\n"
   ]
  },
  {
   "cell_type": "markdown",
   "id": "a3522431-2dd0-476a-8885-4d38624e33fc",
   "metadata": {},
   "source": [
    "::: {.callout-tip title=\"Understanding the relationship between the normalised radial stress $S_i$ and $h/D$\" collapse=\"true\"}\n",
    "\n",
    "The code below takes three sites from [@lehaneCPTbasedAxialCapacity2022], each with different OCRs. It includes normalised radial stress from installation $S_i$, expressing it as a function of $h/D$:\n",
    "\n",
    "$$\n",
    "S_i = A (\\frac{h}{D})^{-c}\n",
    "$$\n",
    "\n",
    "Have a look at the code below and adjust the $A$ and $c$ parameters. Which parameter models the variation the best?\n",
    "\n",
    "Hint: $A$ is a scaling factor and essentially shifts the curve upwards or downwards. On the other hand, $c$ controls the rate of decay with $h/D$. "
   ]
  },
  {
   "cell_type": "code",
   "execution_count": 1,
   "id": "80184be2-f080-4d5c-bdbf-2a4a078bf81b",
   "metadata": {
    "collapsed": true,
    "jupyter": {
     "outputs_hidden": true
    },
    "tags": []
   },
   "outputs": [
    {
     "data": {
      "image/png": "[encoded data removed]",
      "text/plain": [
       "<Figure size 450x450 with 1 Axes>"
      ]
     },
     "metadata": {},
     "output_type": "display_data"
    }
   ],
   "source": [
    "import numpy as np\n",
    "import matplotlib.pyplot as plt\n",
    "\n",
    "# Function for the normalised stress coefficient\n",
    "def S_i(h_over_D, A, c):\n",
    "    return A * (h_over_D) ** (-c)\n",
    "\n",
    "h_over_D = np.linspace(3, 50, 200)\n",
    "\n",
    "plt.figure(figsize=(4.5,4.5))\n",
    "\n",
    "# ====== Put in your own input here! =======\n",
    "A = 0.50\n",
    "c = 0.75\n",
    "plt.plot(S_i(h_over_D, A, c), h_over_D, label=f\"A={A}, c={c}\",c=\"r\")\n",
    "# ==========================================\n",
    "\n",
    "# Example parameter sets (from Lehane et al., 2022)\n",
    "label_lst = [\"Bothkennar (OCR=1.7)\",\"Cowden (OCR=10)\",\"London (OCR=30)\"]\n",
    "colour_lst = [\"lightgray\",\"darkgray\",\"black\"]\n",
    "A_lst = [0.50,0.40,0.65]\n",
    "c_lst = [0.24,0.36,0.59]\n",
    "for i,label in enumerate(label_lst):\n",
    "    plt.plot(S_i(h_over_D, A_lst[i], c_lst[i]), h_over_D, label=label,c=colour_lst[i])\n",
    "\n",
    "# Plot settings\n",
    "plt.xlabel(r\"$S_i=(\\sigma_{ri}-u_0) \\slash q_t$\")\n",
    "plt.ylabel(\"Normalised distance from pile baseh/D\")\n",
    "plt.xlim(0,0.5)\n",
    "plt.ylim(0,50)\n",
    "plt.legend()\n",
    "plt.show()"
   ]
  },
  {
   "cell_type": "markdown",
   "id": "8fd9fe40-28a5-4f0e-9d9a-4a0cee7d3e82",
   "metadata": {
    "tags": []
   },
   "source": [
    "Feel free to change the code yourself in Google Colab! [![Open In Colab](https://colab.research.google.com/assets/colab-badge.svg)](https://colab.research.google.com/github/triaduct/offshoregeotechnics/blob/main/notes/5-1_mechanisms-clay.ipynb){target=\"_blank\"} <nbsp>\n",
    ":::"
   ]
  },
  {
   "cell_type": "markdown",
   "id": "f6a2286b-b7ef-460d-95b2-8e1ed71c945e",
   "metadata": {},
   "source": [
    "## Influence of overconsolidation\n",
    "Undrained shearing of normally consolidated and lightly overconsolidated clays develops positive excess pore pressures. However for stiff, highly overconsolidated clays, shearing can also induce dilation in the adjacent soil mass, creating significant suction pressures (or negative porewater pressures, @fig-ocr-shearing). \n",
    "\n",
    "![Stress–strain relationship of normally consolidated, lightly overconsolidated, and heavily overconsolidated clays: (a) void ratio versus mean effective stress, (b) drained\n",
    "tests, and (c) undrained tests [@mitchellFundamentalsSoilBehaviour2005]](pics/axial/mitchell05-fig11-14.png){#fig-ocr-shearing width=90%}\n",
    "\n",
    "During pile penetration, two overlapping effects occur. Shearing along the pile shaft will continue to alter local pore pressures—typically increasing in normally consolidated clays and decreasing in stiff, overconsolidated clays. At the same time, stress changes in the far field may invoke a different response, although generally with a build up of pore pressures in both cases.\n",
    "\n",
    "| Soft, NC clays | Stiff, OC clays |\n",
    "|----------------|----------------|\n",
    "| After installation: $\\Delta u > 0$ close to pile shaft | After installation: $\\Delta u < 0$  close to pile shaft |\n",
    "| $\\Delta u > 0$ in far-field | $\\Delta u > 0$ in far-field |\n",
    "| During equalisation: significant increase in $\\sigma'_h$ | During equalisation: small increase in $\\sigma'_h$, sometimes decrease in heavily overconsolidated clays and silts |\n"
   ]
  },
  {
   "cell_type": "markdown",
   "id": "fd199ba9-561e-4920-8a50-005d8b477cde",
   "metadata": {
    "tags": []
   },
   "source": [
    "### Interface friction angle $\\delta_f$\n",
    "The interface friction angle is a core component of Coulomb's Law (@eq-coulombs-law). However, since clay undergoes significant transformations under loading, the interface friction angle becomes quite difficult to quantify. Its magnitude at all phases of the pile's lifecycle depends on the soil type, prior shearing history and the pile properties itself, and thus it can cover a wide range—generally from 8° to 36°.\n",
    "\n",
    "The method and rate of installation also affect the interface response. For instance, @bondBehaviourDisplacementPiles1989 took block samples adjacent to model pile that were installed through both hammering, fast jacking and slow jacking (@fig-bond89-interfaces). \n",
    "\n",
    "His analysis showed that slow jacking developed one or more smooth, continuous polished residual shear surface (almost like an onion skin) around the pile where the clay particles were aligned parallel to the shaft. However, driving and fast jacking led to multiple, less well-developed matt shear surface on which the degree of particle reorientation was lower. \n",
    "\n",
    "Since pile installation considerably modifies the fabric of the soil around the shaft, specially designed ring-shear tests need to be set-up to appropriately model these variations, often by including a series of shearing \"pulses\" (e.g. @jardineICPDesignMethods2005).\n",
    "\n",
    "![Comparison of block samples taken at the interface of piles in high OCR clay [@bondBehaviourDisplacementPiles1989]](pics/axial/bond89-p441.png){#fig-bond89-interfaces width=80%}\n"
   ]
  },
  {
   "cell_type": "markdown",
   "id": "aeeb9b80-650b-4b9d-998d-9276bce63dad",
   "metadata": {},
   "source": [
    "## Equalisation\n",
    "Drainage in sand occurs instantly after the end of installation. However, the low permeability of fine-grained, clay soils results in a build-up of excess porewater pressure during installation. A period of equalisation then occurs after installation, where the excess porewater pressures begin to dissipate—thus increasing the effective stress acting on the pile.\n",
    "\n",
    "The behaviour varies greatly depending on the type of clay and its stress history. An example of this is shown in @fig-equalisation. While the general trend is radial effective stress to increase during equalisation (and thus the shaft capacity), highly overconsolidated soils like that of the London clay may exhibit the opposite effect as a result of dilatant shearing during the installation process.\n",
    "\n",
    "![Change in radial effective stress $\\sigma'_r$ during consolidation, relative to the radial effective stress at the end of consolidation $\\sigma'_{rc}$ [@jardineICPDesignMethods2005]](pics/axial/jardine05-equalisation.png){#fig-equalisation width=50%}\n",
    "\n",
    "<!-- Gavin et al. (2010) suggested that the equalised radial effective stress was insensitive to the installation method and all piles mobilised similar shaft resistances when load tested.  -->"
   ]
  },
  {
   "cell_type": "markdown",
   "id": "f4f163ba-3a41-453c-95c3-527f51b66a5b",
   "metadata": {},
   "source": [
    ":::{.callout-note title=\"Influence of geotechnical ageing on pile capacity in clay\" collapse=\"true\"}\n",
    "\n",
    "Ageing can occur simultaneously during equalisation, as well as after it's complete. Ageing generally results in an increase in shaft capacity and the mechanisms which cause it include [@houExperimentalInvestigationTime2025]:\n",
    "\n",
    "* Cation exchange between pile and soil, leading to enhanced bond strength, reduced water content and a more dilative response.\n",
    "* Development of a crust layer, shifting the main shearing interface from the pile-soil interface to the soil.\n",
    "* Creep and stress relaxation processes near the pile interface, leading to an ongoing increase in $\\sigma'_r$.\n",
    "\n",
    "However, the degree to which this is happening is still not well understood or well quantified. This is primarily because separating the influence of consolidation and ageing is especially difficult, as well as separating all the interdependencies from one another.\n",
    "\n",
    "![Photos of 12.5mm model piles after ageing has occurred [@houExperimentalInvestigationTime2025]](pics/axial/hou25-fig6.JPG){#fig-hou-ageing width=70%}\n",
    "\n",
    ":::"
   ]
  },
  {
   "cell_type": "markdown",
   "id": "be282846-d90a-45b9-9434-29408c718934",
   "metadata": {},
   "source": [
    "::: {.callout-tip title=\"Exercise: How long does it take for a pile to reach 80% consolidation?\" collapse=\"false\"}\n",
    "You'll see in the next chapter that 80% consolidation is a typical benchmark for design methods. This consolidation is a function of the diameter of the pile (perhaps more specifically: the diameter of *disturbed* soil) and the permeability of the soil.\n",
    "\n",
    "With this in mind, use the calculator below to consider three scenarios: \n",
    "\n",
    "1. A closed-ended pile, $D=100$ mm\n",
    "2. A fully coring open-ended pile, $D_{outer} = 2$ m, $t = 50$ mm\n",
    "3. A fully plugged open-ended pile, $D_{outer} = 2$ m, $t = 50$ mm\n",
    "\n",
    "Each pile has been installed into a soil with $c_h = 0.05$ m<sup>2</sup>/day.\n",
    "\n",
    "How long does it take for each pile to reach 80% consolidation? Is there a particular parameter that affects this a lot? Any idea why?"
   ]
  },
  {
   "cell_type": "code",
   "execution_count": 11,
   "id": "fcdd01a2-0a12-4e22-9f7c-5d95f4b13604",
   "metadata": {
    "tags": []
   },
   "outputs": [],
   "source": [
    "# NB: The script behind the calculator is in JavaScript, although here is the Python equivalent\n",
    "def dissipation(Do, t, PLR, ch):\n",
    "    \"\"\"\n",
    "    Based on Teh and Houlsby 1991 and Lehane et al. 2017. Applicable to soils with a rigidity index Ir (=G/su) of 100.\n",
    "    \n",
    "    Do: Outer diameter [m]\n",
    "    t:  Wall thickness [mm]\n",
    "    PLR: Plug length ratio [-]\n",
    "    ch : Coefficient of consolidation [m2/day]\n",
    "    \n",
    "    Returns days taken to reach 80% consolidation\n",
    "    \"\"\"\n",
    "    Di = Do-t*2*1E-3 # Inner diameter\n",
    "    Are = 1-PLR*(Di/Do)**2 # Effective area ratio\n",
    "    Deq = np.sqrt(Are)*Do # Equivalent diameter\n",
    "    Req = Deq/2\n",
    "    t80 = (52*Req**2)/ch # days taken to reach 80% consolidation\n",
    "    \n",
    "    return t80 # [days]"
   ]
  },
  {
   "cell_type": "markdown",
   "id": "b62719ae-6c20-4ae5-99aa-1397ac9a7292",
   "metadata": {
    "tags": []
   },
   "source": [
    "<div style=\"max-width: 300px; margin: 15px auto; font-family: sans-serif; border: 1px solid #ccc; padding: 15px; border-radius: 8px; background-color: #f9f9f9; font-size: 14px;\">\n",
    "  <h4 style=\"text-align: center; margin-bottom: 15px;\">How long does it take a pile to reach 80% consolidation?</h4>\n",
    "\n",
    "  <label style=\"display: block; margin-bottom: 8px;\">\n",
    "    Coefficient of consolidation cₕ (m²/day) \n",
    "    <input type=\"number\" id=\"ch\" step=\"0.01\" min=0.01 style=\"width: 100%; padding: 4px; margin-top: 3px;\">\n",
    "  </label>\n",
    "\n",
    "  <label style=\"display: block; margin-bottom: 8px;\">\n",
    "    Outer diameter (m)\n",
    "    <input type=\"number\" id=\"D_outer\" step=\"0.05\" min =0.05 style=\"width: 100%; padding: 4px; margin-top: 3px;\">\n",
    "  </label>\n",
    "\n",
    "  <label style=\"display: block; margin-bottom: 8px;\">\n",
    "    Wall thickness (mm)\n",
    "    <input type=\"number\" id=\"t\" step=\"5\" style=\"width: 100%; padding: 4px; margin-top: 3px;\">\n",
    "  </label>\n",
    "  <small style=\"font-style: italic; color: #555; display: block; margin-bottom: 8px;\">Ignore if closed-ended pile</small>\n",
    "\n",
    "\n",
    "  <label style=\"display: block; margin-bottom: 12px;\">\n",
    "    Plug Length Ratio, PLR (-)\n",
    "    <input type=\"number\" id=\"PLR\" step=\"0.1\" min=0 max=1 style=\"width: 100%; padding: 4px; margin-top: 3px;\">\n",
    "  </label>\n",
    "\n",
    "  <button id=\"runBtn\" style=\"width: 100%; padding: 8px; font-size: 14px; border-radius: 5px; background-color: #007acc; color: white; border: none; cursor: pointer;\">\n",
    "    Run\n",
    "  </button>\n",
    "\n",
    "  <p style=\"margin-top: 12px; font-weight: bold;\">\n",
    "    Result: <span id=\"result\">—</span>\n",
    "  </p>\n",
    "</div>\n",
    "\n",
    "<script>\n",
    "function dissipation(Do, t, PLR, ch) {\n",
    "    let Di = Do - t*2*1e-3; \n",
    "    let Are = 1 - PLR * Math.pow(Di/Do, 2);\n",
    "    let Deq = Math.sqrt(Are) * Do;\n",
    "    let Req = Deq / 2;\n",
    "    let t80 = (52 * Math.pow(Req, 2)) / ch;\n",
    "    return t80;\n",
    "}\n",
    "\n",
    "document.getElementById(\"runBtn\").addEventListener(\"click\", function() {\n",
    "    let ch = parseFloat(document.getElementById(\"ch\").value);\n",
    "    let Do = parseFloat(document.getElementById(\"D_outer\").value);\n",
    "    let t = parseFloat(document.getElementById(\"t\").value);\n",
    "    let PLR = parseFloat(document.getElementById(\"PLR\").value);\n",
    "\n",
    "    let result = dissipation(Do, t, PLR, ch);\n",
    "    document.getElementById(\"result\").textContent = result.toFixed(0) + \" days to reach 80% consolidation\";\n",
    "});\n",
    "</script>\n"
   ]
  },
  {
   "cell_type": "markdown",
   "id": "eb4aec20-90a0-42f0-906a-7abcbb2db94a",
   "metadata": {},
   "source": [
    "<details>\n",
    "  <summary>Answer</summary>\n",
    "  1. 3 days\n",
    "  2. 101 days\n",
    "  3. 1040 days\n",
    "</details>\n",
    "::: \n",
    "<!-- #End of Quarto callout -->"
   ]
  },
  {
   "cell_type": "markdown",
   "id": "e1a286ec-cdb1-427c-a2de-8a0daa686f90",
   "metadata": {},
   "source": [
    "## Loading\n",
    "When a pile is loaded, excess porewater pressures are developed again, reducing the radial effective stresses and the shaft resistance.\n",
    "\n",
    "Because of this, a load reduction factor $f_L$ is commonly used, essentially representing the ratio of the radial effective stress at peak shear stress to the equalised radial effective stress:\n",
    "\n",
    "$$\n",
    "f_L = \\frac{\\sigma'_{rf}}{\\sigma'_{rc}}\n",
    "$$\n",
    "\n",
    "An example of this is shown in @fig-load-factor-clay, where the lightly OC soils of Bothkennar and Onsøy show $f_L$ ratios of around 0.8. Crucially, the plot also includes Lierstranda—a test site on sensitive clays. Here, the the ratio of peak radial stress under loading to the radial stress after consolidation is much lower, suggesting further remoulding and strength degradation of the sensitive clay had a substantial affect on its resistance. \n",
    "\n",
    "![Comparison of the load factor $f_L$ in low OCR clays [@lehaneDisplacementpileBehaviourSoft1994] as well as a plot of the Unified database [@lehaneCharacteristicsUnifiedDatabases2017] on a Soil Behaviour Type chart ](pics/axial/load-factor-clay.png){#fig-load-factor-clay}\n"
   ]
  },
  {
   "cell_type": "markdown",
   "id": "1bc226f5-6952-4f3e-8acc-bd75b3def9a7",
   "metadata": {
    "tags": []
   },
   "source": [
    "# Open-ended piles\n",
    "## Plugging\n",
    "Instrumented pile test data reported by @dohertyShaftCapacityOpenended2011 showed that lower levels of soil displacement during installation of open-ended piles lead to lower installation radial total stresses $\\sigma_{ri}$ and lower shaft resistances both during installation and after equalisation (@fig-shaft-resistance).\n",
    "\n",
    "These results showed that the normalised radial effective stresses mobilised during installation could be expressed as:\n",
    "\n",
    "$$\n",
    "S_i = \\frac{\\sigma_{ri}-u_0}{q_t} = a A_{re}^b \\frac{h}{D}^{-c}\n",
    "$$\n",
    "\n",
    "where $a$, $b$ and $c$ are calibration coefficients that depend on soil properties.\n",
    "\n",
    "![External shaft resistances on (a.) a closed-ended pile and (b.) a partially plugged open-ended pile [@dohertyShaftCapacityOpenended2011]. Note the differences in x-axis scales.](pics/axial/doherty11-fig11.JPG){#fig-shaft-resistance width=70%}\n"
   ]
  },
  {
   "cell_type": "markdown",
   "id": "db646ade-71d9-443e-9c85-795ff7d7164f",
   "metadata": {},
   "source": [
    "In terms of the base capacity, @dohertyFieldInvestigationBase2010 also recommended a comparable formulation to that in sand, whereby: \n",
    "\n",
    "$$\n",
    "q_{b,0.1} = (0.2 + 0.6 A_{re})q_t\n",
    "$$\n",
    "\n",
    "This equation implies that the undrained base capacity of a large offshore pile is $0.2q_t$ and $0.8q_t$ for closed-ended piles. \n",
    "\n",
    "![Annular and plug resistances measured during the installation of a twin-walled pile](pics/axial/doherty11-base-response.JPG){#fig-shaft-resistance width=70%}\n",
    "\n",
    "::: {.callout-note}\n",
    "The base resistance of piles in clay usually represents just a small proportion of the pile's total resistance. As a result, there's generally a lack of research focussing the base resistance and plug contribution. \n",
    ":::"
   ]
  }
 ],
 "metadata": {
  "kernelspec": {
   "display_name": "Python 3 (ipykernel)",
   "language": "python",
   "name": "python3"
  },
  "language_info": {
   "codemirror_mode": {
    "name": "ipython",
    "version": 3
   },
   "file_extension": ".py",
   "mimetype": "text/x-python",
   "name": "python",
   "nbconvert_exporter": "python",
   "pygments_lexer": "ipython3",
   "version": "3.11.5"
  }
 },
 "nbformat": 4,
 "nbformat_minor": 5
}
