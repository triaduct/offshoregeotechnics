{
 "cells": [
  {
   "cell_type": "markdown",
   "id": "100b4c7a-3ad0-4d7c-829d-2e2d6b5f2db5",
   "metadata": {},
   "source": [
    "---\n",
    "title: \"Marine geology\"\n",
    "subtitle: \"Why are offshore soil conditions unique?\"\n",
    "bibliography: ../bibliography.bib\n",
    "---"
   ]
  },
  {
   "cell_type": "markdown",
   "id": "e336526c-6ee0-48e7-b959-01685afb892e",
   "metadata": {},
   "source": [
    "Understanding the origins of seabed material is an important step in geohazard identification and understanding the properties and variability in the surface. For this chapter, we will first take a cursory overview of the geological processes which affect what soils we see underneath the sea. \n",
    "\n",
    "Later in **CHAPTER XX** we will look at more unique soil conditions, including carbonate soils, glauconite and chalk. "
   ]
  },
  {
   "cell_type": "markdown",
   "id": "3ea77302-aff6-42a3-ab9d-6b645583a36d",
   "metadata": {},
   "source": [
    "## Marine Zones\n",
    "The marine environment can be classified into four main zones (@fig-marine-zones):\n",
    "\n",
    "1. The continental shelf\n",
    "2. The continental slope\n",
    "3. The continental rise\n",
    "4. The abyssal plain\n",
    "\n",
    "::: {#fig-marine-zones layout-ncol=2}\n",
    "\n",
    "![Marine zones](pics/marine-zones.jpg){#fig-continental-shelf width=80%}\n",
    "\n",
    "![Hypsometric curve showing the different marine zones](pics/hypsometric-curve.png){#fig-hypsometric-curve}\n",
    "\n",
    ":::"
   ]
  },
  {
   "cell_type": "markdown",
   "id": "5ce9d724-6f9a-4d1b-a656-27fcd4d221c4",
   "metadata": {},
   "source": [
    "### Continental shelf\n",
    "The continental shelf is the shallowest part of the seafloor, essentially representing the flooded extension of each continent. reaching depths of no more than 200m and a relatively gentle gradient (1&deg;).\n",
    "\n",
    "Offshore wind projects are almmost entirely on the continental shelf. \n",
    "\n",
    "\n",
    "![The continental shelf makes up the areas in light blue--with just the minor exception some mid-ocean ridges formed at tectonic plate boundaries](pics/continental-shelf-globe.png){#fig-continental-shelf width=70%}\n",
    "\n",
    "Furthermore, past glacial activity sea level fluctuations means that the marine conditions currently prevalent may have been different in the past. Take the Dutch North Sea Sector for example. During the late-Pleistocene epoch (at least 10,000 years ago), temperatures were much colder than they were today, and so too were the glaciers and ice caps in the northern latitudes. As a result, sea levels were much lower and the Ntherlands and the UK were directly connected by land, an area known as Doggerland. Just like today, the Rhine-Maas-Scheldt rivers flowed through the Netherlands and out across Doggerland, bringing clay, silt and sand from the mountains in Germany, Luxembourg and beyond. As the river slowed down across the relatively gently sloping Doggerland, sands and gravels were given a chance to come out of suspension, and the clays and silts continued on in transportation towards the then-coastline, where the river starts to come to a sandstill.\n",
    "\n",
    "The start of the Holocene epoch (10,000 years ago to present day) is signified by warmer temperatures and rising sea levels. This again changed the depositional environment in the North Sea from fluvial (river) deposits to marine deposits--generally a shell-rich sand formation known as the Southern Bight Formation. Onshore in the Netherlands, stagnating water gave a change for clays and silts to deposit, as well as the formation of peat bogs--leading to the soft soils enveloping much of the country today.\n",
    "\n",
    "![What the Dutch coast may have looked like the end of the Pleisotecene epoch (10,000-20,000 years ago)](pics/geology/doggerland.png){#fig-doggerland width=70%}\n",
    "\n",
    "The continental shelf is also quite geologically active, and creating a number of **geohazards**. Continental shelves are a dynamic environment, being strongly affect by waves, current One example includes tidal dunes.\n",
    "\n",
    "**Morphodynamic surveys** are therefore an important part of the design and planning--describing the study of how dynamic processses, particularly those related to water and sediment movement, shape the Earth's surface. \n",
    "\n",
    "\n",
    " Morphodynamic surveys study the\n",
    "\n",
    "![Bathymetric chart from Hollandse Kust West, showing mega ripples (large-scale features in red) and meg [offshorewind.rvo.nl](https://offshorewind.rvo.nl/)](pics/geology/sand-waves.png){#fig-sand-waves width=70%}\n",
    "\n",
    "\n",
    "Other features are also evident on the continental shelf **tidal dunes, spits etc**\n",
    "\n",
    "**CONTINUE FROM JORDY'S NOTES***"
   ]
  },
  {
   "cell_type": "markdown",
   "id": "b2473364-9631-4342-b0c0-4d31ef0e0f5a",
   "metadata": {},
   "source": [
    "### Continental slope\n",
    "**The continental slope**: a steep slope (up to 30&deg;) that marks the seaward edge of the continental shelf, transitioning to the gently sloping abyssal plain. The topography and geology in this area is complex: dictated by mass-wasting processes like slope failures, submarine canyons and turbidity currents.\n"
   ]
  },
  {
   "cell_type": "markdown",
   "id": "be8bb780-284c-4519-adc2-6ac2a1a488bd",
   "metadata": {},
   "source": [
    "### Continental rise\n",
    "The gradient reduces across continental rise as it connects the upper continental shelf to the lower abyssal plain. Generally low sedimentation rates with very soft, often underconsolidated sediments."
   ]
  },
  {
   "cell_type": "markdown",
   "id": "745cddf2-2cca-448a-9c8f-038db3fe900a",
   "metadata": {},
   "source": [
    "### Abyssal plain\n",
    "The abyssal plane is the deep ocean floor, and is generally smooth and unaffected by many geological or hydrodynamical activities with the only exception of mass movement processes or turbidity currents. The lows sedimentation rate means the abyssal plain is often composed of very soft, underconsolidated sediments.\n",
    "\n",
    "nd there are seldom any offshore activities in general on the continental rise and the abyssal plain.\n",
    "\n",
    "Figure showing depositional environments a la Jordy"
   ]
  },
  {
   "cell_type": "markdown",
   "id": "136819fc-9c0e-4d23-aa22-b56713cea4cd",
   "metadata": {},
   "source": [
    "## Marine sediments\n",
    "Although the continental margins cover only 20% of the seabed, they contain nearly 75% of the total marine seidment. Here, the stratigraphy often governed by the same geological processes that affect onshore deposition, with deposits being supplied from rivers, coastal erosion, aeolian or glacial activities. These deposits are known as **terrigenous sediment**, that is, sediment transported by land. This sediment tends to be granular silicate-based minerals, such as quartz and feldspar, and a re principally formed from the erosion of rocks.\n",
    "\n",
    "Alternatively, sediment may be deposited through the settling of light, fine-grained particles far away from land where the geological activity is relatively low. These are known as **Pelagic sediments** and they get deposited so slowly, that nearshore and coastal areas are overwhelmed by terrigenous deposits. \n",
    "\n",
    "Pelagic sediment can be derived from onshore deposits which get blown into the ocean, eventually settling through the water column and onto the seabed. They may also come from the insoluble remains of marine organisms (known as **biogenic sediment**, like the skeletons of plankton, shells or coral. These insolube remains can be formed of calcite or silica--Calcite organisms are more common in shallow water and temperate tropical climates (giving rise to limestone or chalk), whilst silica organisms  are more common in the polar regions or at the equator and in very deep water.\n",
    "\n",
    "The structure of carbonate sand can be vastly differnt to silica sand (**Figure XX**). We'll see later in **Chapter REF** the consequences this may have geotechnically, and how to respond to this. \n",
    "\n",
    "![Carbonate vs silica sand [@xiaoGrainCrushingGeoscience2020]](pics/geology/carbonate-sand.png){#fig-carbonate-sand width=70%}\n",
    "\n",
    "\n",
    "See Randolph & Gouvernec p46"
   ]
  },
  {
   "cell_type": "markdown",
   "id": "9d132c44-9e9a-47c4-afde-70437849c13c",
   "metadata": {},
   "source": [
    "## Depositional environments\n",
    "Depositional environments determine what kind of sediments get deposited, essentially describing the set of physical, chemical or biological processes in which sediments, soil and rocks are added to a landform or land mass. Whether light, fine-grained clays or heavy, coarse-grained gravels get deposited, is function of the energy in the local environment. Taking @fig-null-point-theory as an example, only heavy sands and gravels can fall out of suspension near the shore--since either river mouths or wave action prevents lighter particles from falling out of suspension. The depositional energy will also affect the particle roundness and sphericity. \n",
    "\n",
    "![Sediment distribution across a shoreline profile, showing the so-called \"null point theory\"](pics/geology/null-point-theory.png){#fig-null-point-theory width=70%}\n",
    "\n",
    "Nevertheless @fig-null-point-theory is a just a hypothetical example. In reality, local variations and subsequent changes in geological conditions will also affect the type of sediment we see, \n"
   ]
  },
  {
   "cell_type": "markdown",
   "id": "f347bc0b-b5a6-4535-94b9-eaa605567b92",
   "metadata": {},
   "source": [
    "::: {.grid}\n",
    "::: {.g-col-6}\n",
    "![](pics/geology/lacustrine.jpg)\n",
    "**Lacustrine (lakes/wetlands)**  \n",
    "A low energy environment with high sedimentation rates, resulting in primarily fine-grained seidments with high organic contents. Evaporitic deposits are also possible in arid regions, as are varved (laminated) soils if seasonal fluctuations in inflow rate soccur. \n",
    ":::\n",
    "\n",
    "::: {.g-col-6}\n",
    "![](pics/geology/aeolian.jpg)\n",
    "**Aeolian (wind-blown)**  \n",
    "Wind-blown sediment in typicall dry areas. Generally well-sorted, rounded fine sand dominated by quartz.\n",
    ":::\n",
    "\n",
    "::: {.g-col-6}\n",
    "![](pics/geology/fluvial.jpg){width=100%}  \n",
    "**Fluvial (river-deposited)**  \n",
    "The deposit largely depends on the type of river and the level of hydrodynamic activity. Often fine-grained sediment gets brought to sea or deposited in lakes or across flood plains. High lateral variability and sometimes erosion and channelisation of underlying sediment. \n",
    ":::\n",
    "\n",
    "::: {.g-col-6}\n",
    "![](pics/geology/glacial.PNG){width=100%}  \n",
    "**Glacial** \n",
    "Hugely variable, depending on the glacial process. Examples of sediment includes boulder clay (generally unsorted, unstratified **[...]**) or outwash sediment (mainly gravel, sand and silt of various degrees of sorting)\n",
    ":::\n",
    ":::\n",
    "\n",
    "**any more to add?*\n",
    "\n",
    "**Add note re. coonslidation state**"
   ]
  },
  {
   "cell_type": "markdown",
   "id": "a92e7223-ae58-4bfe-9522-1eb20a91396c",
   "metadata": {},
   "source": [
    "**Mention presence of peats and also include picture of the North Sea beach.**"
   ]
  }
 ],
 "metadata": {
  "kernelspec": {
   "display_name": "Python 3 (ipykernel)",
   "language": "python",
   "name": "python3"
  },
  "language_info": {
   "codemirror_mode": {
    "name": "ipython",
    "version": 3
   },
   "file_extension": ".py",
   "mimetype": "text/x-python",
   "name": "python",
   "nbconvert_exporter": "python",
   "pygments_lexer": "ipython3",
   "version": "3.11.5"
  }
 },
 "nbformat": 4,
 "nbformat_minor": 5
}
