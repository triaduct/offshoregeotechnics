{
 "cells": [
  {
   "cell_type": "markdown",
   "id": "100b4c7a-3ad0-4d7c-829d-2e2d6b5f2db5",
   "metadata": {},
   "source": [
    "---\n",
    "title: \"Marine geology\"\n",
    "subtitle: \"Why are offshore soil conditions unique?\"\n",
    "bibliography: ../bibliography.bib\n",
    "---"
   ]
  },
  {
   "cell_type": "markdown",
   "id": "e336526c-6ee0-48e7-b959-01685afb892e",
   "metadata": {},
   "source": [
    "Understanding the origins of seabed material is an important step in geohazard identification and understanding the properties and variability in the surface. For this chapter, we will first take a cursory overview of the geological processes which affect what soils we see underneath the sea. Later in the course, we will look more at the engineering properties of unique, biogenic sediment: including carbonate soils, glauconite and chalk. "
   ]
  },
  {
   "cell_type": "markdown",
   "id": "ae262938-395f-43ee-8607-00b3e321df11",
   "metadata": {},
   "source": [
    "## Plate tectonics and marine zones\n",
    "The earth's crust is broken into pieces is broken into separate pieces called **tectonic plates**. These plates essentially float atop of the mantle, almost like a thick molten tar, and can move independently and interact with one another. This gives rise to events such as collisions, subduction (when one plate plunges beneath the other) or sliding, which have a huge impact on the geological landscape we see today.\n",
    "\n",
    "Tectonic plates can be made from one of two different types of material: (1) the less-dense continental crust and (2) the more-dense oceanic crust. The continental crust is also much thicker (as much as 100 km) than the oceanic crust (only about 5 km thick). However, the differences in density leads to most of continental crust floating up above sea level, unlike the oceanic crust. \n",
    "\n",
    "There's therefore a significant elevation change as we go from land to the deep ocean (@fig-hypsometric-curve). To keep these changes in mind, the marine environment is therefore classified into four main zones:\n",
    "\n",
    "1. The continental shelf\n",
    "2. The continental slope\n",
    "3. The continental rise\n",
    "4. The abyssal plain\n",
    "\n",
    "There are seldom any offshore activities in general on the continental rise and the abyssal plain, with most of it taking place on the continental shelf.\n",
    "\n",
    "::: {#fig-marine-zones layout-ncol=2}\n",
    "\n",
    "![Marine zones](pics/geology/marine-zones.jpg){#fig-continental-shelf width=80%}\n",
    "\n",
    "![Hypsometric curve showing the different marine zones](pics/geology/hypsometric-curve.png){#fig-hypsometric-curve}\n",
    "\n",
    ":::"
   ]
  },
  {
   "cell_type": "markdown",
   "id": "5ce9d724-6f9a-4d1b-a656-27fcd4d221c4",
   "metadata": {
    "jp-MarkdownHeadingCollapsed": true,
    "tags": []
   },
   "source": [
    "### Continental shelf\n",
    "The continental shelf is the shallowest part of the seafloor, essentially representing the flooded extension of each continental plate. The continental shelf rarely reaches depths of more than 200m and also has a relatively gentle gradient (1&deg;). \n",
    "\n",
    "![The continental shelf makes up the areas in light blue--with just the minor exception of some mid-ocean ridges formed at tectonic plate boundaries](pics/geology/continental-shelf-globe.png){#fig-continental-shelf width=70%}\n",
    "\n",
    "The shallow waters of the continental shelf means that offshore projects are usually located on the continental shelf—especially offshore wind projects. However, continental shelves also tend to be quite complex from a geological point-of-view. Changes in sea level means that continental shelves may have once between subject to the different onshore geological processes, as shown later in [@sec-depositional-environments]. \n",
    "\n",
    "\n",
    "::: {.callout-tip title=\"Example: 50,000 years of deposition across the Dutch North Sea Sector\" collapse=\"true\"}\n",
    "Past glacial activity meant that the marine conditions across the Dutch North Sea Sector were much different in the past. Worldwide temperatures were much colder in the late-Pleistocene epoch (at least 10,000 years ago). Therefore, glaciers and ice caps were also much larger, bringing with it a global reduction in sea levels.\n",
    "\n",
    "![What the Dutch coast may have looked like the end of the Pleisotecene epoch (10,000-20,000 years ago)](pics/geology/doggerland.png){#fig-doggerland width=80%}\n",
    "\n",
    "As a result, the Netherlands and the UK were directly connected by land—an area known as Doggerland. Just like today, the Rhine-Maas-Scheldt rivers flowed through the Netherlands and out across Doggerland, bringing clay, silt and sand from the mountains in Germany, Luxembourg and beyond. As the river slowed down across the relatively gently sloping Doggerland, sands and gravels were given a chance to come out of suspension, and the clays and silts continued on in transportation towards the then-coastline, where the river starts to come to a sandstill. These sands often belong to sand formation known as the [Kreftenheye Formation](https://www.dinoloket.nl/en/stratigraphic-nomenclature/kreftenheye-formation), a formation colloquially known as simply the \"Pleistocene sand\" to Dutch onshore engineers. \n",
    "\n",
    "The start of the Holocene epoch (10,000 years ago to present day) was signified by warmer temperatures and rising sea levels. Once again, the depositional environment in the North Sea changed from fluvial (river) deposits to marine deposits—generally a shell-rich sand formation known as the [Southern Bight Formation](https://www.dinoloket.nl/en/stratigraphic-nomenclature/southern-bight-formation). Onshore in the Netherlands, stagnating water gave the opportunity for clays and silts to deposit, as well as the formation of peat bogs—leading to the soft soils enveloping much of the country today.\n",
    ":::\n",
    "\n",
    "Moreover, the daily action of winds, waves, tides and coastal erosion means the continental shelf can still be an environment in flux. **Morphodynamic surveys** are therefore an important part of the design and planning--describing the study of how dynamic processses, particularly those related to water and sediment movement, shape the Earth's surface. \n",
    "\n",
    "![Bathymetric chart from Hollandse Kust West, showing sand waves (large-scale features in red) and megaripples [offshorewind.rvo.nl](https://offshorewind.rvo.nl/)](pics/geology/sand-waves.png){#fig-sand-waves width=70%}\n"
   ]
  },
  {
   "cell_type": "markdown",
   "id": "b2473364-9631-4342-b0c0-4d31ef0e0f5a",
   "metadata": {},
   "source": [
    "### Continental slope\n",
    "**The continental slope** is a steep slope (up to 30&deg;) that marks the seaward edge of the continental shelf, transitioning to the gently sloping abyssal plain (in other words, transitioning from continental to oceanic crust). The topography and geology in this area is complex: dictated by mass-wasting processes like slope failures, submarine canyons and turbidity currents."
   ]
  },
  {
   "cell_type": "markdown",
   "id": "be8bb780-284c-4519-adc2-6ac2a1a488bd",
   "metadata": {},
   "source": [
    "### Continental rise\n",
    "The continental rise describes the reducing gradient as the continental slope approaches the abyssal plain. The zone consists of primarily accumulated sediment. This come from mass-wasting processes occurring further up on the continental slope: with gravity bringing the sediment downwards, settling down on the continental rise. Alternatively, the sediment may accumulate at the end of submarine canyons (@fig-continental-shelf), forming what are known as alluvial fans.  "
   ]
  },
  {
   "cell_type": "markdown",
   "id": "745cddf2-2cca-448a-9c8f-038db3fe900a",
   "metadata": {},
   "source": [
    "### Abyssal plain\n",
    "The abyssal plain is the deep ocean floor that lies directly on the top of the oceanic crust. It is generally smooth and unaffected by many geological or hydrodynamical activities with the only exception of some mass movement processes or turbidity currents. The low sedimentation rate means the abyssal plain is often composed of very soft, underconsolidated sediments. "
   ]
  },
  {
   "cell_type": "markdown",
   "id": "136819fc-9c0e-4d23-aa22-b56713cea4cd",
   "metadata": {},
   "source": [
    "## Marine sediments\n",
    "Although the continental margins cover only 20% of the seabed, they contain nearly 75% of the total marine seidment. Here, the stratigraphy often governed by the same geological processes that affect onshore deposition, with deposits being supplied from rivers, coastal erosion, aeolian or glacial activities. These deposits are known as **terrigenous sediment**, that is, sediment transported by land. This sediment tends to be granular silicate-based minerals, such as quartz and feldspar, and are usually formed from the erosion of rocks.\n",
    "\n",
    "Alternatively, sediment may be deposited through the settling of light, fine-grained particles far away from land where the geological activity is relatively low. These are known as **pelagic sediments** and they get deposited so slowly, that nearshore and coastal areas are overwhelmed by terrigenous deposits. Pelagic sediment can be derived from onshore deposits which get blown into the ocean, eventually settling through the water column and onto the seabed. \n",
    "\n",
    "**Biogenic sediment** is a sub-category of pelagic sediment. Biogenic sediment comes from the insoluble remains of marine organisms, like the skeletons of plankton, shells or coral. These insolube remains can be formed of calcite or silica. Calcite organisms are more common in shallow water and temperate tropical climates (giving rise to limestone or chalk), whilst silica organisms are more common in the polar regions or at the equator and in very deep water.\n",
    "\n",
    "The structure of calcitic biogenic sediment (e.g. carbonate sand) can be vastly different to silica sand (@fig-carbonate-sand): its almost skeletal-like nature means it is much more prone to crushing compared to silica sand. We'll see later in the course notes how we respond to these soils from a geotechnical point-of-view. \n",
    "\n",
    "![Carbonate vs silica sand [@xiaoGrainCrushingGeoscience2020]](pics/geology/carbonate-sand.png){#fig-carbonate-sand width=70%}\n"
   ]
  },
  {
   "cell_type": "markdown",
   "id": "9d132c44-9e9a-47c4-afde-70437849c13c",
   "metadata": {},
   "source": [
    "## Depositional environments {#sec-depositional-environments}\n",
    "Depositional environments determine what kind of sediments get deposited, essentially describing the set of physical, chemical or biological processes in which sediments, soil and rocks are added to a landform or land mass. \n",
    "\n",
    "![Different types of depositional environments [(source)](https://en.wikipedia.org/wiki/Depositional_environment#/media/File:Main_depositional_environments.svg)](pics/geology/depositional-environments.jpg){#fig-depositional-environments width=70%}\n"
   ]
  },
  {
   "cell_type": "markdown",
   "id": "f347bc0b-b5a6-4535-94b9-eaa605567b92",
   "metadata": {},
   "source": [
    "Some selected environments include: \n",
    "\n",
    "::: {.grid}\n",
    "::: {.g-col-6}\n",
    "![](pics/geology/lacustrine.jpg)\n",
    "**Lacustrine (lakes/wetlands)**  \n",
    "A low energy environment with high sedimentation rates, resulting in primarily fine-grained seidments with high organic contents. Evaporitic deposits are also possible in arid regions, as are varved (laminated) soils if there are seasonal fluctuations in inflow rates. \n",
    ":::\n",
    "\n",
    "::: {.g-col-6}\n",
    "![](pics/geology/aeolian.jpg)\n",
    "**Aeolian (wind-blown)**  \n",
    "Wind-blown sediment in what are usually dry or well-drained areas, such as around coastal dunes or deserts. Sediment is generally well-sorted, rounded fine sand dominated by quartz.\n",
    ":::\n",
    "\n",
    "::: {.g-col-6}\n",
    "![](pics/geology/fluvial.jpg){width=100%}  \n",
    "**Fluvial (river-deposited)**  \n",
    "The resulting sediment largely depends on the type of river and the level of hydrodynamic activity. Often fine-grained sediment gets brought to sea or deposited in lakes or across flood plains. High lateral variability and sometimes erosion and channelisation of underlying sediment. \n",
    ":::\n",
    "\n",
    "::: {.g-col-6}\n",
    "![](pics/geology/glacial.PNG){width=100%}  \n",
    "**Glacial** \n",
    "Hugely variable deposits that depend on the specific glacial process. Examples of sediment includes boulder clay (generally unsorted and unstratified) or outwash sediment (mainly gravel, sand and silt of various degrees of sorting)\n",
    ":::\n",
    ":::\n"
   ]
  },
  {
   "cell_type": "markdown",
   "id": "2f34e40b-ad06-44c9-9c72-f30acc6b5e8a",
   "metadata": {},
   "source": [
    "Whether it's light, fine-grained clays that get deposited, or heavy, coarse-grained gravels is not just a function of the depositional environment but also the energy within this environment. Taking @fig-river-gradation as an example, only heavy sands and gravels can fall out of suspension near the shore—since river mouths or wave action (for example) prevents lighter particles from falling out of suspension. The depositional energy will also affect the particle roundness and sphericity. \n",
    "\n",
    "Nevertheless @fig-river-gradation is just a hypothetical example. In reality, local variations and subsequent changes in geological conditions will also affect the type of sediment we see. \n",
    "\n",
    "::: {#fig-river-gradation layout-nrow=2}\n",
    "\n",
    "![Sediment distribution across a shoreline profile, showing the so-called \"null point theory\" [(source)](https://en.wikipedia.org/wiki/Deposition_(geology)#/media/File:Null_point_theory_image1.png)](pics/geology/null-point-theory.png){#fig-null-point-theory width=90%}\n",
    "\n",
    "![Hjulström's cruve, used for evaluating the likelihood of erosion, transportation or sedimentation in a river [(source)](https://en.wikipedia.org/wiki/Hjulstr%C3%B6m_curve#/media/File:Hjulstr%C3%B6ms_diagram_en.PNG)](pics/geology/hjulstrom.png){#fig-hjulstrom width=60%}\n",
    "\n",
    "Influence of particle size/weight and flow velocity on the type of deposition that will occur\n",
    ":::\n",
    "\n"
   ]
  }
 ],
 "metadata": {
  "kernelspec": {
   "display_name": "Python 3 (ipykernel)",
   "language": "python",
   "name": "python3"
  },
  "language_info": {
   "codemirror_mode": {
    "name": "ipython",
    "version": 3
   },
   "file_extension": ".py",
   "mimetype": "text/x-python",
   "name": "python",
   "nbconvert_exporter": "python",
   "pygments_lexer": "ipython3",
   "version": "3.11.5"
  }
 },
 "nbformat": 4,
 "nbformat_minor": 5
}
